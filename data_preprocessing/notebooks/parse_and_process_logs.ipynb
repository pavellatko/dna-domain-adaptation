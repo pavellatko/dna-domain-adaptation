{
 "cells": [
  {
   "cell_type": "code",
   "execution_count": 1,
   "metadata": {},
   "outputs": [],
   "source": [
    "import itertools\n",
    "import os\n",
    "import numpy as np\n",
    "import pandas as pd"
   ]
  },
  {
   "cell_type": "code",
   "execution_count": 2,
   "metadata": {},
   "outputs": [],
   "source": [
    "d_experiment_logs = './logs/'"
   ]
  },
  {
   "cell_type": "code",
   "execution_count": 3,
   "metadata": {},
   "outputs": [
    {
     "data": {
      "text/plain": [
       "(['./logs//test_1.log',\n",
       "  './logs//test_2.log',\n",
       "  './logs//test_3.log',\n",
       "  './logs//test_4.log',\n",
       "  './logs//test_5.log',\n",
       "  './logs//test_6.log',\n",
       "  './logs//test_7.log',\n",
       "  './logs//test_8.log'],\n",
       " ['./logs//train_1.log',\n",
       "  './logs//train_2.log',\n",
       "  './logs//train_3.log',\n",
       "  './logs//train_4.log',\n",
       "  './logs//train_5.log',\n",
       "  './logs//train_6.log',\n",
       "  './logs//train_7.log',\n",
       "  './logs//train_8.log'])"
      ]
     },
     "execution_count": 3,
     "metadata": {},
     "output_type": "execute_result"
    }
   ],
   "source": [
    "test_logs = [f\"{d_experiment_logs}/{x}\" for x in sorted(os.listdir(d_experiment_logs)) if x.startswith('test')]\n",
    "train_logs = [f\"{d_experiment_logs}/{x}\" for x in sorted(os.listdir(d_experiment_logs)) if x.startswith('train')]\n",
    "test_logs, train_logs"
   ]
  },
  {
   "cell_type": "code",
   "execution_count": 4,
   "metadata": {},
   "outputs": [
    {
     "data": {
      "text/html": [
       "<div>\n",
       "<style scoped>\n",
       "    .dataframe tbody tr th:only-of-type {\n",
       "        vertical-align: middle;\n",
       "    }\n",
       "\n",
       "    .dataframe tbody tr th {\n",
       "        vertical-align: top;\n",
       "    }\n",
       "\n",
       "    .dataframe thead tr th {\n",
       "        text-align: left;\n",
       "    }\n",
       "\n",
       "    .dataframe thead tr:last-of-type th {\n",
       "        text-align: right;\n",
       "    }\n",
       "</style>\n",
       "<table border=\"1\" class=\"dataframe\">\n",
       "  <thead>\n",
       "    <tr>\n",
       "      <th>data</th>\n",
       "      <th colspan=\"3\" halign=\"left\">His.ALL.05.H3K79me1.AllCell.dm6.mm10</th>\n",
       "      <th colspan=\"3\" halign=\"left\">His.ALL.05.H3K79me1.AllCell.hg38.ce11</th>\n",
       "      <th colspan=\"3\" halign=\"left\">His.ALL.05.H3K79me1.AllCell.ce11.mm10</th>\n",
       "      <th>His.ALL.05.H3K79me1.AllCell.mm10.hg38</th>\n",
       "      <th>...</th>\n",
       "      <th>His.ALL.05.H3K79me1.AllCell.mm10.ce11</th>\n",
       "      <th colspan=\"3\" halign=\"left\">His.ALL.05.H3K79me1.AllCell.hg38.dm6</th>\n",
       "      <th colspan=\"3\" halign=\"left\">His.ALL.05.H3K79me1.AllCell.ce11.hg38</th>\n",
       "      <th colspan=\"3\" halign=\"left\">His.ALL.05.H3K79me1.AllCell.dm6.ce11</th>\n",
       "    </tr>\n",
       "    <tr>\n",
       "      <th>metric_type</th>\n",
       "      <th>accuracy</th>\n",
       "      <th>pr_auc</th>\n",
       "      <th>roc_auc</th>\n",
       "      <th>accuracy</th>\n",
       "      <th>pr_auc</th>\n",
       "      <th>roc_auc</th>\n",
       "      <th>accuracy</th>\n",
       "      <th>pr_auc</th>\n",
       "      <th>roc_auc</th>\n",
       "      <th>accuracy</th>\n",
       "      <th>...</th>\n",
       "      <th>roc_auc</th>\n",
       "      <th>accuracy</th>\n",
       "      <th>pr_auc</th>\n",
       "      <th>roc_auc</th>\n",
       "      <th>accuracy</th>\n",
       "      <th>pr_auc</th>\n",
       "      <th>roc_auc</th>\n",
       "      <th>accuracy</th>\n",
       "      <th>pr_auc</th>\n",
       "      <th>roc_auc</th>\n",
       "    </tr>\n",
       "    <tr>\n",
       "      <th>method</th>\n",
       "      <th></th>\n",
       "      <th></th>\n",
       "      <th></th>\n",
       "      <th></th>\n",
       "      <th></th>\n",
       "      <th></th>\n",
       "      <th></th>\n",
       "      <th></th>\n",
       "      <th></th>\n",
       "      <th></th>\n",
       "      <th></th>\n",
       "      <th></th>\n",
       "      <th></th>\n",
       "      <th></th>\n",
       "      <th></th>\n",
       "      <th></th>\n",
       "      <th></th>\n",
       "      <th></th>\n",
       "      <th></th>\n",
       "      <th></th>\n",
       "      <th></th>\n",
       "    </tr>\n",
       "  </thead>\n",
       "  <tbody>\n",
       "    <tr>\n",
       "      <th>adda</th>\n",
       "      <td>72.064</td>\n",
       "      <td>80.279</td>\n",
       "      <td>80.571</td>\n",
       "      <td>51.136</td>\n",
       "      <td>61.861</td>\n",
       "      <td>55.846</td>\n",
       "      <td>57.091</td>\n",
       "      <td>62.195</td>\n",
       "      <td>64.091</td>\n",
       "      <td>53.693</td>\n",
       "      <td>...</td>\n",
       "      <td>57.921</td>\n",
       "      <td>62.253</td>\n",
       "      <td>64.639</td>\n",
       "      <td>67.116</td>\n",
       "      <td>47.443</td>\n",
       "      <td>53.278</td>\n",
       "      <td>49.990</td>\n",
       "      <td>63.494</td>\n",
       "      <td>62.002</td>\n",
       "      <td>66.662</td>\n",
       "    </tr>\n",
       "    <tr>\n",
       "      <th>afn</th>\n",
       "      <td>76.649</td>\n",
       "      <td>87.276</td>\n",
       "      <td>85.090</td>\n",
       "      <td>56.676</td>\n",
       "      <td>61.314</td>\n",
       "      <td>56.082</td>\n",
       "      <td>68.191</td>\n",
       "      <td>78.216</td>\n",
       "      <td>78.335</td>\n",
       "      <td>55.966</td>\n",
       "      <td>...</td>\n",
       "      <td>39.119</td>\n",
       "      <td>61.614</td>\n",
       "      <td>64.980</td>\n",
       "      <td>65.478</td>\n",
       "      <td>53.125</td>\n",
       "      <td>58.624</td>\n",
       "      <td>51.680</td>\n",
       "      <td>60.085</td>\n",
       "      <td>66.107</td>\n",
       "      <td>67.956</td>\n",
       "    </tr>\n",
       "    <tr>\n",
       "      <th>cdan</th>\n",
       "      <td>67.753</td>\n",
       "      <td>74.619</td>\n",
       "      <td>76.440</td>\n",
       "      <td>53.125</td>\n",
       "      <td>55.542</td>\n",
       "      <td>60.980</td>\n",
       "      <td>68.444</td>\n",
       "      <td>79.944</td>\n",
       "      <td>78.894</td>\n",
       "      <td>62.216</td>\n",
       "      <td>...</td>\n",
       "      <td>50.538</td>\n",
       "      <td>57.118</td>\n",
       "      <td>59.263</td>\n",
       "      <td>59.394</td>\n",
       "      <td>48.295</td>\n",
       "      <td>58.720</td>\n",
       "      <td>52.903</td>\n",
       "      <td>52.841</td>\n",
       "      <td>57.759</td>\n",
       "      <td>51.153</td>\n",
       "    </tr>\n",
       "    <tr>\n",
       "      <th>dan</th>\n",
       "      <td>70.620</td>\n",
       "      <td>78.989</td>\n",
       "      <td>81.306</td>\n",
       "      <td>43.466</td>\n",
       "      <td>48.993</td>\n",
       "      <td>40.648</td>\n",
       "      <td>64.796</td>\n",
       "      <td>73.241</td>\n",
       "      <td>75.901</td>\n",
       "      <td>57.670</td>\n",
       "      <td>...</td>\n",
       "      <td>45.330</td>\n",
       "      <td>61.457</td>\n",
       "      <td>65.206</td>\n",
       "      <td>67.608</td>\n",
       "      <td>49.716</td>\n",
       "      <td>51.831</td>\n",
       "      <td>45.855</td>\n",
       "      <td>54.972</td>\n",
       "      <td>55.677</td>\n",
       "      <td>44.358</td>\n",
       "    </tr>\n",
       "    <tr>\n",
       "      <th>dann</th>\n",
       "      <td>67.342</td>\n",
       "      <td>74.567</td>\n",
       "      <td>77.923</td>\n",
       "      <td>50.000</td>\n",
       "      <td>49.948</td>\n",
       "      <td>49.961</td>\n",
       "      <td>68.030</td>\n",
       "      <td>79.929</td>\n",
       "      <td>78.784</td>\n",
       "      <td>57.102</td>\n",
       "      <td>...</td>\n",
       "      <td>45.272</td>\n",
       "      <td>55.769</td>\n",
       "      <td>58.815</td>\n",
       "      <td>58.670</td>\n",
       "      <td>48.864</td>\n",
       "      <td>51.333</td>\n",
       "      <td>45.643</td>\n",
       "      <td>50.426</td>\n",
       "      <td>56.507</td>\n",
       "      <td>49.697</td>\n",
       "    </tr>\n",
       "    <tr>\n",
       "      <th>jan</th>\n",
       "      <td>66.458</td>\n",
       "      <td>71.571</td>\n",
       "      <td>75.149</td>\n",
       "      <td>46.449</td>\n",
       "      <td>50.905</td>\n",
       "      <td>46.630</td>\n",
       "      <td>66.413</td>\n",
       "      <td>80.020</td>\n",
       "      <td>78.362</td>\n",
       "      <td>52.841</td>\n",
       "      <td>...</td>\n",
       "      <td>46.013</td>\n",
       "      <td>58.817</td>\n",
       "      <td>63.734</td>\n",
       "      <td>62.241</td>\n",
       "      <td>49.716</td>\n",
       "      <td>54.156</td>\n",
       "      <td>49.025</td>\n",
       "      <td>48.011</td>\n",
       "      <td>51.013</td>\n",
       "      <td>44.030</td>\n",
       "    </tr>\n",
       "    <tr>\n",
       "      <th>mcc</th>\n",
       "      <td>66.320</td>\n",
       "      <td>74.205</td>\n",
       "      <td>74.552</td>\n",
       "      <td>47.953</td>\n",
       "      <td>50.376</td>\n",
       "      <td>42.016</td>\n",
       "      <td>69.432</td>\n",
       "      <td>80.009</td>\n",
       "      <td>79.269</td>\n",
       "      <td>63.889</td>\n",
       "      <td>...</td>\n",
       "      <td>44.294</td>\n",
       "      <td>59.457</td>\n",
       "      <td>63.817</td>\n",
       "      <td>64.796</td>\n",
       "      <td>49.444</td>\n",
       "      <td>54.256</td>\n",
       "      <td>46.346</td>\n",
       "      <td>58.480</td>\n",
       "      <td>58.471</td>\n",
       "      <td>54.263</td>\n",
       "    </tr>\n",
       "    <tr>\n",
       "      <th>mcd</th>\n",
       "      <td>78.057</td>\n",
       "      <td>87.813</td>\n",
       "      <td>86.890</td>\n",
       "      <td>50.426</td>\n",
       "      <td>55.938</td>\n",
       "      <td>44.054</td>\n",
       "      <td>62.351</td>\n",
       "      <td>73.019</td>\n",
       "      <td>76.963</td>\n",
       "      <td>55.966</td>\n",
       "      <td>...</td>\n",
       "      <td>42.054</td>\n",
       "      <td>60.562</td>\n",
       "      <td>62.703</td>\n",
       "      <td>65.939</td>\n",
       "      <td>52.841</td>\n",
       "      <td>57.227</td>\n",
       "      <td>51.395</td>\n",
       "      <td>56.250</td>\n",
       "      <td>73.088</td>\n",
       "      <td>72.658</td>\n",
       "    </tr>\n",
       "    <tr>\n",
       "      <th>mdd</th>\n",
       "      <td>66.148</td>\n",
       "      <td>74.360</td>\n",
       "      <td>72.414</td>\n",
       "      <td>57.244</td>\n",
       "      <td>57.201</td>\n",
       "      <td>59.631</td>\n",
       "      <td>65.287</td>\n",
       "      <td>73.219</td>\n",
       "      <td>76.922</td>\n",
       "      <td>57.955</td>\n",
       "      <td>...</td>\n",
       "      <td>44.193</td>\n",
       "      <td>62.131</td>\n",
       "      <td>64.817</td>\n",
       "      <td>66.202</td>\n",
       "      <td>52.841</td>\n",
       "      <td>57.772</td>\n",
       "      <td>54.612</td>\n",
       "      <td>51.989</td>\n",
       "      <td>56.934</td>\n",
       "      <td>57.816</td>\n",
       "    </tr>\n",
       "    <tr>\n",
       "      <th>src_only</th>\n",
       "      <td>75.684</td>\n",
       "      <td>84.573</td>\n",
       "      <td>84.069</td>\n",
       "      <td>59.801</td>\n",
       "      <td>62.410</td>\n",
       "      <td>55.869</td>\n",
       "      <td>66.015</td>\n",
       "      <td>71.292</td>\n",
       "      <td>75.143</td>\n",
       "      <td>61.080</td>\n",
       "      <td>...</td>\n",
       "      <td>46.656</td>\n",
       "      <td>60.994</td>\n",
       "      <td>64.756</td>\n",
       "      <td>66.204</td>\n",
       "      <td>50.852</td>\n",
       "      <td>59.018</td>\n",
       "      <td>52.002</td>\n",
       "      <td>60.938</td>\n",
       "      <td>65.223</td>\n",
       "      <td>59.565</td>\n",
       "    </tr>\n",
       "  </tbody>\n",
       "</table>\n",
       "<p>10 rows × 36 columns</p>\n",
       "</div>"
      ],
      "text/plain": [
       "data        His.ALL.05.H3K79me1.AllCell.dm6.mm10                  \\\n",
       "metric_type                             accuracy  pr_auc roc_auc   \n",
       "method                                                             \n",
       "adda                                      72.064  80.279  80.571   \n",
       "afn                                       76.649  87.276  85.090   \n",
       "cdan                                      67.753  74.619  76.440   \n",
       "dan                                       70.620  78.989  81.306   \n",
       "dann                                      67.342  74.567  77.923   \n",
       "jan                                       66.458  71.571  75.149   \n",
       "mcc                                       66.320  74.205  74.552   \n",
       "mcd                                       78.057  87.813  86.890   \n",
       "mdd                                       66.148  74.360  72.414   \n",
       "src_only                                  75.684  84.573  84.069   \n",
       "\n",
       "data        His.ALL.05.H3K79me1.AllCell.hg38.ce11                  \\\n",
       "metric_type                              accuracy  pr_auc roc_auc   \n",
       "method                                                              \n",
       "adda                                       51.136  61.861  55.846   \n",
       "afn                                        56.676  61.314  56.082   \n",
       "cdan                                       53.125  55.542  60.980   \n",
       "dan                                        43.466  48.993  40.648   \n",
       "dann                                       50.000  49.948  49.961   \n",
       "jan                                        46.449  50.905  46.630   \n",
       "mcc                                        47.953  50.376  42.016   \n",
       "mcd                                        50.426  55.938  44.054   \n",
       "mdd                                        57.244  57.201  59.631   \n",
       "src_only                                   59.801  62.410  55.869   \n",
       "\n",
       "data        His.ALL.05.H3K79me1.AllCell.ce11.mm10                  \\\n",
       "metric_type                              accuracy  pr_auc roc_auc   \n",
       "method                                                              \n",
       "adda                                       57.091  62.195  64.091   \n",
       "afn                                        68.191  78.216  78.335   \n",
       "cdan                                       68.444  79.944  78.894   \n",
       "dan                                        64.796  73.241  75.901   \n",
       "dann                                       68.030  79.929  78.784   \n",
       "jan                                        66.413  80.020  78.362   \n",
       "mcc                                        69.432  80.009  79.269   \n",
       "mcd                                        62.351  73.019  76.963   \n",
       "mdd                                        65.287  73.219  76.922   \n",
       "src_only                                   66.015  71.292  75.143   \n",
       "\n",
       "data        His.ALL.05.H3K79me1.AllCell.mm10.hg38  ...  \\\n",
       "metric_type                              accuracy  ...   \n",
       "method                                             ...   \n",
       "adda                                       53.693  ...   \n",
       "afn                                        55.966  ...   \n",
       "cdan                                       62.216  ...   \n",
       "dan                                        57.670  ...   \n",
       "dann                                       57.102  ...   \n",
       "jan                                        52.841  ...   \n",
       "mcc                                        63.889  ...   \n",
       "mcd                                        55.966  ...   \n",
       "mdd                                        57.955  ...   \n",
       "src_only                                   61.080  ...   \n",
       "\n",
       "data        His.ALL.05.H3K79me1.AllCell.mm10.ce11  \\\n",
       "metric_type                               roc_auc   \n",
       "method                                              \n",
       "adda                                       57.921   \n",
       "afn                                        39.119   \n",
       "cdan                                       50.538   \n",
       "dan                                        45.330   \n",
       "dann                                       45.272   \n",
       "jan                                        46.013   \n",
       "mcc                                        44.294   \n",
       "mcd                                        42.054   \n",
       "mdd                                        44.193   \n",
       "src_only                                   46.656   \n",
       "\n",
       "data        His.ALL.05.H3K79me1.AllCell.hg38.dm6                  \\\n",
       "metric_type                             accuracy  pr_auc roc_auc   \n",
       "method                                                             \n",
       "adda                                      62.253  64.639  67.116   \n",
       "afn                                       61.614  64.980  65.478   \n",
       "cdan                                      57.118  59.263  59.394   \n",
       "dan                                       61.457  65.206  67.608   \n",
       "dann                                      55.769  58.815  58.670   \n",
       "jan                                       58.817  63.734  62.241   \n",
       "mcc                                       59.457  63.817  64.796   \n",
       "mcd                                       60.562  62.703  65.939   \n",
       "mdd                                       62.131  64.817  66.202   \n",
       "src_only                                  60.994  64.756  66.204   \n",
       "\n",
       "data        His.ALL.05.H3K79me1.AllCell.ce11.hg38                  \\\n",
       "metric_type                              accuracy  pr_auc roc_auc   \n",
       "method                                                              \n",
       "adda                                       47.443  53.278  49.990   \n",
       "afn                                        53.125  58.624  51.680   \n",
       "cdan                                       48.295  58.720  52.903   \n",
       "dan                                        49.716  51.831  45.855   \n",
       "dann                                       48.864  51.333  45.643   \n",
       "jan                                        49.716  54.156  49.025   \n",
       "mcc                                        49.444  54.256  46.346   \n",
       "mcd                                        52.841  57.227  51.395   \n",
       "mdd                                        52.841  57.772  54.612   \n",
       "src_only                                   50.852  59.018  52.002   \n",
       "\n",
       "data        His.ALL.05.H3K79me1.AllCell.dm6.ce11                  \n",
       "metric_type                             accuracy  pr_auc roc_auc  \n",
       "method                                                            \n",
       "adda                                      63.494  62.002  66.662  \n",
       "afn                                       60.085  66.107  67.956  \n",
       "cdan                                      52.841  57.759  51.153  \n",
       "dan                                       54.972  55.677  44.358  \n",
       "dann                                      50.426  56.507  49.697  \n",
       "jan                                       48.011  51.013  44.030  \n",
       "mcc                                       58.480  58.471  54.263  \n",
       "mcd                                       56.250  73.088  72.658  \n",
       "mdd                                       51.989  56.934  57.816  \n",
       "src_only                                  60.938  65.223  59.565  \n",
       "\n",
       "[10 rows x 36 columns]"
      ]
     },
     "metadata": {},
     "output_type": "display_data"
    }
   ],
   "source": [
    "def add_metric_val(metrics: dict, dataset: str, method: str, metric_name: str, metric_val: float) -> None:\n",
    "    method = method.split('-')[0]\n",
    "    if dataset not in metrics:\n",
    "        metrics[dataset] = {}\n",
    "    if method not in metrics[dataset]:\n",
    "        metrics[dataset][method] = {}\n",
    "    if metric_name not in metrics[dataset][method]:\n",
    "        metrics[dataset][method][metric_name] = []\n",
    "    metrics[dataset][method][metric_name].append(metric_val)\n",
    "\n",
    "\n",
    "total_dfs = dict()\n",
    "\n",
    "for train_log, test_log in zip(train_logs, test_logs):\n",
    "    train_params = None\n",
    "    metrics = {}\n",
    "    with open(train_log) as train_in, open(test_log) as test_in:\n",
    "        for line in test_in:\n",
    "            if line.startswith('Namespace('):\n",
    "                line = line.replace('Namespace', 'dict')\n",
    "                train_params = eval(line)\n",
    "            else:\n",
    "                if line.startswith(' * Acc@1'):\n",
    "                    acc = float(line.split()[-1])\n",
    "                    add_metric_val(metrics, train_params['data_name'], train_params['log'], 'accuracy', acc)\n",
    "                elif line.startswith(' * Acc1'):\n",
    "                    acc = float(line.split()[2])\n",
    "                    add_metric_val(metrics, train_params['data_name'], train_params['log'], 'accuracy', acc)\n",
    "                elif line.startswith('PR AUC') or line.startswith('F1 PR AUC'):\n",
    "                    pr_auc = float(line.split()[-1])\n",
    "                    add_metric_val(metrics, train_params['data_name'], train_params['log'], 'pr_auc', pr_auc)\n",
    "                elif line.startswith('ROC AUC') or line.startswith('F1 ROC AUC'):\n",
    "                    roc_auc = float(line.split()[-1])\n",
    "                    add_metric_val(metrics, train_params['data_name'], train_params['log'], 'roc_auc', roc_auc)\n",
    "    \n",
    "        for ds_name, ds in metrics.items():\n",
    "            cur_metrics = None\n",
    "            result = []\n",
    "            for method_name, method_data in ds.items():\n",
    "                if cur_metrics is None:\n",
    "                    cur_metrics = list(method_data.keys())\n",
    "                row = dict(zip(['method', *cur_metrics],\n",
    "                               [method_name] +\n",
    "                               [f'{np.mean(method_data[metric]):.3f}' for metric in cur_metrics]))\n",
    "                if method_name == 'src_only':\n",
    "                    result.insert(0, row)\n",
    "                else:\n",
    "                    result.append(row)\n",
    "            df = pd.DataFrame(result).set_index('method').astype(float)\n",
    "\n",
    "            if ds_name not in total_dfs.keys():\n",
    "                total_dfs[ds_name] = df.sort_index()\n",
    "            else:\n",
    "                total_dfs[ds_name] = pd.concat([total_dfs[ds_name], df]).sort_index()\n",
    "\n",
    "import functools\n",
    "resulting_df = functools.reduce(lambda x, y: pd.concat([x, y], axis=1), total_dfs.values())\n",
    "resulting_df.columns = pd.MultiIndex.from_product([[k for k in total_dfs.keys()], list(total_dfs.values())[0].columns], names=['data', 'metric_type'])\n",
    "display(resulting_df)"
   ]
  },
  {
   "cell_type": "code",
   "execution_count": 6,
   "metadata": {},
   "outputs": [
    {
     "data": {
      "text/html": [
       "<div>\n",
       "<style scoped>\n",
       "    .dataframe tbody tr th:only-of-type {\n",
       "        vertical-align: middle;\n",
       "    }\n",
       "\n",
       "    .dataframe tbody tr th {\n",
       "        vertical-align: top;\n",
       "    }\n",
       "\n",
       "    .dataframe thead tr th {\n",
       "        text-align: left;\n",
       "    }\n",
       "\n",
       "    .dataframe thead tr:last-of-type th {\n",
       "        text-align: right;\n",
       "    }\n",
       "</style>\n",
       "<table border=\"1\" class=\"dataframe\">\n",
       "  <thead>\n",
       "    <tr>\n",
       "      <th>data</th>\n",
       "      <th colspan=\"3\" halign=\"left\">His.ALL.05.H3K79me1.AllCell.mm10.hg38</th>\n",
       "      <th colspan=\"3\" halign=\"left\">His.ALL.05.H3K79me1.AllCell.hg38.mm10</th>\n",
       "    </tr>\n",
       "    <tr>\n",
       "      <th>metric_type</th>\n",
       "      <th>accuracy</th>\n",
       "      <th>pr_auc</th>\n",
       "      <th>roc_auc</th>\n",
       "      <th>accuracy</th>\n",
       "      <th>pr_auc</th>\n",
       "      <th>roc_auc</th>\n",
       "    </tr>\n",
       "    <tr>\n",
       "      <th>method</th>\n",
       "      <th></th>\n",
       "      <th></th>\n",
       "      <th></th>\n",
       "      <th></th>\n",
       "      <th></th>\n",
       "      <th></th>\n",
       "    </tr>\n",
       "  </thead>\n",
       "  <tbody>\n",
       "    <tr>\n",
       "      <th>adda</th>\n",
       "      <td>53.693</td>\n",
       "      <td>54.429</td>\n",
       "      <td>54.667</td>\n",
       "      <td>67.958</td>\n",
       "      <td>78.540</td>\n",
       "      <td>80.290</td>\n",
       "    </tr>\n",
       "    <tr>\n",
       "      <th>afn</th>\n",
       "      <td>55.966</td>\n",
       "      <td>54.956</td>\n",
       "      <td>52.150</td>\n",
       "      <td>72.523</td>\n",
       "      <td>79.769</td>\n",
       "      <td>78.661</td>\n",
       "    </tr>\n",
       "    <tr>\n",
       "      <th>cdan</th>\n",
       "      <td>62.216</td>\n",
       "      <td>60.335</td>\n",
       "      <td>60.802</td>\n",
       "      <td>63.674</td>\n",
       "      <td>69.564</td>\n",
       "      <td>69.360</td>\n",
       "    </tr>\n",
       "    <tr>\n",
       "      <th>dan</th>\n",
       "      <td>57.670</td>\n",
       "      <td>58.349</td>\n",
       "      <td>57.568</td>\n",
       "      <td>69.719</td>\n",
       "      <td>72.068</td>\n",
       "      <td>75.466</td>\n",
       "    </tr>\n",
       "    <tr>\n",
       "      <th>dann</th>\n",
       "      <td>57.102</td>\n",
       "      <td>55.563</td>\n",
       "      <td>55.531</td>\n",
       "      <td>62.009</td>\n",
       "      <td>65.869</td>\n",
       "      <td>66.634</td>\n",
       "    </tr>\n",
       "    <tr>\n",
       "      <th>jan</th>\n",
       "      <td>52.841</td>\n",
       "      <td>58.290</td>\n",
       "      <td>57.403</td>\n",
       "      <td>62.769</td>\n",
       "      <td>64.356</td>\n",
       "      <td>67.152</td>\n",
       "    </tr>\n",
       "    <tr>\n",
       "      <th>mcc</th>\n",
       "      <td>63.889</td>\n",
       "      <td>64.291</td>\n",
       "      <td>63.264</td>\n",
       "      <td>66.808</td>\n",
       "      <td>74.132</td>\n",
       "      <td>72.744</td>\n",
       "    </tr>\n",
       "    <tr>\n",
       "      <th>mcd</th>\n",
       "      <td>55.966</td>\n",
       "      <td>60.269</td>\n",
       "      <td>58.065</td>\n",
       "      <td>66.695</td>\n",
       "      <td>71.375</td>\n",
       "      <td>73.396</td>\n",
       "    </tr>\n",
       "    <tr>\n",
       "      <th>mdd</th>\n",
       "      <td>57.955</td>\n",
       "      <td>56.252</td>\n",
       "      <td>55.068</td>\n",
       "      <td>68.376</td>\n",
       "      <td>73.156</td>\n",
       "      <td>75.076</td>\n",
       "    </tr>\n",
       "    <tr>\n",
       "      <th>src_only</th>\n",
       "      <td>61.080</td>\n",
       "      <td>63.960</td>\n",
       "      <td>62.240</td>\n",
       "      <td>67.845</td>\n",
       "      <td>78.722</td>\n",
       "      <td>76.738</td>\n",
       "    </tr>\n",
       "  </tbody>\n",
       "</table>\n",
       "</div>"
      ],
      "text/plain": [
       "data        His.ALL.05.H3K79me1.AllCell.mm10.hg38                  \\\n",
       "metric_type                              accuracy  pr_auc roc_auc   \n",
       "method                                                              \n",
       "adda                                       53.693  54.429  54.667   \n",
       "afn                                        55.966  54.956  52.150   \n",
       "cdan                                       62.216  60.335  60.802   \n",
       "dan                                        57.670  58.349  57.568   \n",
       "dann                                       57.102  55.563  55.531   \n",
       "jan                                        52.841  58.290  57.403   \n",
       "mcc                                        63.889  64.291  63.264   \n",
       "mcd                                        55.966  60.269  58.065   \n",
       "mdd                                        57.955  56.252  55.068   \n",
       "src_only                                   61.080  63.960  62.240   \n",
       "\n",
       "data        His.ALL.05.H3K79me1.AllCell.hg38.mm10                  \n",
       "metric_type                              accuracy  pr_auc roc_auc  \n",
       "method                                                             \n",
       "adda                                       67.958  78.540  80.290  \n",
       "afn                                        72.523  79.769  78.661  \n",
       "cdan                                       63.674  69.564  69.360  \n",
       "dan                                        69.719  72.068  75.466  \n",
       "dann                                       62.009  65.869  66.634  \n",
       "jan                                        62.769  64.356  67.152  \n",
       "mcc                                        66.808  74.132  72.744  \n",
       "mcd                                        66.695  71.375  73.396  \n",
       "mdd                                        68.376  73.156  75.076  \n",
       "src_only                                   67.845  78.722  76.738  "
      ]
     },
     "execution_count": 6,
     "metadata": {},
     "output_type": "execute_result"
    }
   ],
   "source": [
    "resulting_df.loc[:, resulting_df.columns.get_level_values(0).str.contains('mm10.hg38|hg38.mm10')]"
   ]
  },
  {
   "cell_type": "code",
   "execution_count": 201,
   "metadata": {},
   "outputs": [
    {
     "data": {
      "text/html": [
       "<div>\n",
       "<style scoped>\n",
       "    .dataframe tbody tr th:only-of-type {\n",
       "        vertical-align: middle;\n",
       "    }\n",
       "\n",
       "    .dataframe tbody tr th {\n",
       "        vertical-align: top;\n",
       "    }\n",
       "\n",
       "    .dataframe thead th {\n",
       "        text-align: right;\n",
       "    }\n",
       "</style>\n",
       "<table border=\"1\" class=\"dataframe\">\n",
       "  <thead>\n",
       "    <tr style=\"text-align: right;\">\n",
       "      <th></th>\n",
       "      <th>data_name</th>\n",
       "      <th>method</th>\n",
       "      <th>metric</th>\n",
       "      <th>diff</th>\n",
       "    </tr>\n",
       "  </thead>\n",
       "  <tbody>\n",
       "    <tr>\n",
       "      <th>0</th>\n",
       "      <td>mm10-&gt;hg38</td>\n",
       "      <td>adda</td>\n",
       "      <td>accuracy</td>\n",
       "      <td>-7.387</td>\n",
       "    </tr>\n",
       "    <tr>\n",
       "      <th>9</th>\n",
       "      <td>mm10-&gt;hg38</td>\n",
       "      <td>adda</td>\n",
       "      <td>pr_auc</td>\n",
       "      <td>-9.531</td>\n",
       "    </tr>\n",
       "    <tr>\n",
       "      <th>18</th>\n",
       "      <td>mm10-&gt;hg38</td>\n",
       "      <td>adda</td>\n",
       "      <td>roc_auc</td>\n",
       "      <td>-7.573</td>\n",
       "    </tr>\n",
       "    <tr>\n",
       "      <th>1</th>\n",
       "      <td>mm10-&gt;hg38</td>\n",
       "      <td>afn</td>\n",
       "      <td>accuracy</td>\n",
       "      <td>-5.114</td>\n",
       "    </tr>\n",
       "    <tr>\n",
       "      <th>10</th>\n",
       "      <td>mm10-&gt;hg38</td>\n",
       "      <td>afn</td>\n",
       "      <td>pr_auc</td>\n",
       "      <td>-9.004</td>\n",
       "    </tr>\n",
       "    <tr>\n",
       "      <th>...</th>\n",
       "      <td>...</td>\n",
       "      <td>...</td>\n",
       "      <td>...</td>\n",
       "      <td>...</td>\n",
       "    </tr>\n",
       "    <tr>\n",
       "      <th>16</th>\n",
       "      <td>ce11-&gt;dm6</td>\n",
       "      <td>mcd</td>\n",
       "      <td>pr_auc</td>\n",
       "      <td>2.110</td>\n",
       "    </tr>\n",
       "    <tr>\n",
       "      <th>25</th>\n",
       "      <td>ce11-&gt;dm6</td>\n",
       "      <td>mcd</td>\n",
       "      <td>roc_auc</td>\n",
       "      <td>0.794</td>\n",
       "    </tr>\n",
       "    <tr>\n",
       "      <th>8</th>\n",
       "      <td>ce11-&gt;dm6</td>\n",
       "      <td>mdd</td>\n",
       "      <td>accuracy</td>\n",
       "      <td>3.350</td>\n",
       "    </tr>\n",
       "    <tr>\n",
       "      <th>17</th>\n",
       "      <td>ce11-&gt;dm6</td>\n",
       "      <td>mdd</td>\n",
       "      <td>pr_auc</td>\n",
       "      <td>3.702</td>\n",
       "    </tr>\n",
       "    <tr>\n",
       "      <th>26</th>\n",
       "      <td>ce11-&gt;dm6</td>\n",
       "      <td>mdd</td>\n",
       "      <td>roc_auc</td>\n",
       "      <td>3.245</td>\n",
       "    </tr>\n",
       "  </tbody>\n",
       "</table>\n",
       "<p>324 rows × 4 columns</p>\n",
       "</div>"
      ],
      "text/plain": [
       "     data_name method    metric   diff\n",
       "0   mm10->hg38   adda  accuracy -7.387\n",
       "9   mm10->hg38   adda    pr_auc -9.531\n",
       "18  mm10->hg38   adda   roc_auc -7.573\n",
       "1   mm10->hg38    afn  accuracy -5.114\n",
       "10  mm10->hg38    afn    pr_auc -9.004\n",
       "..         ...    ...       ...    ...\n",
       "16   ce11->dm6    mcd    pr_auc  2.110\n",
       "25   ce11->dm6    mcd   roc_auc  0.794\n",
       "8    ce11->dm6    mdd  accuracy  3.350\n",
       "17   ce11->dm6    mdd    pr_auc  3.702\n",
       "26   ce11->dm6    mdd   roc_auc  3.245\n",
       "\n",
       "[324 rows x 4 columns]"
      ]
     },
     "execution_count": 201,
     "metadata": {},
     "output_type": "execute_result"
    }
   ],
   "source": [
    "import plotly.express as px\n",
    "\n",
    "plotly_df = pd.DataFrame()\n",
    "for data_name, data_df in total_dfs.items():\n",
    "    reference = data_df.loc[\"src_only\", :].to_frame().T\n",
    "    reference.index.name = \"method\"\n",
    "\n",
    "    diff_df = (\n",
    "        pd.DataFrame(\n",
    "            np.subtract(data_df.values, reference.values),\n",
    "            index=data_df.index,\n",
    "            columns=data_df.columns,\n",
    "        ).iloc[:-1,:]\n",
    "        .reset_index()\n",
    "        .assign(data_name=\"->\".join(data_name.rsplit(\".\", maxsplit=2)[-2:]))\n",
    "        .melt(\n",
    "            id_vars=[\"data_name\", \"method\"],\n",
    "            value_vars=[\"accuracy\", \"pr_auc\", \"roc_auc\"],\n",
    "            var_name='metric',\n",
    "            value_name='diff'\n",
    "        )\n",
    "    )\n",
    "\n",
    "    plotly_df = pd.concat([plotly_df, diff_df])\n",
    "\n",
    "plotly_df = plotly_df.sort_values(['data_name', 'method','metric'], ascending=[False, True, True])\n",
    "plotly_df\n"
   ]
  },
  {
   "cell_type": "code",
   "execution_count": 220,
   "metadata": {},
   "outputs": [
    {
     "data": {
      "application/vnd.plotly.v1+json": {
       "config": {
        "plotlyServerURL": "https://plot.ly"
       },
       "data": [
        {
         "alignmentgroup": "True",
         "hovertemplate": "method=adda<br>data_name=mm10->hg38<br>metric=%{x}<br>diff=%{y}<extra></extra>",
         "legendgroup": "adda",
         "marker": {
          "color": "#636efa",
          "pattern": {
           "shape": ""
          }
         },
         "name": "adda",
         "offsetgroup": "adda",
         "orientation": "v",
         "showlegend": true,
         "textposition": "auto",
         "type": "bar",
         "x": [
          "accuracy",
          "pr_auc",
          "roc_auc"
         ],
         "xaxis": "x",
         "y": [
          -7.3870000000000005,
          -9.530999999999999,
          -7.573
         ],
         "yaxis": "y"
        },
        {
         "alignmentgroup": "True",
         "hovertemplate": "method=adda<br>data_name=mm10->dm6<br>metric=%{x}<br>diff=%{y}<extra></extra>",
         "legendgroup": "adda",
         "marker": {
          "color": "#636efa",
          "pattern": {
           "shape": ""
          }
         },
         "name": "adda",
         "offsetgroup": "adda",
         "orientation": "v",
         "showlegend": false,
         "textposition": "auto",
         "type": "bar",
         "x": [
          "accuracy",
          "pr_auc",
          "roc_auc"
         ],
         "xaxis": "x2",
         "y": [
          1.2459999999999951,
          0.5039999999999907,
          -1.3319999999999936
         ],
         "yaxis": "y2"
        },
        {
         "alignmentgroup": "True",
         "hovertemplate": "method=adda<br>data_name=mm10->ce11<br>metric=%{x}<br>diff=%{y}<extra></extra>",
         "legendgroup": "adda",
         "marker": {
          "color": "#636efa",
          "pattern": {
           "shape": ""
          }
         },
         "name": "adda",
         "offsetgroup": "adda",
         "orientation": "v",
         "showlegend": false,
         "textposition": "auto",
         "type": "bar",
         "x": [
          "accuracy",
          "pr_auc",
          "roc_auc"
         ],
         "xaxis": "x3",
         "y": [
          4.402999999999999,
          4.292999999999999,
          11.265
         ],
         "yaxis": "y3"
        },
        {
         "alignmentgroup": "True",
         "hovertemplate": "method=adda<br>data_name=hg38->mm10<br>metric=%{x}<br>diff=%{y}<extra></extra>",
         "legendgroup": "adda",
         "marker": {
          "color": "#636efa",
          "pattern": {
           "shape": ""
          }
         },
         "name": "adda",
         "offsetgroup": "adda",
         "orientation": "v",
         "showlegend": false,
         "textposition": "auto",
         "type": "bar",
         "x": [
          "accuracy",
          "pr_auc",
          "roc_auc"
         ],
         "xaxis": "x4",
         "y": [
          0.11299999999999955,
          -0.18199999999998795,
          3.5520000000000067
         ],
         "yaxis": "y4"
        },
        {
         "alignmentgroup": "True",
         "hovertemplate": "method=adda<br>data_name=hg38->dm6<br>metric=%{x}<br>diff=%{y}<extra></extra>",
         "legendgroup": "adda",
         "marker": {
          "color": "#636efa",
          "pattern": {
           "shape": ""
          }
         },
         "name": "adda",
         "offsetgroup": "adda",
         "orientation": "v",
         "showlegend": false,
         "textposition": "auto",
         "type": "bar",
         "x": [
          "accuracy",
          "pr_auc",
          "roc_auc"
         ],
         "xaxis": "x5",
         "y": [
          1.2590000000000003,
          -0.11700000000000443,
          0.9120000000000061
         ],
         "yaxis": "y5"
        },
        {
         "alignmentgroup": "True",
         "hovertemplate": "method=adda<br>data_name=hg38->ce11<br>metric=%{x}<br>diff=%{y}<extra></extra>",
         "legendgroup": "adda",
         "marker": {
          "color": "#636efa",
          "pattern": {
           "shape": ""
          }
         },
         "name": "adda",
         "offsetgroup": "adda",
         "orientation": "v",
         "showlegend": false,
         "textposition": "auto",
         "type": "bar",
         "x": [
          "accuracy",
          "pr_auc",
          "roc_auc"
         ],
         "xaxis": "x6",
         "y": [
          -8.665,
          -0.5489999999999995,
          -0.02300000000000324
         ],
         "yaxis": "y6"
        },
        {
         "alignmentgroup": "True",
         "hovertemplate": "method=adda<br>data_name=dm6->mm10<br>metric=%{x}<br>diff=%{y}<extra></extra>",
         "legendgroup": "adda",
         "marker": {
          "color": "#636efa",
          "pattern": {
           "shape": ""
          }
         },
         "name": "adda",
         "offsetgroup": "adda",
         "orientation": "v",
         "showlegend": false,
         "textposition": "auto",
         "type": "bar",
         "x": [
          "accuracy",
          "pr_auc",
          "roc_auc"
         ],
         "xaxis": "x7",
         "y": [
          -3.6200000000000045,
          -4.293999999999997,
          -3.4980000000000047
         ],
         "yaxis": "y7"
        },
        {
         "alignmentgroup": "True",
         "hovertemplate": "method=adda<br>data_name=dm6->hg38<br>metric=%{x}<br>diff=%{y}<extra></extra>",
         "legendgroup": "adda",
         "marker": {
          "color": "#636efa",
          "pattern": {
           "shape": ""
          }
         },
         "name": "adda",
         "offsetgroup": "adda",
         "orientation": "v",
         "showlegend": false,
         "textposition": "auto",
         "type": "bar",
         "x": [
          "accuracy",
          "pr_auc",
          "roc_auc"
         ],
         "xaxis": "x8",
         "y": [
          -5.6810000000000045,
          -14.922000000000004,
          -13.108000000000004
         ],
         "yaxis": "y8"
        },
        {
         "alignmentgroup": "True",
         "hovertemplate": "method=adda<br>data_name=dm6->ce11<br>metric=%{x}<br>diff=%{y}<extra></extra>",
         "legendgroup": "adda",
         "marker": {
          "color": "#636efa",
          "pattern": {
           "shape": ""
          }
         },
         "name": "adda",
         "offsetgroup": "adda",
         "orientation": "v",
         "showlegend": false,
         "textposition": "auto",
         "type": "bar",
         "x": [
          "accuracy",
          "pr_auc",
          "roc_auc"
         ],
         "xaxis": "x9",
         "y": [
          2.5559999999999974,
          -3.2209999999999965,
          7.097000000000008
         ],
         "yaxis": "y9"
        },
        {
         "alignmentgroup": "True",
         "hovertemplate": "method=adda<br>data_name=ce11->mm10<br>metric=%{x}<br>diff=%{y}<extra></extra>",
         "legendgroup": "adda",
         "marker": {
          "color": "#636efa",
          "pattern": {
           "shape": ""
          }
         },
         "name": "adda",
         "offsetgroup": "adda",
         "orientation": "v",
         "showlegend": false,
         "textposition": "auto",
         "type": "bar",
         "x": [
          "accuracy",
          "pr_auc",
          "roc_auc"
         ],
         "xaxis": "x10",
         "y": [
          -8.924,
          -9.097000000000001,
          -11.052000000000007
         ],
         "yaxis": "y10"
        },
        {
         "alignmentgroup": "True",
         "hovertemplate": "method=adda<br>data_name=ce11->hg38<br>metric=%{x}<br>diff=%{y}<extra></extra>",
         "legendgroup": "adda",
         "marker": {
          "color": "#636efa",
          "pattern": {
           "shape": ""
          }
         },
         "name": "adda",
         "offsetgroup": "adda",
         "orientation": "v",
         "showlegend": false,
         "textposition": "auto",
         "type": "bar",
         "x": [
          "accuracy",
          "pr_auc",
          "roc_auc"
         ],
         "xaxis": "x11",
         "y": [
          -3.408999999999999,
          -5.740000000000002,
          -2.0120000000000005
         ],
         "yaxis": "y11"
        },
        {
         "alignmentgroup": "True",
         "hovertemplate": "method=adda<br>data_name=ce11->dm6<br>metric=%{x}<br>diff=%{y}<extra></extra>",
         "legendgroup": "adda",
         "marker": {
          "color": "#636efa",
          "pattern": {
           "shape": ""
          }
         },
         "name": "adda",
         "offsetgroup": "adda",
         "orientation": "v",
         "showlegend": false,
         "textposition": "auto",
         "type": "bar",
         "x": [
          "accuracy",
          "pr_auc",
          "roc_auc"
         ],
         "xaxis": "x12",
         "y": [
          1.4169999999999945,
          0.36999999999999744,
          0.04800000000000182
         ],
         "yaxis": "y12"
        },
        {
         "alignmentgroup": "True",
         "hovertemplate": "method=afn<br>data_name=mm10->hg38<br>metric=%{x}<br>diff=%{y}<extra></extra>",
         "legendgroup": "afn",
         "marker": {
          "color": "#EF553B",
          "pattern": {
           "shape": ""
          }
         },
         "name": "afn",
         "offsetgroup": "afn",
         "orientation": "v",
         "showlegend": true,
         "textposition": "auto",
         "type": "bar",
         "x": [
          "accuracy",
          "pr_auc",
          "roc_auc"
         ],
         "xaxis": "x",
         "y": [
          -5.113999999999997,
          -9.003999999999998,
          -10.090000000000003
         ],
         "yaxis": "y"
        },
        {
         "alignmentgroup": "True",
         "hovertemplate": "method=afn<br>data_name=mm10->dm6<br>metric=%{x}<br>diff=%{y}<extra></extra>",
         "legendgroup": "afn",
         "marker": {
          "color": "#EF553B",
          "pattern": {
           "shape": ""
          }
         },
         "name": "afn",
         "offsetgroup": "afn",
         "orientation": "v",
         "showlegend": false,
         "textposition": "auto",
         "type": "bar",
         "x": [
          "accuracy",
          "pr_auc",
          "roc_auc"
         ],
         "xaxis": "x2",
         "y": [
          -4.069000000000003,
          2.3999999999999915,
          0.875
         ],
         "yaxis": "y2"
        },
        {
         "alignmentgroup": "True",
         "hovertemplate": "method=afn<br>data_name=mm10->ce11<br>metric=%{x}<br>diff=%{y}<extra></extra>",
         "legendgroup": "afn",
         "marker": {
          "color": "#EF553B",
          "pattern": {
           "shape": ""
          }
         },
         "name": "afn",
         "offsetgroup": "afn",
         "orientation": "v",
         "showlegend": false,
         "textposition": "auto",
         "type": "bar",
         "x": [
          "accuracy",
          "pr_auc",
          "roc_auc"
         ],
         "xaxis": "x3",
         "y": [
          -8.239000000000004,
          -7.411999999999999,
          -7.536999999999999
         ],
         "yaxis": "y3"
        },
        {
         "alignmentgroup": "True",
         "hovertemplate": "method=afn<br>data_name=hg38->mm10<br>metric=%{x}<br>diff=%{y}<extra></extra>",
         "legendgroup": "afn",
         "marker": {
          "color": "#EF553B",
          "pattern": {
           "shape": ""
          }
         },
         "name": "afn",
         "offsetgroup": "afn",
         "orientation": "v",
         "showlegend": false,
         "textposition": "auto",
         "type": "bar",
         "x": [
          "accuracy",
          "pr_auc",
          "roc_auc"
         ],
         "xaxis": "x4",
         "y": [
          4.677999999999997,
          1.0470000000000113,
          1.9230000000000018
         ],
         "yaxis": "y4"
        },
        {
         "alignmentgroup": "True",
         "hovertemplate": "method=afn<br>data_name=hg38->dm6<br>metric=%{x}<br>diff=%{y}<extra></extra>",
         "legendgroup": "afn",
         "marker": {
          "color": "#EF553B",
          "pattern": {
           "shape": ""
          }
         },
         "name": "afn",
         "offsetgroup": "afn",
         "orientation": "v",
         "showlegend": false,
         "textposition": "auto",
         "type": "bar",
         "x": [
          "accuracy",
          "pr_auc",
          "roc_auc"
         ],
         "xaxis": "x5",
         "y": [
          0.6199999999999974,
          0.22400000000000375,
          -0.7259999999999991
         ],
         "yaxis": "y5"
        },
        {
         "alignmentgroup": "True",
         "hovertemplate": "method=afn<br>data_name=hg38->ce11<br>metric=%{x}<br>diff=%{y}<extra></extra>",
         "legendgroup": "afn",
         "marker": {
          "color": "#EF553B",
          "pattern": {
           "shape": ""
          }
         },
         "name": "afn",
         "offsetgroup": "afn",
         "orientation": "v",
         "showlegend": false,
         "textposition": "auto",
         "type": "bar",
         "x": [
          "accuracy",
          "pr_auc",
          "roc_auc"
         ],
         "xaxis": "x6",
         "y": [
          -3.125,
          -1.0959999999999965,
          0.21300000000000097
         ],
         "yaxis": "y6"
        },
        {
         "alignmentgroup": "True",
         "hovertemplate": "method=afn<br>data_name=dm6->mm10<br>metric=%{x}<br>diff=%{y}<extra></extra>",
         "legendgroup": "afn",
         "marker": {
          "color": "#EF553B",
          "pattern": {
           "shape": ""
          }
         },
         "name": "afn",
         "offsetgroup": "afn",
         "orientation": "v",
         "showlegend": false,
         "textposition": "auto",
         "type": "bar",
         "x": [
          "accuracy",
          "pr_auc",
          "roc_auc"
         ],
         "xaxis": "x7",
         "y": [
          0.9650000000000034,
          2.703000000000003,
          1.0210000000000008
         ],
         "yaxis": "y7"
        },
        {
         "alignmentgroup": "True",
         "hovertemplate": "method=afn<br>data_name=dm6->hg38<br>metric=%{x}<br>diff=%{y}<extra></extra>",
         "legendgroup": "afn",
         "marker": {
          "color": "#EF553B",
          "pattern": {
           "shape": ""
          }
         },
         "name": "afn",
         "offsetgroup": "afn",
         "orientation": "v",
         "showlegend": false,
         "textposition": "auto",
         "type": "bar",
         "x": [
          "accuracy",
          "pr_auc",
          "roc_auc"
         ],
         "xaxis": "x8",
         "y": [
          -4.545000000000002,
          -8.319000000000003,
          -5.533000000000001
         ],
         "yaxis": "y8"
        },
        {
         "alignmentgroup": "True",
         "hovertemplate": "method=afn<br>data_name=dm6->ce11<br>metric=%{x}<br>diff=%{y}<extra></extra>",
         "legendgroup": "afn",
         "marker": {
          "color": "#EF553B",
          "pattern": {
           "shape": ""
          }
         },
         "name": "afn",
         "offsetgroup": "afn",
         "orientation": "v",
         "showlegend": false,
         "textposition": "auto",
         "type": "bar",
         "x": [
          "accuracy",
          "pr_auc",
          "roc_auc"
         ],
         "xaxis": "x9",
         "y": [
          -0.8530000000000015,
          0.8840000000000003,
          8.391000000000005
         ],
         "yaxis": "y9"
        },
        {
         "alignmentgroup": "True",
         "hovertemplate": "method=afn<br>data_name=ce11->mm10<br>metric=%{x}<br>diff=%{y}<extra></extra>",
         "legendgroup": "afn",
         "marker": {
          "color": "#EF553B",
          "pattern": {
           "shape": ""
          }
         },
         "name": "afn",
         "offsetgroup": "afn",
         "orientation": "v",
         "showlegend": false,
         "textposition": "auto",
         "type": "bar",
         "x": [
          "accuracy",
          "pr_auc",
          "roc_auc"
         ],
         "xaxis": "x10",
         "y": [
          2.176000000000002,
          6.923999999999992,
          3.191999999999993
         ],
         "yaxis": "y10"
        },
        {
         "alignmentgroup": "True",
         "hovertemplate": "method=afn<br>data_name=ce11->hg38<br>metric=%{x}<br>diff=%{y}<extra></extra>",
         "legendgroup": "afn",
         "marker": {
          "color": "#EF553B",
          "pattern": {
           "shape": ""
          }
         },
         "name": "afn",
         "offsetgroup": "afn",
         "orientation": "v",
         "showlegend": false,
         "textposition": "auto",
         "type": "bar",
         "x": [
          "accuracy",
          "pr_auc",
          "roc_auc"
         ],
         "xaxis": "x11",
         "y": [
          2.2730000000000032,
          -0.39399999999999835,
          -0.32200000000000273
         ],
         "yaxis": "y11"
        },
        {
         "alignmentgroup": "True",
         "hovertemplate": "method=afn<br>data_name=ce11->dm6<br>metric=%{x}<br>diff=%{y}<extra></extra>",
         "legendgroup": "afn",
         "marker": {
          "color": "#EF553B",
          "pattern": {
           "shape": ""
          }
         },
         "name": "afn",
         "offsetgroup": "afn",
         "orientation": "v",
         "showlegend": false,
         "textposition": "auto",
         "type": "bar",
         "x": [
          "accuracy",
          "pr_auc",
          "roc_auc"
         ],
         "xaxis": "x12",
         "y": [
          1.9199999999999946,
          3.414999999999999,
          1.985999999999997
         ],
         "yaxis": "y12"
        },
        {
         "alignmentgroup": "True",
         "hovertemplate": "method=cdan<br>data_name=mm10->hg38<br>metric=%{x}<br>diff=%{y}<extra></extra>",
         "legendgroup": "cdan",
         "marker": {
          "color": "#00cc96",
          "pattern": {
           "shape": ""
          }
         },
         "name": "cdan",
         "offsetgroup": "cdan",
         "orientation": "v",
         "showlegend": true,
         "textposition": "auto",
         "type": "bar",
         "x": [
          "accuracy",
          "pr_auc",
          "roc_auc"
         ],
         "xaxis": "x",
         "y": [
          1.1360000000000028,
          -3.625,
          -1.4380000000000024
         ],
         "yaxis": "y"
        },
        {
         "alignmentgroup": "True",
         "hovertemplate": "method=cdan<br>data_name=mm10->dm6<br>metric=%{x}<br>diff=%{y}<extra></extra>",
         "legendgroup": "cdan",
         "marker": {
          "color": "#00cc96",
          "pattern": {
           "shape": ""
          }
         },
         "name": "cdan",
         "offsetgroup": "cdan",
         "orientation": "v",
         "showlegend": false,
         "textposition": "auto",
         "type": "bar",
         "x": [
          "accuracy",
          "pr_auc",
          "roc_auc"
         ],
         "xaxis": "x2",
         "y": [
          2.730000000000004,
          2.328000000000003,
          2.081000000000003
         ],
         "yaxis": "y2"
        },
        {
         "alignmentgroup": "True",
         "hovertemplate": "method=cdan<br>data_name=mm10->ce11<br>metric=%{x}<br>diff=%{y}<extra></extra>",
         "legendgroup": "cdan",
         "marker": {
          "color": "#00cc96",
          "pattern": {
           "shape": ""
          }
         },
         "name": "cdan",
         "offsetgroup": "cdan",
         "orientation": "v",
         "showlegend": false,
         "textposition": "auto",
         "type": "bar",
         "x": [
          "accuracy",
          "pr_auc",
          "roc_auc"
         ],
         "xaxis": "x3",
         "y": [
          -3.5519999999999996,
          2.1300000000000026,
          3.881999999999998
         ],
         "yaxis": "y3"
        },
        {
         "alignmentgroup": "True",
         "hovertemplate": "method=cdan<br>data_name=hg38->mm10<br>metric=%{x}<br>diff=%{y}<extra></extra>",
         "legendgroup": "cdan",
         "marker": {
          "color": "#00cc96",
          "pattern": {
           "shape": ""
          }
         },
         "name": "cdan",
         "offsetgroup": "cdan",
         "orientation": "v",
         "showlegend": false,
         "textposition": "auto",
         "type": "bar",
         "x": [
          "accuracy",
          "pr_auc",
          "roc_auc"
         ],
         "xaxis": "x4",
         "y": [
          -4.170999999999999,
          -9.158000000000001,
          -7.378
         ],
         "yaxis": "y4"
        },
        {
         "alignmentgroup": "True",
         "hovertemplate": "method=cdan<br>data_name=hg38->dm6<br>metric=%{x}<br>diff=%{y}<extra></extra>",
         "legendgroup": "cdan",
         "marker": {
          "color": "#00cc96",
          "pattern": {
           "shape": ""
          }
         },
         "name": "cdan",
         "offsetgroup": "cdan",
         "orientation": "v",
         "showlegend": false,
         "textposition": "auto",
         "type": "bar",
         "x": [
          "accuracy",
          "pr_auc",
          "roc_auc"
         ],
         "xaxis": "x5",
         "y": [
          -3.8759999999999977,
          -5.493000000000002,
          -6.809999999999995
         ],
         "yaxis": "y5"
        },
        {
         "alignmentgroup": "True",
         "hovertemplate": "method=cdan<br>data_name=hg38->ce11<br>metric=%{x}<br>diff=%{y}<extra></extra>",
         "legendgroup": "cdan",
         "marker": {
          "color": "#00cc96",
          "pattern": {
           "shape": ""
          }
         },
         "name": "cdan",
         "offsetgroup": "cdan",
         "orientation": "v",
         "showlegend": false,
         "textposition": "auto",
         "type": "bar",
         "x": [
          "accuracy",
          "pr_auc",
          "roc_auc"
         ],
         "xaxis": "x6",
         "y": [
          -6.676000000000002,
          -6.867999999999995,
          5.110999999999997
         ],
         "yaxis": "y6"
        },
        {
         "alignmentgroup": "True",
         "hovertemplate": "method=cdan<br>data_name=dm6->mm10<br>metric=%{x}<br>diff=%{y}<extra></extra>",
         "legendgroup": "cdan",
         "marker": {
          "color": "#00cc96",
          "pattern": {
           "shape": ""
          }
         },
         "name": "cdan",
         "offsetgroup": "cdan",
         "orientation": "v",
         "showlegend": false,
         "textposition": "auto",
         "type": "bar",
         "x": [
          "accuracy",
          "pr_auc",
          "roc_auc"
         ],
         "xaxis": "x7",
         "y": [
          -7.930999999999997,
          -9.953999999999994,
          -7.629000000000005
         ],
         "yaxis": "y7"
        },
        {
         "alignmentgroup": "True",
         "hovertemplate": "method=cdan<br>data_name=dm6->hg38<br>metric=%{x}<br>diff=%{y}<extra></extra>",
         "legendgroup": "cdan",
         "marker": {
          "color": "#00cc96",
          "pattern": {
           "shape": ""
          }
         },
         "name": "cdan",
         "offsetgroup": "cdan",
         "orientation": "v",
         "showlegend": false,
         "textposition": "auto",
         "type": "bar",
         "x": [
          "accuracy",
          "pr_auc",
          "roc_auc"
         ],
         "xaxis": "x8",
         "y": [
          -12.215000000000003,
          -10.070000000000007,
          -16.245000000000005
         ],
         "yaxis": "y8"
        },
        {
         "alignmentgroup": "True",
         "hovertemplate": "method=cdan<br>data_name=dm6->ce11<br>metric=%{x}<br>diff=%{y}<extra></extra>",
         "legendgroup": "cdan",
         "marker": {
          "color": "#00cc96",
          "pattern": {
           "shape": ""
          }
         },
         "name": "cdan",
         "offsetgroup": "cdan",
         "orientation": "v",
         "showlegend": false,
         "textposition": "auto",
         "type": "bar",
         "x": [
          "accuracy",
          "pr_auc",
          "roc_auc"
         ],
         "xaxis": "x9",
         "y": [
          -8.097000000000001,
          -7.463999999999999,
          -8.411999999999999
         ],
         "yaxis": "y9"
        },
        {
         "alignmentgroup": "True",
         "hovertemplate": "method=cdan<br>data_name=ce11->mm10<br>metric=%{x}<br>diff=%{y}<extra></extra>",
         "legendgroup": "cdan",
         "marker": {
          "color": "#00cc96",
          "pattern": {
           "shape": ""
          }
         },
         "name": "cdan",
         "offsetgroup": "cdan",
         "orientation": "v",
         "showlegend": false,
         "textposition": "auto",
         "type": "bar",
         "x": [
          "accuracy",
          "pr_auc",
          "roc_auc"
         ],
         "xaxis": "x10",
         "y": [
          2.429000000000002,
          8.652000000000001,
          3.7510000000000048
         ],
         "yaxis": "y10"
        },
        {
         "alignmentgroup": "True",
         "hovertemplate": "method=cdan<br>data_name=ce11->hg38<br>metric=%{x}<br>diff=%{y}<extra></extra>",
         "legendgroup": "cdan",
         "marker": {
          "color": "#00cc96",
          "pattern": {
           "shape": ""
          }
         },
         "name": "cdan",
         "offsetgroup": "cdan",
         "orientation": "v",
         "showlegend": false,
         "textposition": "auto",
         "type": "bar",
         "x": [
          "accuracy",
          "pr_auc",
          "roc_auc"
         ],
         "xaxis": "x11",
         "y": [
          -2.556999999999995,
          -0.2980000000000018,
          0.9009999999999962
         ],
         "yaxis": "y11"
        },
        {
         "alignmentgroup": "True",
         "hovertemplate": "method=cdan<br>data_name=ce11->dm6<br>metric=%{x}<br>diff=%{y}<extra></extra>",
         "legendgroup": "cdan",
         "marker": {
          "color": "#00cc96",
          "pattern": {
           "shape": ""
          }
         },
         "name": "cdan",
         "offsetgroup": "cdan",
         "orientation": "v",
         "showlegend": false,
         "textposition": "auto",
         "type": "bar",
         "x": [
          "accuracy",
          "pr_auc",
          "roc_auc"
         ],
         "xaxis": "x12",
         "y": [
          0.8549999999999969,
          3.067999999999998,
          0.25900000000000034
         ],
         "yaxis": "y12"
        },
        {
         "alignmentgroup": "True",
         "hovertemplate": "method=dan<br>data_name=mm10->hg38<br>metric=%{x}<br>diff=%{y}<extra></extra>",
         "legendgroup": "dan",
         "marker": {
          "color": "#ab63fa",
          "pattern": {
           "shape": ""
          }
         },
         "name": "dan",
         "offsetgroup": "dan",
         "orientation": "v",
         "showlegend": true,
         "textposition": "auto",
         "type": "bar",
         "x": [
          "accuracy",
          "pr_auc",
          "roc_auc"
         ],
         "xaxis": "x",
         "y": [
          -3.4099999999999966,
          -5.611000000000004,
          -4.672000000000004
         ],
         "yaxis": "y"
        },
        {
         "alignmentgroup": "True",
         "hovertemplate": "method=dan<br>data_name=mm10->dm6<br>metric=%{x}<br>diff=%{y}<extra></extra>",
         "legendgroup": "dan",
         "marker": {
          "color": "#ab63fa",
          "pattern": {
           "shape": ""
          }
         },
         "name": "dan",
         "offsetgroup": "dan",
         "orientation": "v",
         "showlegend": false,
         "textposition": "auto",
         "type": "bar",
         "x": [
          "accuracy",
          "pr_auc",
          "roc_auc"
         ],
         "xaxis": "x2",
         "y": [
          2.756999999999991,
          2.5109999999999957,
          2.263999999999996
         ],
         "yaxis": "y2"
        },
        {
         "alignmentgroup": "True",
         "hovertemplate": "method=dan<br>data_name=mm10->ce11<br>metric=%{x}<br>diff=%{y}<extra></extra>",
         "legendgroup": "dan",
         "marker": {
          "color": "#ab63fa",
          "pattern": {
           "shape": ""
          }
         },
         "name": "dan",
         "offsetgroup": "dan",
         "orientation": "v",
         "showlegend": false,
         "textposition": "auto",
         "type": "bar",
         "x": [
          "accuracy",
          "pr_auc",
          "roc_auc"
         ],
         "xaxis": "x3",
         "y": [
          -6.961000000000006,
          -6.583999999999996,
          -1.3260000000000005
         ],
         "yaxis": "y3"
        },
        {
         "alignmentgroup": "True",
         "hovertemplate": "method=dan<br>data_name=hg38->mm10<br>metric=%{x}<br>diff=%{y}<extra></extra>",
         "legendgroup": "dan",
         "marker": {
          "color": "#ab63fa",
          "pattern": {
           "shape": ""
          }
         },
         "name": "dan",
         "offsetgroup": "dan",
         "orientation": "v",
         "showlegend": false,
         "textposition": "auto",
         "type": "bar",
         "x": [
          "accuracy",
          "pr_auc",
          "roc_auc"
         ],
         "xaxis": "x4",
         "y": [
          1.8739999999999952,
          -6.653999999999996,
          -1.2720000000000056
         ],
         "yaxis": "y4"
        },
        {
         "alignmentgroup": "True",
         "hovertemplate": "method=dan<br>data_name=hg38->dm6<br>metric=%{x}<br>diff=%{y}<extra></extra>",
         "legendgroup": "dan",
         "marker": {
          "color": "#ab63fa",
          "pattern": {
           "shape": ""
          }
         },
         "name": "dan",
         "offsetgroup": "dan",
         "orientation": "v",
         "showlegend": false,
         "textposition": "auto",
         "type": "bar",
         "x": [
          "accuracy",
          "pr_auc",
          "roc_auc"
         ],
         "xaxis": "x5",
         "y": [
          0.46300000000000097,
          0.45000000000000284,
          1.4040000000000106
         ],
         "yaxis": "y5"
        },
        {
         "alignmentgroup": "True",
         "hovertemplate": "method=dan<br>data_name=hg38->ce11<br>metric=%{x}<br>diff=%{y}<extra></extra>",
         "legendgroup": "dan",
         "marker": {
          "color": "#ab63fa",
          "pattern": {
           "shape": ""
          }
         },
         "name": "dan",
         "offsetgroup": "dan",
         "orientation": "v",
         "showlegend": false,
         "textposition": "auto",
         "type": "bar",
         "x": [
          "accuracy",
          "pr_auc",
          "roc_auc"
         ],
         "xaxis": "x6",
         "y": [
          -16.335,
          -13.416999999999994,
          -15.220999999999997
         ],
         "yaxis": "y6"
        },
        {
         "alignmentgroup": "True",
         "hovertemplate": "method=dan<br>data_name=dm6->mm10<br>metric=%{x}<br>diff=%{y}<extra></extra>",
         "legendgroup": "dan",
         "marker": {
          "color": "#ab63fa",
          "pattern": {
           "shape": ""
          }
         },
         "name": "dan",
         "offsetgroup": "dan",
         "orientation": "v",
         "showlegend": false,
         "textposition": "auto",
         "type": "bar",
         "x": [
          "accuracy",
          "pr_auc",
          "roc_auc"
         ],
         "xaxis": "x7",
         "y": [
          -5.063999999999993,
          -5.583999999999989,
          -2.7630000000000052
         ],
         "yaxis": "y7"
        },
        {
         "alignmentgroup": "True",
         "hovertemplate": "method=dan<br>data_name=dm6->hg38<br>metric=%{x}<br>diff=%{y}<extra></extra>",
         "legendgroup": "dan",
         "marker": {
          "color": "#ab63fa",
          "pattern": {
           "shape": ""
          }
         },
         "name": "dan",
         "offsetgroup": "dan",
         "orientation": "v",
         "showlegend": false,
         "textposition": "auto",
         "type": "bar",
         "x": [
          "accuracy",
          "pr_auc",
          "roc_auc"
         ],
         "xaxis": "x8",
         "y": [
          -5.6810000000000045,
          -8.497000000000007,
          -9.454
         ],
         "yaxis": "y8"
        },
        {
         "alignmentgroup": "True",
         "hovertemplate": "method=dan<br>data_name=dm6->ce11<br>metric=%{x}<br>diff=%{y}<extra></extra>",
         "legendgroup": "dan",
         "marker": {
          "color": "#ab63fa",
          "pattern": {
           "shape": ""
          }
         },
         "name": "dan",
         "offsetgroup": "dan",
         "orientation": "v",
         "showlegend": false,
         "textposition": "auto",
         "type": "bar",
         "x": [
          "accuracy",
          "pr_auc",
          "roc_auc"
         ],
         "xaxis": "x9",
         "y": [
          -5.966000000000001,
          -9.546,
          -15.207
         ],
         "yaxis": "y9"
        },
        {
         "alignmentgroup": "True",
         "hovertemplate": "method=dan<br>data_name=ce11->mm10<br>metric=%{x}<br>diff=%{y}<extra></extra>",
         "legendgroup": "dan",
         "marker": {
          "color": "#ab63fa",
          "pattern": {
           "shape": ""
          }
         },
         "name": "dan",
         "offsetgroup": "dan",
         "orientation": "v",
         "showlegend": false,
         "textposition": "auto",
         "type": "bar",
         "x": [
          "accuracy",
          "pr_auc",
          "roc_auc"
         ],
         "xaxis": "x10",
         "y": [
          -1.218999999999994,
          1.948999999999998,
          0.7579999999999956
         ],
         "yaxis": "y10"
        },
        {
         "alignmentgroup": "True",
         "hovertemplate": "method=dan<br>data_name=ce11->hg38<br>metric=%{x}<br>diff=%{y}<extra></extra>",
         "legendgroup": "dan",
         "marker": {
          "color": "#ab63fa",
          "pattern": {
           "shape": ""
          }
         },
         "name": "dan",
         "offsetgroup": "dan",
         "orientation": "v",
         "showlegend": false,
         "textposition": "auto",
         "type": "bar",
         "x": [
          "accuracy",
          "pr_auc",
          "roc_auc"
         ],
         "xaxis": "x11",
         "y": [
          -1.1359999999999957,
          -7.186999999999998,
          -6.147000000000006
         ],
         "yaxis": "y11"
        },
        {
         "alignmentgroup": "True",
         "hovertemplate": "method=dan<br>data_name=ce11->dm6<br>metric=%{x}<br>diff=%{y}<extra></extra>",
         "legendgroup": "dan",
         "marker": {
          "color": "#ab63fa",
          "pattern": {
           "shape": ""
          }
         },
         "name": "dan",
         "offsetgroup": "dan",
         "orientation": "v",
         "showlegend": false,
         "textposition": "auto",
         "type": "bar",
         "x": [
          "accuracy",
          "pr_auc",
          "roc_auc"
         ],
         "xaxis": "x12",
         "y": [
          1.8079999999999998,
          2.692,
          1.5110000000000028
         ],
         "yaxis": "y12"
        },
        {
         "alignmentgroup": "True",
         "hovertemplate": "method=dann<br>data_name=mm10->hg38<br>metric=%{x}<br>diff=%{y}<extra></extra>",
         "legendgroup": "dann",
         "marker": {
          "color": "#FFA15A",
          "pattern": {
           "shape": ""
          }
         },
         "name": "dann",
         "offsetgroup": "dann",
         "orientation": "v",
         "showlegend": true,
         "textposition": "auto",
         "type": "bar",
         "x": [
          "accuracy",
          "pr_auc",
          "roc_auc"
         ],
         "xaxis": "x",
         "y": [
          -3.9780000000000015,
          -8.396999999999998,
          -6.709000000000003
         ],
         "yaxis": "y"
        },
        {
         "alignmentgroup": "True",
         "hovertemplate": "method=dann<br>data_name=mm10->dm6<br>metric=%{x}<br>diff=%{y}<extra></extra>",
         "legendgroup": "dann",
         "marker": {
          "color": "#FFA15A",
          "pattern": {
           "shape": ""
          }
         },
         "name": "dann",
         "offsetgroup": "dann",
         "orientation": "v",
         "showlegend": false,
         "textposition": "auto",
         "type": "bar",
         "x": [
          "accuracy",
          "pr_auc",
          "roc_auc"
         ],
         "xaxis": "x2",
         "y": [
          2.576999999999998,
          2.274000000000001,
          1.5559999999999974
         ],
         "yaxis": "y2"
        },
        {
         "alignmentgroup": "True",
         "hovertemplate": "method=dann<br>data_name=mm10->ce11<br>metric=%{x}<br>diff=%{y}<extra></extra>",
         "legendgroup": "dann",
         "marker": {
          "color": "#FFA15A",
          "pattern": {
           "shape": ""
          }
         },
         "name": "dann",
         "offsetgroup": "dann",
         "orientation": "v",
         "showlegend": false,
         "textposition": "auto",
         "type": "bar",
         "x": [
          "accuracy",
          "pr_auc",
          "roc_auc"
         ],
         "xaxis": "x3",
         "y": [
          -7.813000000000002,
          -3.137999999999998,
          -1.3840000000000003
         ],
         "yaxis": "y3"
        },
        {
         "alignmentgroup": "True",
         "hovertemplate": "method=dann<br>data_name=hg38->mm10<br>metric=%{x}<br>diff=%{y}<extra></extra>",
         "legendgroup": "dann",
         "marker": {
          "color": "#FFA15A",
          "pattern": {
           "shape": ""
          }
         },
         "name": "dann",
         "offsetgroup": "dann",
         "orientation": "v",
         "showlegend": false,
         "textposition": "auto",
         "type": "bar",
         "x": [
          "accuracy",
          "pr_auc",
          "roc_auc"
         ],
         "xaxis": "x4",
         "y": [
          -5.8359999999999985,
          -12.852999999999994,
          -10.104
         ],
         "yaxis": "y4"
        },
        {
         "alignmentgroup": "True",
         "hovertemplate": "method=dann<br>data_name=hg38->dm6<br>metric=%{x}<br>diff=%{y}<extra></extra>",
         "legendgroup": "dann",
         "marker": {
          "color": "#FFA15A",
          "pattern": {
           "shape": ""
          }
         },
         "name": "dann",
         "offsetgroup": "dann",
         "orientation": "v",
         "showlegend": false,
         "textposition": "auto",
         "type": "bar",
         "x": [
          "accuracy",
          "pr_auc",
          "roc_auc"
         ],
         "xaxis": "x5",
         "y": [
          -5.225000000000001,
          -5.9410000000000025,
          -7.533999999999992
         ],
         "yaxis": "y5"
        },
        {
         "alignmentgroup": "True",
         "hovertemplate": "method=dann<br>data_name=hg38->ce11<br>metric=%{x}<br>diff=%{y}<extra></extra>",
         "legendgroup": "dann",
         "marker": {
          "color": "#FFA15A",
          "pattern": {
           "shape": ""
          }
         },
         "name": "dann",
         "offsetgroup": "dann",
         "orientation": "v",
         "showlegend": false,
         "textposition": "auto",
         "type": "bar",
         "x": [
          "accuracy",
          "pr_auc",
          "roc_auc"
         ],
         "xaxis": "x6",
         "y": [
          -9.801000000000002,
          -12.461999999999996,
          -5.908000000000001
         ],
         "yaxis": "y6"
        },
        {
         "alignmentgroup": "True",
         "hovertemplate": "method=dann<br>data_name=dm6->mm10<br>metric=%{x}<br>diff=%{y}<extra></extra>",
         "legendgroup": "dann",
         "marker": {
          "color": "#FFA15A",
          "pattern": {
           "shape": ""
          }
         },
         "name": "dann",
         "offsetgroup": "dann",
         "orientation": "v",
         "showlegend": false,
         "textposition": "auto",
         "type": "bar",
         "x": [
          "accuracy",
          "pr_auc",
          "roc_auc"
         ],
         "xaxis": "x7",
         "y": [
          -8.341999999999999,
          -10.006,
          -6.146000000000001
         ],
         "yaxis": "y7"
        },
        {
         "alignmentgroup": "True",
         "hovertemplate": "method=dann<br>data_name=dm6->hg38<br>metric=%{x}<br>diff=%{y}<extra></extra>",
         "legendgroup": "dann",
         "marker": {
          "color": "#FFA15A",
          "pattern": {
           "shape": ""
          }
         },
         "name": "dann",
         "offsetgroup": "dann",
         "orientation": "v",
         "showlegend": false,
         "textposition": "auto",
         "type": "bar",
         "x": [
          "accuracy",
          "pr_auc",
          "roc_auc"
         ],
         "xaxis": "x8",
         "y": [
          -13.636000000000003,
          -18.127000000000002,
          -20.567
         ],
         "yaxis": "y8"
        },
        {
         "alignmentgroup": "True",
         "hovertemplate": "method=dann<br>data_name=dm6->ce11<br>metric=%{x}<br>diff=%{y}<extra></extra>",
         "legendgroup": "dann",
         "marker": {
          "color": "#FFA15A",
          "pattern": {
           "shape": ""
          }
         },
         "name": "dann",
         "offsetgroup": "dann",
         "orientation": "v",
         "showlegend": false,
         "textposition": "auto",
         "type": "bar",
         "x": [
          "accuracy",
          "pr_auc",
          "roc_auc"
         ],
         "xaxis": "x9",
         "y": [
          -10.512,
          -8.716000000000001,
          -9.867999999999995
         ],
         "yaxis": "y9"
        },
        {
         "alignmentgroup": "True",
         "hovertemplate": "method=dann<br>data_name=ce11->mm10<br>metric=%{x}<br>diff=%{y}<extra></extra>",
         "legendgroup": "dann",
         "marker": {
          "color": "#FFA15A",
          "pattern": {
           "shape": ""
          }
         },
         "name": "dann",
         "offsetgroup": "dann",
         "orientation": "v",
         "showlegend": false,
         "textposition": "auto",
         "type": "bar",
         "x": [
          "accuracy",
          "pr_auc",
          "roc_auc"
         ],
         "xaxis": "x10",
         "y": [
          2.0150000000000006,
          8.637,
          3.6410000000000053
         ],
         "yaxis": "y10"
        },
        {
         "alignmentgroup": "True",
         "hovertemplate": "method=dann<br>data_name=ce11->hg38<br>metric=%{x}<br>diff=%{y}<extra></extra>",
         "legendgroup": "dann",
         "marker": {
          "color": "#FFA15A",
          "pattern": {
           "shape": ""
          }
         },
         "name": "dann",
         "offsetgroup": "dann",
         "orientation": "v",
         "showlegend": false,
         "textposition": "auto",
         "type": "bar",
         "x": [
          "accuracy",
          "pr_auc",
          "roc_auc"
         ],
         "xaxis": "x11",
         "y": [
          -1.9879999999999995,
          -7.685000000000002,
          -6.359000000000002
         ],
         "yaxis": "y11"
        },
        {
         "alignmentgroup": "True",
         "hovertemplate": "method=dann<br>data_name=ce11->dm6<br>metric=%{x}<br>diff=%{y}<extra></extra>",
         "legendgroup": "dann",
         "marker": {
          "color": "#FFA15A",
          "pattern": {
           "shape": ""
          }
         },
         "name": "dann",
         "offsetgroup": "dann",
         "orientation": "v",
         "showlegend": false,
         "textposition": "auto",
         "type": "bar",
         "x": [
          "accuracy",
          "pr_auc",
          "roc_auc"
         ],
         "xaxis": "x12",
         "y": [
          -1.5110000000000028,
          -0.11700000000000443,
          -2.128
         ],
         "yaxis": "y12"
        },
        {
         "alignmentgroup": "True",
         "hovertemplate": "method=jan<br>data_name=mm10->hg38<br>metric=%{x}<br>diff=%{y}<extra></extra>",
         "legendgroup": "jan",
         "marker": {
          "color": "#19d3f3",
          "pattern": {
           "shape": ""
          }
         },
         "name": "jan",
         "offsetgroup": "jan",
         "orientation": "v",
         "showlegend": true,
         "textposition": "auto",
         "type": "bar",
         "x": [
          "accuracy",
          "pr_auc",
          "roc_auc"
         ],
         "xaxis": "x",
         "y": [
          -8.238999999999997,
          -5.670000000000002,
          -4.837000000000003
         ],
         "yaxis": "y"
        },
        {
         "alignmentgroup": "True",
         "hovertemplate": "method=jan<br>data_name=mm10->dm6<br>metric=%{x}<br>diff=%{y}<extra></extra>",
         "legendgroup": "jan",
         "marker": {
          "color": "#19d3f3",
          "pattern": {
           "shape": ""
          }
         },
         "name": "jan",
         "offsetgroup": "jan",
         "orientation": "v",
         "showlegend": false,
         "textposition": "auto",
         "type": "bar",
         "x": [
          "accuracy",
          "pr_auc",
          "roc_auc"
         ],
         "xaxis": "x2",
         "y": [
          2.0959999999999965,
          2.1129999999999995,
          1.9399999999999977
         ],
         "yaxis": "y2"
        },
        {
         "alignmentgroup": "True",
         "hovertemplate": "method=jan<br>data_name=mm10->ce11<br>metric=%{x}<br>diff=%{y}<extra></extra>",
         "legendgroup": "jan",
         "marker": {
          "color": "#19d3f3",
          "pattern": {
           "shape": ""
          }
         },
         "name": "jan",
         "offsetgroup": "jan",
         "orientation": "v",
         "showlegend": false,
         "textposition": "auto",
         "type": "bar",
         "x": [
          "accuracy",
          "pr_auc",
          "roc_auc"
         ],
         "xaxis": "x3",
         "y": [
          -7.1030000000000015,
          -3.6409999999999982,
          -0.6430000000000007
         ],
         "yaxis": "y3"
        },
        {
         "alignmentgroup": "True",
         "hovertemplate": "method=jan<br>data_name=hg38->mm10<br>metric=%{x}<br>diff=%{y}<extra></extra>",
         "legendgroup": "jan",
         "marker": {
          "color": "#19d3f3",
          "pattern": {
           "shape": ""
          }
         },
         "name": "jan",
         "offsetgroup": "jan",
         "orientation": "v",
         "showlegend": false,
         "textposition": "auto",
         "type": "bar",
         "x": [
          "accuracy",
          "pr_auc",
          "roc_auc"
         ],
         "xaxis": "x4",
         "y": [
          -5.0760000000000005,
          -14.366,
          -9.585999999999999
         ],
         "yaxis": "y4"
        },
        {
         "alignmentgroup": "True",
         "hovertemplate": "method=jan<br>data_name=hg38->dm6<br>metric=%{x}<br>diff=%{y}<extra></extra>",
         "legendgroup": "jan",
         "marker": {
          "color": "#19d3f3",
          "pattern": {
           "shape": ""
          }
         },
         "name": "jan",
         "offsetgroup": "jan",
         "orientation": "v",
         "showlegend": false,
         "textposition": "auto",
         "type": "bar",
         "x": [
          "accuracy",
          "pr_auc",
          "roc_auc"
         ],
         "xaxis": "x5",
         "y": [
          -2.1769999999999996,
          -1.0219999999999985,
          -3.962999999999994
         ],
         "yaxis": "y5"
        },
        {
         "alignmentgroup": "True",
         "hovertemplate": "method=jan<br>data_name=hg38->ce11<br>metric=%{x}<br>diff=%{y}<extra></extra>",
         "legendgroup": "jan",
         "marker": {
          "color": "#19d3f3",
          "pattern": {
           "shape": ""
          }
         },
         "name": "jan",
         "offsetgroup": "jan",
         "orientation": "v",
         "showlegend": false,
         "textposition": "auto",
         "type": "bar",
         "x": [
          "accuracy",
          "pr_auc",
          "roc_auc"
         ],
         "xaxis": "x6",
         "y": [
          -13.352000000000004,
          -11.504999999999995,
          -9.238999999999997
         ],
         "yaxis": "y6"
        },
        {
         "alignmentgroup": "True",
         "hovertemplate": "method=jan<br>data_name=dm6->mm10<br>metric=%{x}<br>diff=%{y}<extra></extra>",
         "legendgroup": "jan",
         "marker": {
          "color": "#19d3f3",
          "pattern": {
           "shape": ""
          }
         },
         "name": "jan",
         "offsetgroup": "jan",
         "orientation": "v",
         "showlegend": false,
         "textposition": "auto",
         "type": "bar",
         "x": [
          "accuracy",
          "pr_auc",
          "roc_auc"
         ],
         "xaxis": "x7",
         "y": [
          -9.225999999999999,
          -13.001999999999995,
          -8.920000000000002
         ],
         "yaxis": "y7"
        },
        {
         "alignmentgroup": "True",
         "hovertemplate": "method=jan<br>data_name=dm6->hg38<br>metric=%{x}<br>diff=%{y}<extra></extra>",
         "legendgroup": "jan",
         "marker": {
          "color": "#19d3f3",
          "pattern": {
           "shape": ""
          }
         },
         "name": "jan",
         "offsetgroup": "jan",
         "orientation": "v",
         "showlegend": false,
         "textposition": "auto",
         "type": "bar",
         "x": [
          "accuracy",
          "pr_auc",
          "roc_auc"
         ],
         "xaxis": "x8",
         "y": [
          -11.646999999999998,
          -15.498000000000005,
          -17.918
         ],
         "yaxis": "y8"
        },
        {
         "alignmentgroup": "True",
         "hovertemplate": "method=jan<br>data_name=dm6->ce11<br>metric=%{x}<br>diff=%{y}<extra></extra>",
         "legendgroup": "jan",
         "marker": {
          "color": "#19d3f3",
          "pattern": {
           "shape": ""
          }
         },
         "name": "jan",
         "offsetgroup": "jan",
         "orientation": "v",
         "showlegend": false,
         "textposition": "auto",
         "type": "bar",
         "x": [
          "accuracy",
          "pr_auc",
          "roc_auc"
         ],
         "xaxis": "x9",
         "y": [
          -12.927,
          -14.21,
          -15.534999999999997
         ],
         "yaxis": "y9"
        },
        {
         "alignmentgroup": "True",
         "hovertemplate": "method=jan<br>data_name=ce11->mm10<br>metric=%{x}<br>diff=%{y}<extra></extra>",
         "legendgroup": "jan",
         "marker": {
          "color": "#19d3f3",
          "pattern": {
           "shape": ""
          }
         },
         "name": "jan",
         "offsetgroup": "jan",
         "orientation": "v",
         "showlegend": false,
         "textposition": "auto",
         "type": "bar",
         "x": [
          "accuracy",
          "pr_auc",
          "roc_auc"
         ],
         "xaxis": "x10",
         "y": [
          0.39799999999999613,
          8.727999999999994,
          3.218999999999994
         ],
         "yaxis": "y10"
        },
        {
         "alignmentgroup": "True",
         "hovertemplate": "method=jan<br>data_name=ce11->hg38<br>metric=%{x}<br>diff=%{y}<extra></extra>",
         "legendgroup": "jan",
         "marker": {
          "color": "#19d3f3",
          "pattern": {
           "shape": ""
          }
         },
         "name": "jan",
         "offsetgroup": "jan",
         "orientation": "v",
         "showlegend": false,
         "textposition": "auto",
         "type": "bar",
         "x": [
          "accuracy",
          "pr_auc",
          "roc_auc"
         ],
         "xaxis": "x11",
         "y": [
          -1.1359999999999957,
          -4.862000000000002,
          -2.977000000000004
         ],
         "yaxis": "y11"
        },
        {
         "alignmentgroup": "True",
         "hovertemplate": "method=jan<br>data_name=ce11->dm6<br>metric=%{x}<br>diff=%{y}<extra></extra>",
         "legendgroup": "jan",
         "marker": {
          "color": "#19d3f3",
          "pattern": {
           "shape": ""
          }
         },
         "name": "jan",
         "offsetgroup": "jan",
         "orientation": "v",
         "showlegend": false,
         "textposition": "auto",
         "type": "bar",
         "x": [
          "accuracy",
          "pr_auc",
          "roc_auc"
         ],
         "xaxis": "x12",
         "y": [
          2.702999999999996,
          7.154999999999994,
          2.9010000000000034
         ],
         "yaxis": "y12"
        },
        {
         "alignmentgroup": "True",
         "hovertemplate": "method=mcc<br>data_name=mm10->hg38<br>metric=%{x}<br>diff=%{y}<extra></extra>",
         "legendgroup": "mcc",
         "marker": {
          "color": "#FF6692",
          "pattern": {
           "shape": ""
          }
         },
         "name": "mcc",
         "offsetgroup": "mcc",
         "orientation": "v",
         "showlegend": true,
         "textposition": "auto",
         "type": "bar",
         "x": [
          "accuracy",
          "pr_auc",
          "roc_auc"
         ],
         "xaxis": "x",
         "y": [
          2.8090000000000046,
          0.33099999999999596,
          1.024000000000001
         ],
         "yaxis": "y"
        },
        {
         "alignmentgroup": "True",
         "hovertemplate": "method=mcc<br>data_name=mm10->dm6<br>metric=%{x}<br>diff=%{y}<extra></extra>",
         "legendgroup": "mcc",
         "marker": {
          "color": "#FF6692",
          "pattern": {
           "shape": ""
          }
         },
         "name": "mcc",
         "offsetgroup": "mcc",
         "orientation": "v",
         "showlegend": false,
         "textposition": "auto",
         "type": "bar",
         "x": [
          "accuracy",
          "pr_auc",
          "roc_auc"
         ],
         "xaxis": "x2",
         "y": [
          1.5779999999999959,
          0.8699999999999903,
          1.492999999999995
         ],
         "yaxis": "y2"
        },
        {
         "alignmentgroup": "True",
         "hovertemplate": "method=mcc<br>data_name=mm10->ce11<br>metric=%{x}<br>diff=%{y}<extra></extra>",
         "legendgroup": "mcc",
         "marker": {
          "color": "#FF6692",
          "pattern": {
           "shape": ""
          }
         },
         "name": "mcc",
         "offsetgroup": "mcc",
         "orientation": "v",
         "showlegend": false,
         "textposition": "auto",
         "type": "bar",
         "x": [
          "accuracy",
          "pr_auc",
          "roc_auc"
         ],
         "xaxis": "x3",
         "y": [
          -4.688000000000002,
          -2.891999999999996,
          -2.362000000000002
         ],
         "yaxis": "y3"
        },
        {
         "alignmentgroup": "True",
         "hovertemplate": "method=mcc<br>data_name=hg38->mm10<br>metric=%{x}<br>diff=%{y}<extra></extra>",
         "legendgroup": "mcc",
         "marker": {
          "color": "#FF6692",
          "pattern": {
           "shape": ""
          }
         },
         "name": "mcc",
         "offsetgroup": "mcc",
         "orientation": "v",
         "showlegend": false,
         "textposition": "auto",
         "type": "bar",
         "x": [
          "accuracy",
          "pr_auc",
          "roc_auc"
         ],
         "xaxis": "x4",
         "y": [
          -1.036999999999992,
          -4.589999999999989,
          -3.9939999999999998
         ],
         "yaxis": "y4"
        },
        {
         "alignmentgroup": "True",
         "hovertemplate": "method=mcc<br>data_name=hg38->dm6<br>metric=%{x}<br>diff=%{y}<extra></extra>",
         "legendgroup": "mcc",
         "marker": {
          "color": "#FF6692",
          "pattern": {
           "shape": ""
          }
         },
         "name": "mcc",
         "offsetgroup": "mcc",
         "orientation": "v",
         "showlegend": false,
         "textposition": "auto",
         "type": "bar",
         "x": [
          "accuracy",
          "pr_auc",
          "roc_auc"
         ],
         "xaxis": "x5",
         "y": [
          -1.536999999999999,
          -0.9390000000000001,
          -1.407999999999987
         ],
         "yaxis": "y5"
        },
        {
         "alignmentgroup": "True",
         "hovertemplate": "method=mcc<br>data_name=hg38->ce11<br>metric=%{x}<br>diff=%{y}<extra></extra>",
         "legendgroup": "mcc",
         "marker": {
          "color": "#FF6692",
          "pattern": {
           "shape": ""
          }
         },
         "name": "mcc",
         "offsetgroup": "mcc",
         "orientation": "v",
         "showlegend": false,
         "textposition": "auto",
         "type": "bar",
         "x": [
          "accuracy",
          "pr_auc",
          "roc_auc"
         ],
         "xaxis": "x6",
         "y": [
          -11.847999999999999,
          -12.033999999999999,
          -13.853000000000002
         ],
         "yaxis": "y6"
        },
        {
         "alignmentgroup": "True",
         "hovertemplate": "method=mcc<br>data_name=dm6->mm10<br>metric=%{x}<br>diff=%{y}<extra></extra>",
         "legendgroup": "mcc",
         "marker": {
          "color": "#FF6692",
          "pattern": {
           "shape": ""
          }
         },
         "name": "mcc",
         "offsetgroup": "mcc",
         "orientation": "v",
         "showlegend": false,
         "textposition": "auto",
         "type": "bar",
         "x": [
          "accuracy",
          "pr_auc",
          "roc_auc"
         ],
         "xaxis": "x7",
         "y": [
          -9.364000000000004,
          -10.367999999999995,
          -9.516999999999996
         ],
         "yaxis": "y7"
        },
        {
         "alignmentgroup": "True",
         "hovertemplate": "method=mcc<br>data_name=dm6->hg38<br>metric=%{x}<br>diff=%{y}<extra></extra>",
         "legendgroup": "mcc",
         "marker": {
          "color": "#FF6692",
          "pattern": {
           "shape": ""
          }
         },
         "name": "mcc",
         "offsetgroup": "mcc",
         "orientation": "v",
         "showlegend": false,
         "textposition": "auto",
         "type": "bar",
         "x": [
          "accuracy",
          "pr_auc",
          "roc_auc"
         ],
         "xaxis": "x8",
         "y": [
          -8.295000000000002,
          -13.482000000000006,
          -11.670000000000002
         ],
         "yaxis": "y8"
        },
        {
         "alignmentgroup": "True",
         "hovertemplate": "method=mcc<br>data_name=dm6->ce11<br>metric=%{x}<br>diff=%{y}<extra></extra>",
         "legendgroup": "mcc",
         "marker": {
          "color": "#FF6692",
          "pattern": {
           "shape": ""
          }
         },
         "name": "mcc",
         "offsetgroup": "mcc",
         "orientation": "v",
         "showlegend": false,
         "textposition": "auto",
         "type": "bar",
         "x": [
          "accuracy",
          "pr_auc",
          "roc_auc"
         ],
         "xaxis": "x9",
         "y": [
          -2.4580000000000055,
          -6.7520000000000024,
          -5.302
         ],
         "yaxis": "y9"
        },
        {
         "alignmentgroup": "True",
         "hovertemplate": "method=mcc<br>data_name=ce11->mm10<br>metric=%{x}<br>diff=%{y}<extra></extra>",
         "legendgroup": "mcc",
         "marker": {
          "color": "#FF6692",
          "pattern": {
           "shape": ""
          }
         },
         "name": "mcc",
         "offsetgroup": "mcc",
         "orientation": "v",
         "showlegend": false,
         "textposition": "auto",
         "type": "bar",
         "x": [
          "accuracy",
          "pr_auc",
          "roc_auc"
         ],
         "xaxis": "x10",
         "y": [
          3.4170000000000016,
          8.716999999999999,
          4.126000000000005
         ],
         "yaxis": "y10"
        },
        {
         "alignmentgroup": "True",
         "hovertemplate": "method=mcc<br>data_name=ce11->hg38<br>metric=%{x}<br>diff=%{y}<extra></extra>",
         "legendgroup": "mcc",
         "marker": {
          "color": "#FF6692",
          "pattern": {
           "shape": ""
          }
         },
         "name": "mcc",
         "offsetgroup": "mcc",
         "orientation": "v",
         "showlegend": false,
         "textposition": "auto",
         "type": "bar",
         "x": [
          "accuracy",
          "pr_auc",
          "roc_auc"
         ],
         "xaxis": "x11",
         "y": [
          -1.4079999999999941,
          -4.7620000000000005,
          -5.656000000000006
         ],
         "yaxis": "y11"
        },
        {
         "alignmentgroup": "True",
         "hovertemplate": "method=mcc<br>data_name=ce11->dm6<br>metric=%{x}<br>diff=%{y}<extra></extra>",
         "legendgroup": "mcc",
         "marker": {
          "color": "#FF6692",
          "pattern": {
           "shape": ""
          }
         },
         "name": "mcc",
         "offsetgroup": "mcc",
         "orientation": "v",
         "showlegend": false,
         "textposition": "auto",
         "type": "bar",
         "x": [
          "accuracy",
          "pr_auc",
          "roc_auc"
         ],
         "xaxis": "x12",
         "y": [
          2.6310000000000002,
          4.404999999999994,
          2.732999999999997
         ],
         "yaxis": "y12"
        },
        {
         "alignmentgroup": "True",
         "hovertemplate": "method=mcd<br>data_name=mm10->hg38<br>metric=%{x}<br>diff=%{y}<extra></extra>",
         "legendgroup": "mcd",
         "marker": {
          "color": "#B6E880",
          "pattern": {
           "shape": ""
          }
         },
         "name": "mcd",
         "offsetgroup": "mcd",
         "orientation": "v",
         "showlegend": true,
         "textposition": "auto",
         "type": "bar",
         "x": [
          "accuracy",
          "pr_auc",
          "roc_auc"
         ],
         "xaxis": "x",
         "y": [
          -5.113999999999997,
          -3.6910000000000025,
          -4.175000000000004
         ],
         "yaxis": "y"
        },
        {
         "alignmentgroup": "True",
         "hovertemplate": "method=mcd<br>data_name=mm10->dm6<br>metric=%{x}<br>diff=%{y}<extra></extra>",
         "legendgroup": "mcd",
         "marker": {
          "color": "#B6E880",
          "pattern": {
           "shape": ""
          }
         },
         "name": "mcd",
         "offsetgroup": "mcd",
         "orientation": "v",
         "showlegend": false,
         "textposition": "auto",
         "type": "bar",
         "x": [
          "accuracy",
          "pr_auc",
          "roc_auc"
         ],
         "xaxis": "x2",
         "y": [
          0.2839999999999989,
          2.9200000000000017,
          1.933000000000007
         ],
         "yaxis": "y2"
        },
        {
         "alignmentgroup": "True",
         "hovertemplate": "method=mcd<br>data_name=mm10->ce11<br>metric=%{x}<br>diff=%{y}<extra></extra>",
         "legendgroup": "mcd",
         "marker": {
          "color": "#B6E880",
          "pattern": {
           "shape": ""
          }
         },
         "name": "mcd",
         "offsetgroup": "mcd",
         "orientation": "v",
         "showlegend": false,
         "textposition": "auto",
         "type": "bar",
         "x": [
          "accuracy",
          "pr_auc",
          "roc_auc"
         ],
         "xaxis": "x3",
         "y": [
          -3.5519999999999996,
          -5.409999999999997,
          -4.601999999999997
         ],
         "yaxis": "y3"
        },
        {
         "alignmentgroup": "True",
         "hovertemplate": "method=mcd<br>data_name=hg38->mm10<br>metric=%{x}<br>diff=%{y}<extra></extra>",
         "legendgroup": "mcd",
         "marker": {
          "color": "#B6E880",
          "pattern": {
           "shape": ""
          }
         },
         "name": "mcd",
         "offsetgroup": "mcd",
         "orientation": "v",
         "showlegend": false,
         "textposition": "auto",
         "type": "bar",
         "x": [
          "accuracy",
          "pr_auc",
          "roc_auc"
         ],
         "xaxis": "x4",
         "y": [
          -1.1500000000000057,
          -7.346999999999994,
          -3.3419999999999987
         ],
         "yaxis": "y4"
        },
        {
         "alignmentgroup": "True",
         "hovertemplate": "method=mcd<br>data_name=hg38->dm6<br>metric=%{x}<br>diff=%{y}<extra></extra>",
         "legendgroup": "mcd",
         "marker": {
          "color": "#B6E880",
          "pattern": {
           "shape": ""
          }
         },
         "name": "mcd",
         "offsetgroup": "mcd",
         "orientation": "v",
         "showlegend": false,
         "textposition": "auto",
         "type": "bar",
         "x": [
          "accuracy",
          "pr_auc",
          "roc_auc"
         ],
         "xaxis": "x5",
         "y": [
          -0.43200000000000216,
          -2.0529999999999973,
          -0.26500000000000057
         ],
         "yaxis": "y5"
        },
        {
         "alignmentgroup": "True",
         "hovertemplate": "method=mcd<br>data_name=hg38->ce11<br>metric=%{x}<br>diff=%{y}<extra></extra>",
         "legendgroup": "mcd",
         "marker": {
          "color": "#B6E880",
          "pattern": {
           "shape": ""
          }
         },
         "name": "mcd",
         "offsetgroup": "mcd",
         "orientation": "v",
         "showlegend": false,
         "textposition": "auto",
         "type": "bar",
         "x": [
          "accuracy",
          "pr_auc",
          "roc_auc"
         ],
         "xaxis": "x6",
         "y": [
          -9.375,
          -6.471999999999994,
          -11.814999999999998
         ],
         "yaxis": "y6"
        },
        {
         "alignmentgroup": "True",
         "hovertemplate": "method=mcd<br>data_name=dm6->mm10<br>metric=%{x}<br>diff=%{y}<extra></extra>",
         "legendgroup": "mcd",
         "marker": {
          "color": "#B6E880",
          "pattern": {
           "shape": ""
          }
         },
         "name": "mcd",
         "offsetgroup": "mcd",
         "orientation": "v",
         "showlegend": false,
         "textposition": "auto",
         "type": "bar",
         "x": [
          "accuracy",
          "pr_auc",
          "roc_auc"
         ],
         "xaxis": "x7",
         "y": [
          2.3730000000000047,
          3.240000000000009,
          2.820999999999998
         ],
         "yaxis": "y7"
        },
        {
         "alignmentgroup": "True",
         "hovertemplate": "method=mcd<br>data_name=dm6->hg38<br>metric=%{x}<br>diff=%{y}<extra></extra>",
         "legendgroup": "mcd",
         "marker": {
          "color": "#B6E880",
          "pattern": {
           "shape": ""
          }
         },
         "name": "mcd",
         "offsetgroup": "mcd",
         "orientation": "v",
         "showlegend": false,
         "textposition": "auto",
         "type": "bar",
         "x": [
          "accuracy",
          "pr_auc",
          "roc_auc"
         ],
         "xaxis": "x8",
         "y": [
          -1.9879999999999995,
          -4.998000000000005,
          -2.358000000000004
         ],
         "yaxis": "y8"
        },
        {
         "alignmentgroup": "True",
         "hovertemplate": "method=mcd<br>data_name=dm6->ce11<br>metric=%{x}<br>diff=%{y}<extra></extra>",
         "legendgroup": "mcd",
         "marker": {
          "color": "#B6E880",
          "pattern": {
           "shape": ""
          }
         },
         "name": "mcd",
         "offsetgroup": "mcd",
         "orientation": "v",
         "showlegend": false,
         "textposition": "auto",
         "type": "bar",
         "x": [
          "accuracy",
          "pr_auc",
          "roc_auc"
         ],
         "xaxis": "x9",
         "y": [
          -4.688000000000002,
          7.864999999999995,
          13.093000000000004
         ],
         "yaxis": "y9"
        },
        {
         "alignmentgroup": "True",
         "hovertemplate": "method=mcd<br>data_name=ce11->mm10<br>metric=%{x}<br>diff=%{y}<extra></extra>",
         "legendgroup": "mcd",
         "marker": {
          "color": "#B6E880",
          "pattern": {
           "shape": ""
          }
         },
         "name": "mcd",
         "offsetgroup": "mcd",
         "orientation": "v",
         "showlegend": false,
         "textposition": "auto",
         "type": "bar",
         "x": [
          "accuracy",
          "pr_auc",
          "roc_auc"
         ],
         "xaxis": "x10",
         "y": [
          -3.6640000000000015,
          1.7270000000000039,
          1.8199999999999932
         ],
         "yaxis": "y10"
        },
        {
         "alignmentgroup": "True",
         "hovertemplate": "method=mcd<br>data_name=ce11->hg38<br>metric=%{x}<br>diff=%{y}<extra></extra>",
         "legendgroup": "mcd",
         "marker": {
          "color": "#B6E880",
          "pattern": {
           "shape": ""
          }
         },
         "name": "mcd",
         "offsetgroup": "mcd",
         "orientation": "v",
         "showlegend": false,
         "textposition": "auto",
         "type": "bar",
         "x": [
          "accuracy",
          "pr_auc",
          "roc_auc"
         ],
         "xaxis": "x11",
         "y": [
          1.9890000000000043,
          -1.791000000000004,
          -0.6069999999999993
         ],
         "yaxis": "y11"
        },
        {
         "alignmentgroup": "True",
         "hovertemplate": "method=mcd<br>data_name=ce11->dm6<br>metric=%{x}<br>diff=%{y}<extra></extra>",
         "legendgroup": "mcd",
         "marker": {
          "color": "#B6E880",
          "pattern": {
           "shape": ""
          }
         },
         "name": "mcd",
         "offsetgroup": "mcd",
         "orientation": "v",
         "showlegend": false,
         "textposition": "auto",
         "type": "bar",
         "x": [
          "accuracy",
          "pr_auc",
          "roc_auc"
         ],
         "xaxis": "x12",
         "y": [
          1.1829999999999998,
          2.1099999999999994,
          0.7939999999999969
         ],
         "yaxis": "y12"
        },
        {
         "alignmentgroup": "True",
         "hovertemplate": "method=mdd<br>data_name=mm10->hg38<br>metric=%{x}<br>diff=%{y}<extra></extra>",
         "legendgroup": "mdd",
         "marker": {
          "color": "#FF97FF",
          "pattern": {
           "shape": ""
          }
         },
         "name": "mdd",
         "offsetgroup": "mdd",
         "orientation": "v",
         "showlegend": true,
         "textposition": "auto",
         "type": "bar",
         "x": [
          "accuracy",
          "pr_auc",
          "roc_auc"
         ],
         "xaxis": "x",
         "y": [
          -3.125,
          -7.707999999999998,
          -7.172000000000004
         ],
         "yaxis": "y"
        },
        {
         "alignmentgroup": "True",
         "hovertemplate": "method=mdd<br>data_name=mm10->dm6<br>metric=%{x}<br>diff=%{y}<extra></extra>",
         "legendgroup": "mdd",
         "marker": {
          "color": "#FF97FF",
          "pattern": {
           "shape": ""
          }
         },
         "name": "mdd",
         "offsetgroup": "mdd",
         "orientation": "v",
         "showlegend": false,
         "textposition": "auto",
         "type": "bar",
         "x": [
          "accuracy",
          "pr_auc",
          "roc_auc"
         ],
         "xaxis": "x2",
         "y": [
          2.792999999999992,
          3.298000000000002,
          2.0700000000000074
         ],
         "yaxis": "y2"
        },
        {
         "alignmentgroup": "True",
         "hovertemplate": "method=mdd<br>data_name=mm10->ce11<br>metric=%{x}<br>diff=%{y}<extra></extra>",
         "legendgroup": "mdd",
         "marker": {
          "color": "#FF97FF",
          "pattern": {
           "shape": ""
          }
         },
         "name": "mdd",
         "offsetgroup": "mdd",
         "orientation": "v",
         "showlegend": false,
         "textposition": "auto",
         "type": "bar",
         "x": [
          "accuracy",
          "pr_auc",
          "roc_auc"
         ],
         "xaxis": "x3",
         "y": [
          -6.108000000000004,
          -5.411999999999999,
          -2.463000000000001
         ],
         "yaxis": "y3"
        },
        {
         "alignmentgroup": "True",
         "hovertemplate": "method=mdd<br>data_name=hg38->mm10<br>metric=%{x}<br>diff=%{y}<extra></extra>",
         "legendgroup": "mdd",
         "marker": {
          "color": "#FF97FF",
          "pattern": {
           "shape": ""
          }
         },
         "name": "mdd",
         "offsetgroup": "mdd",
         "orientation": "v",
         "showlegend": false,
         "textposition": "auto",
         "type": "bar",
         "x": [
          "accuracy",
          "pr_auc",
          "roc_auc"
         ],
         "xaxis": "x4",
         "y": [
          0.5310000000000059,
          -5.565999999999988,
          -1.6620000000000061
         ],
         "yaxis": "y4"
        },
        {
         "alignmentgroup": "True",
         "hovertemplate": "method=mdd<br>data_name=hg38->dm6<br>metric=%{x}<br>diff=%{y}<extra></extra>",
         "legendgroup": "mdd",
         "marker": {
          "color": "#FF97FF",
          "pattern": {
           "shape": ""
          }
         },
         "name": "mdd",
         "offsetgroup": "mdd",
         "orientation": "v",
         "showlegend": false,
         "textposition": "auto",
         "type": "bar",
         "x": [
          "accuracy",
          "pr_auc",
          "roc_auc"
         ],
         "xaxis": "x5",
         "y": [
          1.1370000000000005,
          0.06099999999999284,
          -0.001999999999995339
         ],
         "yaxis": "y5"
        },
        {
         "alignmentgroup": "True",
         "hovertemplate": "method=mdd<br>data_name=hg38->ce11<br>metric=%{x}<br>diff=%{y}<extra></extra>",
         "legendgroup": "mdd",
         "marker": {
          "color": "#FF97FF",
          "pattern": {
           "shape": ""
          }
         },
         "name": "mdd",
         "offsetgroup": "mdd",
         "orientation": "v",
         "showlegend": false,
         "textposition": "auto",
         "type": "bar",
         "x": [
          "accuracy",
          "pr_auc",
          "roc_auc"
         ],
         "xaxis": "x6",
         "y": [
          -2.557000000000002,
          -5.208999999999996,
          3.7620000000000005
         ],
         "yaxis": "y6"
        },
        {
         "alignmentgroup": "True",
         "hovertemplate": "method=mdd<br>data_name=dm6->mm10<br>metric=%{x}<br>diff=%{y}<extra></extra>",
         "legendgroup": "mdd",
         "marker": {
          "color": "#FF97FF",
          "pattern": {
           "shape": ""
          }
         },
         "name": "mdd",
         "offsetgroup": "mdd",
         "orientation": "v",
         "showlegend": false,
         "textposition": "auto",
         "type": "bar",
         "x": [
          "accuracy",
          "pr_auc",
          "roc_auc"
         ],
         "xaxis": "x7",
         "y": [
          -9.536000000000001,
          -10.212999999999994,
          -11.655000000000001
         ],
         "yaxis": "y7"
        },
        {
         "alignmentgroup": "True",
         "hovertemplate": "method=mdd<br>data_name=dm6->hg38<br>metric=%{x}<br>diff=%{y}<extra></extra>",
         "legendgroup": "mdd",
         "marker": {
          "color": "#FF97FF",
          "pattern": {
           "shape": ""
          }
         },
         "name": "mdd",
         "offsetgroup": "mdd",
         "orientation": "v",
         "showlegend": false,
         "textposition": "auto",
         "type": "bar",
         "x": [
          "accuracy",
          "pr_auc",
          "roc_auc"
         ],
         "xaxis": "x8",
         "y": [
          -5.3969999999999985,
          -8.054000000000002,
          -11.075000000000003
         ],
         "yaxis": "y8"
        },
        {
         "alignmentgroup": "True",
         "hovertemplate": "method=mdd<br>data_name=dm6->ce11<br>metric=%{x}<br>diff=%{y}<extra></extra>",
         "legendgroup": "mdd",
         "marker": {
          "color": "#FF97FF",
          "pattern": {
           "shape": ""
          }
         },
         "name": "mdd",
         "offsetgroup": "mdd",
         "orientation": "v",
         "showlegend": false,
         "textposition": "auto",
         "type": "bar",
         "x": [
          "accuracy",
          "pr_auc",
          "roc_auc"
         ],
         "xaxis": "x9",
         "y": [
          -8.949000000000005,
          -8.289000000000001,
          -1.7489999999999952
         ],
         "yaxis": "y9"
        },
        {
         "alignmentgroup": "True",
         "hovertemplate": "method=mdd<br>data_name=ce11->mm10<br>metric=%{x}<br>diff=%{y}<extra></extra>",
         "legendgroup": "mdd",
         "marker": {
          "color": "#FF97FF",
          "pattern": {
           "shape": ""
          }
         },
         "name": "mdd",
         "offsetgroup": "mdd",
         "orientation": "v",
         "showlegend": false,
         "textposition": "auto",
         "type": "bar",
         "x": [
          "accuracy",
          "pr_auc",
          "roc_auc"
         ],
         "xaxis": "x10",
         "y": [
          -0.7279999999999944,
          1.9269999999999925,
          1.7789999999999964
         ],
         "yaxis": "y10"
        },
        {
         "alignmentgroup": "True",
         "hovertemplate": "method=mdd<br>data_name=ce11->hg38<br>metric=%{x}<br>diff=%{y}<extra></extra>",
         "legendgroup": "mdd",
         "marker": {
          "color": "#FF97FF",
          "pattern": {
           "shape": ""
          }
         },
         "name": "mdd",
         "offsetgroup": "mdd",
         "orientation": "v",
         "showlegend": false,
         "textposition": "auto",
         "type": "bar",
         "x": [
          "accuracy",
          "pr_auc",
          "roc_auc"
         ],
         "xaxis": "x11",
         "y": [
          1.9890000000000043,
          -1.2460000000000022,
          2.6099999999999994
         ],
         "yaxis": "y11"
        },
        {
         "alignmentgroup": "True",
         "hovertemplate": "method=mdd<br>data_name=ce11->dm6<br>metric=%{x}<br>diff=%{y}<extra></extra>",
         "legendgroup": "mdd",
         "marker": {
          "color": "#FF97FF",
          "pattern": {
           "shape": ""
          }
         },
         "name": "mdd",
         "offsetgroup": "mdd",
         "orientation": "v",
         "showlegend": false,
         "textposition": "auto",
         "type": "bar",
         "x": [
          "accuracy",
          "pr_auc",
          "roc_auc"
         ],
         "xaxis": "x12",
         "y": [
          3.3499999999999943,
          3.701999999999998,
          3.2449999999999974
         ],
         "yaxis": "y12"
        }
       ],
       "layout": {
        "annotations": [
         {
          "showarrow": false,
          "text": "mm10->hg38",
          "x": 0.0325,
          "xanchor": "center",
          "xref": "paper",
          "y": 1,
          "yanchor": "bottom",
          "yref": "paper"
         },
         {
          "showarrow": false,
          "text": "mm10->dm6",
          "x": 0.11750000000000002,
          "xanchor": "center",
          "xref": "paper",
          "y": 1,
          "yanchor": "bottom",
          "yref": "paper"
         },
         {
          "showarrow": false,
          "text": "mm10->ce11",
          "x": 0.2025,
          "xanchor": "center",
          "xref": "paper",
          "y": 1,
          "yanchor": "bottom",
          "yref": "paper"
         },
         {
          "showarrow": false,
          "text": "hg38->mm10",
          "x": 0.2875,
          "xanchor": "center",
          "xref": "paper",
          "y": 1,
          "yanchor": "bottom",
          "yref": "paper"
         },
         {
          "showarrow": false,
          "text": "hg38->dm6",
          "x": 0.37250000000000005,
          "xanchor": "center",
          "xref": "paper",
          "y": 1,
          "yanchor": "bottom",
          "yref": "paper"
         },
         {
          "showarrow": false,
          "text": "hg38->ce11",
          "x": 0.4575,
          "xanchor": "center",
          "xref": "paper",
          "y": 1,
          "yanchor": "bottom",
          "yref": "paper"
         },
         {
          "showarrow": false,
          "text": "dm6->mm10",
          "x": 0.5425,
          "xanchor": "center",
          "xref": "paper",
          "y": 1,
          "yanchor": "bottom",
          "yref": "paper"
         },
         {
          "showarrow": false,
          "text": "dm6->hg38",
          "x": 0.6275,
          "xanchor": "center",
          "xref": "paper",
          "y": 1,
          "yanchor": "bottom",
          "yref": "paper"
         },
         {
          "showarrow": false,
          "text": "dm6->ce11",
          "x": 0.7125000000000001,
          "xanchor": "center",
          "xref": "paper",
          "y": 1,
          "yanchor": "bottom",
          "yref": "paper"
         },
         {
          "showarrow": false,
          "text": "ce11->mm10",
          "x": 0.7974999999999999,
          "xanchor": "center",
          "xref": "paper",
          "y": 1,
          "yanchor": "bottom",
          "yref": "paper"
         },
         {
          "showarrow": false,
          "text": "ce11->hg38",
          "x": 0.8824999999999998,
          "xanchor": "center",
          "xref": "paper",
          "y": 1,
          "yanchor": "bottom",
          "yref": "paper"
         },
         {
          "showarrow": false,
          "text": "ce11->dm6",
          "x": 0.9674999999999998,
          "xanchor": "center",
          "xref": "paper",
          "y": 1,
          "yanchor": "bottom",
          "yref": "paper"
         },
         {
          "showarrow": false,
          "text": "metric",
          "x": 0.5,
          "xref": "paper",
          "y": -0.25,
          "yref": "paper"
         }
        ],
        "barmode": "group",
        "height": 400,
        "legend": {
         "title": {
          "text": "method"
         },
         "tracegroupgap": 0
        },
        "margin": {
         "b": 10,
         "l": 10,
         "r": 10,
         "t": 50
        },
        "template": {
         "data": {
          "bar": [
           {
            "error_x": {
             "color": "#2a3f5f"
            },
            "error_y": {
             "color": "#2a3f5f"
            },
            "marker": {
             "line": {
              "color": "#E5ECF6",
              "width": 0.5
             },
             "pattern": {
              "fillmode": "overlay",
              "size": 10,
              "solidity": 0.2
             }
            },
            "type": "bar"
           }
          ],
          "barpolar": [
           {
            "marker": {
             "line": {
              "color": "#E5ECF6",
              "width": 0.5
             },
             "pattern": {
              "fillmode": "overlay",
              "size": 10,
              "solidity": 0.2
             }
            },
            "type": "barpolar"
           }
          ],
          "carpet": [
           {
            "aaxis": {
             "endlinecolor": "#2a3f5f",
             "gridcolor": "white",
             "linecolor": "white",
             "minorgridcolor": "white",
             "startlinecolor": "#2a3f5f"
            },
            "baxis": {
             "endlinecolor": "#2a3f5f",
             "gridcolor": "white",
             "linecolor": "white",
             "minorgridcolor": "white",
             "startlinecolor": "#2a3f5f"
            },
            "type": "carpet"
           }
          ],
          "choropleth": [
           {
            "colorbar": {
             "outlinewidth": 0,
             "ticks": ""
            },
            "type": "choropleth"
           }
          ],
          "contour": [
           {
            "colorbar": {
             "outlinewidth": 0,
             "ticks": ""
            },
            "colorscale": [
             [
              0,
              "#0d0887"
             ],
             [
              0.1111111111111111,
              "#46039f"
             ],
             [
              0.2222222222222222,
              "#7201a8"
             ],
             [
              0.3333333333333333,
              "#9c179e"
             ],
             [
              0.4444444444444444,
              "#bd3786"
             ],
             [
              0.5555555555555556,
              "#d8576b"
             ],
             [
              0.6666666666666666,
              "#ed7953"
             ],
             [
              0.7777777777777778,
              "#fb9f3a"
             ],
             [
              0.8888888888888888,
              "#fdca26"
             ],
             [
              1,
              "#f0f921"
             ]
            ],
            "type": "contour"
           }
          ],
          "contourcarpet": [
           {
            "colorbar": {
             "outlinewidth": 0,
             "ticks": ""
            },
            "type": "contourcarpet"
           }
          ],
          "heatmap": [
           {
            "colorbar": {
             "outlinewidth": 0,
             "ticks": ""
            },
            "colorscale": [
             [
              0,
              "#0d0887"
             ],
             [
              0.1111111111111111,
              "#46039f"
             ],
             [
              0.2222222222222222,
              "#7201a8"
             ],
             [
              0.3333333333333333,
              "#9c179e"
             ],
             [
              0.4444444444444444,
              "#bd3786"
             ],
             [
              0.5555555555555556,
              "#d8576b"
             ],
             [
              0.6666666666666666,
              "#ed7953"
             ],
             [
              0.7777777777777778,
              "#fb9f3a"
             ],
             [
              0.8888888888888888,
              "#fdca26"
             ],
             [
              1,
              "#f0f921"
             ]
            ],
            "type": "heatmap"
           }
          ],
          "heatmapgl": [
           {
            "colorbar": {
             "outlinewidth": 0,
             "ticks": ""
            },
            "colorscale": [
             [
              0,
              "#0d0887"
             ],
             [
              0.1111111111111111,
              "#46039f"
             ],
             [
              0.2222222222222222,
              "#7201a8"
             ],
             [
              0.3333333333333333,
              "#9c179e"
             ],
             [
              0.4444444444444444,
              "#bd3786"
             ],
             [
              0.5555555555555556,
              "#d8576b"
             ],
             [
              0.6666666666666666,
              "#ed7953"
             ],
             [
              0.7777777777777778,
              "#fb9f3a"
             ],
             [
              0.8888888888888888,
              "#fdca26"
             ],
             [
              1,
              "#f0f921"
             ]
            ],
            "type": "heatmapgl"
           }
          ],
          "histogram": [
           {
            "marker": {
             "pattern": {
              "fillmode": "overlay",
              "size": 10,
              "solidity": 0.2
             }
            },
            "type": "histogram"
           }
          ],
          "histogram2d": [
           {
            "colorbar": {
             "outlinewidth": 0,
             "ticks": ""
            },
            "colorscale": [
             [
              0,
              "#0d0887"
             ],
             [
              0.1111111111111111,
              "#46039f"
             ],
             [
              0.2222222222222222,
              "#7201a8"
             ],
             [
              0.3333333333333333,
              "#9c179e"
             ],
             [
              0.4444444444444444,
              "#bd3786"
             ],
             [
              0.5555555555555556,
              "#d8576b"
             ],
             [
              0.6666666666666666,
              "#ed7953"
             ],
             [
              0.7777777777777778,
              "#fb9f3a"
             ],
             [
              0.8888888888888888,
              "#fdca26"
             ],
             [
              1,
              "#f0f921"
             ]
            ],
            "type": "histogram2d"
           }
          ],
          "histogram2dcontour": [
           {
            "colorbar": {
             "outlinewidth": 0,
             "ticks": ""
            },
            "colorscale": [
             [
              0,
              "#0d0887"
             ],
             [
              0.1111111111111111,
              "#46039f"
             ],
             [
              0.2222222222222222,
              "#7201a8"
             ],
             [
              0.3333333333333333,
              "#9c179e"
             ],
             [
              0.4444444444444444,
              "#bd3786"
             ],
             [
              0.5555555555555556,
              "#d8576b"
             ],
             [
              0.6666666666666666,
              "#ed7953"
             ],
             [
              0.7777777777777778,
              "#fb9f3a"
             ],
             [
              0.8888888888888888,
              "#fdca26"
             ],
             [
              1,
              "#f0f921"
             ]
            ],
            "type": "histogram2dcontour"
           }
          ],
          "mesh3d": [
           {
            "colorbar": {
             "outlinewidth": 0,
             "ticks": ""
            },
            "type": "mesh3d"
           }
          ],
          "parcoords": [
           {
            "line": {
             "colorbar": {
              "outlinewidth": 0,
              "ticks": ""
             }
            },
            "type": "parcoords"
           }
          ],
          "pie": [
           {
            "automargin": true,
            "type": "pie"
           }
          ],
          "scatter": [
           {
            "fillpattern": {
             "fillmode": "overlay",
             "size": 10,
             "solidity": 0.2
            },
            "type": "scatter"
           }
          ],
          "scatter3d": [
           {
            "line": {
             "colorbar": {
              "outlinewidth": 0,
              "ticks": ""
             }
            },
            "marker": {
             "colorbar": {
              "outlinewidth": 0,
              "ticks": ""
             }
            },
            "type": "scatter3d"
           }
          ],
          "scattercarpet": [
           {
            "marker": {
             "colorbar": {
              "outlinewidth": 0,
              "ticks": ""
             }
            },
            "type": "scattercarpet"
           }
          ],
          "scattergeo": [
           {
            "marker": {
             "colorbar": {
              "outlinewidth": 0,
              "ticks": ""
             }
            },
            "type": "scattergeo"
           }
          ],
          "scattergl": [
           {
            "marker": {
             "colorbar": {
              "outlinewidth": 0,
              "ticks": ""
             }
            },
            "type": "scattergl"
           }
          ],
          "scattermapbox": [
           {
            "marker": {
             "colorbar": {
              "outlinewidth": 0,
              "ticks": ""
             }
            },
            "type": "scattermapbox"
           }
          ],
          "scatterpolar": [
           {
            "marker": {
             "colorbar": {
              "outlinewidth": 0,
              "ticks": ""
             }
            },
            "type": "scatterpolar"
           }
          ],
          "scatterpolargl": [
           {
            "marker": {
             "colorbar": {
              "outlinewidth": 0,
              "ticks": ""
             }
            },
            "type": "scatterpolargl"
           }
          ],
          "scatterternary": [
           {
            "marker": {
             "colorbar": {
              "outlinewidth": 0,
              "ticks": ""
             }
            },
            "type": "scatterternary"
           }
          ],
          "surface": [
           {
            "colorbar": {
             "outlinewidth": 0,
             "ticks": ""
            },
            "colorscale": [
             [
              0,
              "#0d0887"
             ],
             [
              0.1111111111111111,
              "#46039f"
             ],
             [
              0.2222222222222222,
              "#7201a8"
             ],
             [
              0.3333333333333333,
              "#9c179e"
             ],
             [
              0.4444444444444444,
              "#bd3786"
             ],
             [
              0.5555555555555556,
              "#d8576b"
             ],
             [
              0.6666666666666666,
              "#ed7953"
             ],
             [
              0.7777777777777778,
              "#fb9f3a"
             ],
             [
              0.8888888888888888,
              "#fdca26"
             ],
             [
              1,
              "#f0f921"
             ]
            ],
            "type": "surface"
           }
          ],
          "table": [
           {
            "cells": {
             "fill": {
              "color": "#EBF0F8"
             },
             "line": {
              "color": "white"
             }
            },
            "header": {
             "fill": {
              "color": "#C8D4E3"
             },
             "line": {
              "color": "white"
             }
            },
            "type": "table"
           }
          ]
         },
         "layout": {
          "annotationdefaults": {
           "arrowcolor": "#2a3f5f",
           "arrowhead": 0,
           "arrowwidth": 1
          },
          "autotypenumbers": "strict",
          "coloraxis": {
           "colorbar": {
            "outlinewidth": 0,
            "ticks": ""
           }
          },
          "colorscale": {
           "diverging": [
            [
             0,
             "#8e0152"
            ],
            [
             0.1,
             "#c51b7d"
            ],
            [
             0.2,
             "#de77ae"
            ],
            [
             0.3,
             "#f1b6da"
            ],
            [
             0.4,
             "#fde0ef"
            ],
            [
             0.5,
             "#f7f7f7"
            ],
            [
             0.6,
             "#e6f5d0"
            ],
            [
             0.7,
             "#b8e186"
            ],
            [
             0.8,
             "#7fbc41"
            ],
            [
             0.9,
             "#4d9221"
            ],
            [
             1,
             "#276419"
            ]
           ],
           "sequential": [
            [
             0,
             "#0d0887"
            ],
            [
             0.1111111111111111,
             "#46039f"
            ],
            [
             0.2222222222222222,
             "#7201a8"
            ],
            [
             0.3333333333333333,
             "#9c179e"
            ],
            [
             0.4444444444444444,
             "#bd3786"
            ],
            [
             0.5555555555555556,
             "#d8576b"
            ],
            [
             0.6666666666666666,
             "#ed7953"
            ],
            [
             0.7777777777777778,
             "#fb9f3a"
            ],
            [
             0.8888888888888888,
             "#fdca26"
            ],
            [
             1,
             "#f0f921"
            ]
           ],
           "sequentialminus": [
            [
             0,
             "#0d0887"
            ],
            [
             0.1111111111111111,
             "#46039f"
            ],
            [
             0.2222222222222222,
             "#7201a8"
            ],
            [
             0.3333333333333333,
             "#9c179e"
            ],
            [
             0.4444444444444444,
             "#bd3786"
            ],
            [
             0.5555555555555556,
             "#d8576b"
            ],
            [
             0.6666666666666666,
             "#ed7953"
            ],
            [
             0.7777777777777778,
             "#fb9f3a"
            ],
            [
             0.8888888888888888,
             "#fdca26"
            ],
            [
             1,
             "#f0f921"
            ]
           ]
          },
          "colorway": [
           "#636efa",
           "#EF553B",
           "#00cc96",
           "#ab63fa",
           "#FFA15A",
           "#19d3f3",
           "#FF6692",
           "#B6E880",
           "#FF97FF",
           "#FECB52"
          ],
          "font": {
           "color": "#2a3f5f"
          },
          "geo": {
           "bgcolor": "white",
           "lakecolor": "white",
           "landcolor": "#E5ECF6",
           "showlakes": true,
           "showland": true,
           "subunitcolor": "white"
          },
          "hoverlabel": {
           "align": "left"
          },
          "hovermode": "closest",
          "mapbox": {
           "style": "light"
          },
          "paper_bgcolor": "white",
          "plot_bgcolor": "#E5ECF6",
          "polar": {
           "angularaxis": {
            "gridcolor": "white",
            "linecolor": "white",
            "ticks": ""
           },
           "bgcolor": "#E5ECF6",
           "radialaxis": {
            "gridcolor": "white",
            "linecolor": "white",
            "ticks": ""
           }
          },
          "scene": {
           "xaxis": {
            "backgroundcolor": "#E5ECF6",
            "gridcolor": "white",
            "gridwidth": 2,
            "linecolor": "white",
            "showbackground": true,
            "ticks": "",
            "zerolinecolor": "white"
           },
           "yaxis": {
            "backgroundcolor": "#E5ECF6",
            "gridcolor": "white",
            "gridwidth": 2,
            "linecolor": "white",
            "showbackground": true,
            "ticks": "",
            "zerolinecolor": "white"
           },
           "zaxis": {
            "backgroundcolor": "#E5ECF6",
            "gridcolor": "white",
            "gridwidth": 2,
            "linecolor": "white",
            "showbackground": true,
            "ticks": "",
            "zerolinecolor": "white"
           }
          },
          "shapedefaults": {
           "line": {
            "color": "#2a3f5f"
           }
          },
          "ternary": {
           "aaxis": {
            "gridcolor": "white",
            "linecolor": "white",
            "ticks": ""
           },
           "baxis": {
            "gridcolor": "white",
            "linecolor": "white",
            "ticks": ""
           },
           "bgcolor": "#E5ECF6",
           "caxis": {
            "gridcolor": "white",
            "linecolor": "white",
            "ticks": ""
           }
          },
          "title": {
           "x": 0.05
          },
          "xaxis": {
           "automargin": true,
           "gridcolor": "white",
           "linecolor": "white",
           "ticks": "",
           "title": {
            "standoff": 15
           },
           "zerolinecolor": "white",
           "zerolinewidth": 2
          },
          "yaxis": {
           "automargin": true,
           "gridcolor": "white",
           "linecolor": "white",
           "ticks": "",
           "title": {
            "standoff": 15
           },
           "zerolinecolor": "white",
           "zerolinewidth": 2
          }
         }
        },
        "title": {
         "text": "His.ALL.05.H3K79me1.AllCell"
        },
        "width": 1800,
        "xaxis": {
         "anchor": "y",
         "domain": [
          0,
          0.065
         ],
         "title": {
          "text": ""
         }
        },
        "xaxis10": {
         "anchor": "y10",
         "domain": [
          0.7649999999999999,
          0.8299999999999998
         ],
         "matches": "x",
         "title": {
          "text": ""
         }
        },
        "xaxis11": {
         "anchor": "y11",
         "domain": [
          0.8499999999999999,
          0.9149999999999998
         ],
         "matches": "x",
         "title": {
          "text": ""
         }
        },
        "xaxis12": {
         "anchor": "y12",
         "domain": [
          0.9349999999999998,
          0.9999999999999998
         ],
         "matches": "x",
         "title": {
          "text": ""
         }
        },
        "xaxis2": {
         "anchor": "y2",
         "domain": [
          0.085,
          0.15000000000000002
         ],
         "matches": "x",
         "title": {
          "text": ""
         }
        },
        "xaxis3": {
         "anchor": "y3",
         "domain": [
          0.17,
          0.23500000000000001
         ],
         "matches": "x",
         "title": {
          "text": ""
         }
        },
        "xaxis4": {
         "anchor": "y4",
         "domain": [
          0.255,
          0.32
         ],
         "matches": "x",
         "title": {
          "text": ""
         }
        },
        "xaxis5": {
         "anchor": "y5",
         "domain": [
          0.34,
          0.405
         ],
         "matches": "x",
         "title": {
          "text": ""
         }
        },
        "xaxis6": {
         "anchor": "y6",
         "domain": [
          0.42500000000000004,
          0.49000000000000005
         ],
         "matches": "x",
         "title": {
          "text": ""
         }
        },
        "xaxis7": {
         "anchor": "y7",
         "domain": [
          0.51,
          0.575
         ],
         "matches": "x",
         "title": {
          "text": ""
         }
        },
        "xaxis8": {
         "anchor": "y8",
         "domain": [
          0.595,
          0.6599999999999999
         ],
         "matches": "x",
         "title": {
          "text": ""
         }
        },
        "xaxis9": {
         "anchor": "y9",
         "domain": [
          0.68,
          0.7450000000000001
         ],
         "matches": "x",
         "title": {
          "text": ""
         }
        },
        "yaxis": {
         "anchor": "x",
         "domain": [
          0,
          1
         ],
         "title": {
          "text": "diff"
         }
        },
        "yaxis10": {
         "anchor": "x10",
         "domain": [
          0,
          1
         ],
         "matches": "y",
         "showticklabels": false
        },
        "yaxis11": {
         "anchor": "x11",
         "domain": [
          0,
          1
         ],
         "matches": "y",
         "showticklabels": false
        },
        "yaxis12": {
         "anchor": "x12",
         "domain": [
          0,
          1
         ],
         "matches": "y",
         "showticklabels": false
        },
        "yaxis2": {
         "anchor": "x2",
         "domain": [
          0,
          1
         ],
         "matches": "y",
         "showticklabels": false
        },
        "yaxis3": {
         "anchor": "x3",
         "domain": [
          0,
          1
         ],
         "matches": "y",
         "showticklabels": false
        },
        "yaxis4": {
         "anchor": "x4",
         "domain": [
          0,
          1
         ],
         "matches": "y",
         "showticklabels": false
        },
        "yaxis5": {
         "anchor": "x5",
         "domain": [
          0,
          1
         ],
         "matches": "y",
         "showticklabels": false
        },
        "yaxis6": {
         "anchor": "x6",
         "domain": [
          0,
          1
         ],
         "matches": "y",
         "showticklabels": false
        },
        "yaxis7": {
         "anchor": "x7",
         "domain": [
          0,
          1
         ],
         "matches": "y",
         "showticklabels": false
        },
        "yaxis8": {
         "anchor": "x8",
         "domain": [
          0,
          1
         ],
         "matches": "y",
         "showticklabels": false
        },
        "yaxis9": {
         "anchor": "x9",
         "domain": [
          0,
          1
         ],
         "matches": "y",
         "showticklabels": false
        }
       }
      },
      "text/html": [
       "<div>                            <div id=\"5008527c-9472-44ab-876a-952a2cb40124\" class=\"plotly-graph-div\" style=\"height:400px; width:1800px;\"></div>            <script type=\"text/javascript\">                require([\"plotly\"], function(Plotly) {                    window.PLOTLYENV=window.PLOTLYENV || {};                                    if (document.getElementById(\"5008527c-9472-44ab-876a-952a2cb40124\")) {                    Plotly.newPlot(                        \"5008527c-9472-44ab-876a-952a2cb40124\",                        [{\"alignmentgroup\":\"True\",\"hovertemplate\":\"method=adda<br>data_name=mm10->hg38<br>metric=%{x}<br>diff=%{y}<extra></extra>\",\"legendgroup\":\"adda\",\"marker\":{\"color\":\"#636efa\",\"pattern\":{\"shape\":\"\"}},\"name\":\"adda\",\"offsetgroup\":\"adda\",\"orientation\":\"v\",\"showlegend\":true,\"textposition\":\"auto\",\"x\":[\"accuracy\",\"pr_auc\",\"roc_auc\"],\"xaxis\":\"x\",\"y\":[-7.3870000000000005,-9.530999999999999,-7.573],\"yaxis\":\"y\",\"type\":\"bar\"},{\"alignmentgroup\":\"True\",\"hovertemplate\":\"method=adda<br>data_name=mm10->dm6<br>metric=%{x}<br>diff=%{y}<extra></extra>\",\"legendgroup\":\"adda\",\"marker\":{\"color\":\"#636efa\",\"pattern\":{\"shape\":\"\"}},\"name\":\"adda\",\"offsetgroup\":\"adda\",\"orientation\":\"v\",\"showlegend\":false,\"textposition\":\"auto\",\"x\":[\"accuracy\",\"pr_auc\",\"roc_auc\"],\"xaxis\":\"x2\",\"y\":[1.2459999999999951,0.5039999999999907,-1.3319999999999936],\"yaxis\":\"y2\",\"type\":\"bar\"},{\"alignmentgroup\":\"True\",\"hovertemplate\":\"method=adda<br>data_name=mm10->ce11<br>metric=%{x}<br>diff=%{y}<extra></extra>\",\"legendgroup\":\"adda\",\"marker\":{\"color\":\"#636efa\",\"pattern\":{\"shape\":\"\"}},\"name\":\"adda\",\"offsetgroup\":\"adda\",\"orientation\":\"v\",\"showlegend\":false,\"textposition\":\"auto\",\"x\":[\"accuracy\",\"pr_auc\",\"roc_auc\"],\"xaxis\":\"x3\",\"y\":[4.402999999999999,4.292999999999999,11.265],\"yaxis\":\"y3\",\"type\":\"bar\"},{\"alignmentgroup\":\"True\",\"hovertemplate\":\"method=adda<br>data_name=hg38->mm10<br>metric=%{x}<br>diff=%{y}<extra></extra>\",\"legendgroup\":\"adda\",\"marker\":{\"color\":\"#636efa\",\"pattern\":{\"shape\":\"\"}},\"name\":\"adda\",\"offsetgroup\":\"adda\",\"orientation\":\"v\",\"showlegend\":false,\"textposition\":\"auto\",\"x\":[\"accuracy\",\"pr_auc\",\"roc_auc\"],\"xaxis\":\"x4\",\"y\":[0.11299999999999955,-0.18199999999998795,3.5520000000000067],\"yaxis\":\"y4\",\"type\":\"bar\"},{\"alignmentgroup\":\"True\",\"hovertemplate\":\"method=adda<br>data_name=hg38->dm6<br>metric=%{x}<br>diff=%{y}<extra></extra>\",\"legendgroup\":\"adda\",\"marker\":{\"color\":\"#636efa\",\"pattern\":{\"shape\":\"\"}},\"name\":\"adda\",\"offsetgroup\":\"adda\",\"orientation\":\"v\",\"showlegend\":false,\"textposition\":\"auto\",\"x\":[\"accuracy\",\"pr_auc\",\"roc_auc\"],\"xaxis\":\"x5\",\"y\":[1.2590000000000003,-0.11700000000000443,0.9120000000000061],\"yaxis\":\"y5\",\"type\":\"bar\"},{\"alignmentgroup\":\"True\",\"hovertemplate\":\"method=adda<br>data_name=hg38->ce11<br>metric=%{x}<br>diff=%{y}<extra></extra>\",\"legendgroup\":\"adda\",\"marker\":{\"color\":\"#636efa\",\"pattern\":{\"shape\":\"\"}},\"name\":\"adda\",\"offsetgroup\":\"adda\",\"orientation\":\"v\",\"showlegend\":false,\"textposition\":\"auto\",\"x\":[\"accuracy\",\"pr_auc\",\"roc_auc\"],\"xaxis\":\"x6\",\"y\":[-8.665,-0.5489999999999995,-0.02300000000000324],\"yaxis\":\"y6\",\"type\":\"bar\"},{\"alignmentgroup\":\"True\",\"hovertemplate\":\"method=adda<br>data_name=dm6->mm10<br>metric=%{x}<br>diff=%{y}<extra></extra>\",\"legendgroup\":\"adda\",\"marker\":{\"color\":\"#636efa\",\"pattern\":{\"shape\":\"\"}},\"name\":\"adda\",\"offsetgroup\":\"adda\",\"orientation\":\"v\",\"showlegend\":false,\"textposition\":\"auto\",\"x\":[\"accuracy\",\"pr_auc\",\"roc_auc\"],\"xaxis\":\"x7\",\"y\":[-3.6200000000000045,-4.293999999999997,-3.4980000000000047],\"yaxis\":\"y7\",\"type\":\"bar\"},{\"alignmentgroup\":\"True\",\"hovertemplate\":\"method=adda<br>data_name=dm6->hg38<br>metric=%{x}<br>diff=%{y}<extra></extra>\",\"legendgroup\":\"adda\",\"marker\":{\"color\":\"#636efa\",\"pattern\":{\"shape\":\"\"}},\"name\":\"adda\",\"offsetgroup\":\"adda\",\"orientation\":\"v\",\"showlegend\":false,\"textposition\":\"auto\",\"x\":[\"accuracy\",\"pr_auc\",\"roc_auc\"],\"xaxis\":\"x8\",\"y\":[-5.6810000000000045,-14.922000000000004,-13.108000000000004],\"yaxis\":\"y8\",\"type\":\"bar\"},{\"alignmentgroup\":\"True\",\"hovertemplate\":\"method=adda<br>data_name=dm6->ce11<br>metric=%{x}<br>diff=%{y}<extra></extra>\",\"legendgroup\":\"adda\",\"marker\":{\"color\":\"#636efa\",\"pattern\":{\"shape\":\"\"}},\"name\":\"adda\",\"offsetgroup\":\"adda\",\"orientation\":\"v\",\"showlegend\":false,\"textposition\":\"auto\",\"x\":[\"accuracy\",\"pr_auc\",\"roc_auc\"],\"xaxis\":\"x9\",\"y\":[2.5559999999999974,-3.2209999999999965,7.097000000000008],\"yaxis\":\"y9\",\"type\":\"bar\"},{\"alignmentgroup\":\"True\",\"hovertemplate\":\"method=adda<br>data_name=ce11->mm10<br>metric=%{x}<br>diff=%{y}<extra></extra>\",\"legendgroup\":\"adda\",\"marker\":{\"color\":\"#636efa\",\"pattern\":{\"shape\":\"\"}},\"name\":\"adda\",\"offsetgroup\":\"adda\",\"orientation\":\"v\",\"showlegend\":false,\"textposition\":\"auto\",\"x\":[\"accuracy\",\"pr_auc\",\"roc_auc\"],\"xaxis\":\"x10\",\"y\":[-8.924,-9.097000000000001,-11.052000000000007],\"yaxis\":\"y10\",\"type\":\"bar\"},{\"alignmentgroup\":\"True\",\"hovertemplate\":\"method=adda<br>data_name=ce11->hg38<br>metric=%{x}<br>diff=%{y}<extra></extra>\",\"legendgroup\":\"adda\",\"marker\":{\"color\":\"#636efa\",\"pattern\":{\"shape\":\"\"}},\"name\":\"adda\",\"offsetgroup\":\"adda\",\"orientation\":\"v\",\"showlegend\":false,\"textposition\":\"auto\",\"x\":[\"accuracy\",\"pr_auc\",\"roc_auc\"],\"xaxis\":\"x11\",\"y\":[-3.408999999999999,-5.740000000000002,-2.0120000000000005],\"yaxis\":\"y11\",\"type\":\"bar\"},{\"alignmentgroup\":\"True\",\"hovertemplate\":\"method=adda<br>data_name=ce11->dm6<br>metric=%{x}<br>diff=%{y}<extra></extra>\",\"legendgroup\":\"adda\",\"marker\":{\"color\":\"#636efa\",\"pattern\":{\"shape\":\"\"}},\"name\":\"adda\",\"offsetgroup\":\"adda\",\"orientation\":\"v\",\"showlegend\":false,\"textposition\":\"auto\",\"x\":[\"accuracy\",\"pr_auc\",\"roc_auc\"],\"xaxis\":\"x12\",\"y\":[1.4169999999999945,0.36999999999999744,0.04800000000000182],\"yaxis\":\"y12\",\"type\":\"bar\"},{\"alignmentgroup\":\"True\",\"hovertemplate\":\"method=afn<br>data_name=mm10->hg38<br>metric=%{x}<br>diff=%{y}<extra></extra>\",\"legendgroup\":\"afn\",\"marker\":{\"color\":\"#EF553B\",\"pattern\":{\"shape\":\"\"}},\"name\":\"afn\",\"offsetgroup\":\"afn\",\"orientation\":\"v\",\"showlegend\":true,\"textposition\":\"auto\",\"x\":[\"accuracy\",\"pr_auc\",\"roc_auc\"],\"xaxis\":\"x\",\"y\":[-5.113999999999997,-9.003999999999998,-10.090000000000003],\"yaxis\":\"y\",\"type\":\"bar\"},{\"alignmentgroup\":\"True\",\"hovertemplate\":\"method=afn<br>data_name=mm10->dm6<br>metric=%{x}<br>diff=%{y}<extra></extra>\",\"legendgroup\":\"afn\",\"marker\":{\"color\":\"#EF553B\",\"pattern\":{\"shape\":\"\"}},\"name\":\"afn\",\"offsetgroup\":\"afn\",\"orientation\":\"v\",\"showlegend\":false,\"textposition\":\"auto\",\"x\":[\"accuracy\",\"pr_auc\",\"roc_auc\"],\"xaxis\":\"x2\",\"y\":[-4.069000000000003,2.3999999999999915,0.875],\"yaxis\":\"y2\",\"type\":\"bar\"},{\"alignmentgroup\":\"True\",\"hovertemplate\":\"method=afn<br>data_name=mm10->ce11<br>metric=%{x}<br>diff=%{y}<extra></extra>\",\"legendgroup\":\"afn\",\"marker\":{\"color\":\"#EF553B\",\"pattern\":{\"shape\":\"\"}},\"name\":\"afn\",\"offsetgroup\":\"afn\",\"orientation\":\"v\",\"showlegend\":false,\"textposition\":\"auto\",\"x\":[\"accuracy\",\"pr_auc\",\"roc_auc\"],\"xaxis\":\"x3\",\"y\":[-8.239000000000004,-7.411999999999999,-7.536999999999999],\"yaxis\":\"y3\",\"type\":\"bar\"},{\"alignmentgroup\":\"True\",\"hovertemplate\":\"method=afn<br>data_name=hg38->mm10<br>metric=%{x}<br>diff=%{y}<extra></extra>\",\"legendgroup\":\"afn\",\"marker\":{\"color\":\"#EF553B\",\"pattern\":{\"shape\":\"\"}},\"name\":\"afn\",\"offsetgroup\":\"afn\",\"orientation\":\"v\",\"showlegend\":false,\"textposition\":\"auto\",\"x\":[\"accuracy\",\"pr_auc\",\"roc_auc\"],\"xaxis\":\"x4\",\"y\":[4.677999999999997,1.0470000000000113,1.9230000000000018],\"yaxis\":\"y4\",\"type\":\"bar\"},{\"alignmentgroup\":\"True\",\"hovertemplate\":\"method=afn<br>data_name=hg38->dm6<br>metric=%{x}<br>diff=%{y}<extra></extra>\",\"legendgroup\":\"afn\",\"marker\":{\"color\":\"#EF553B\",\"pattern\":{\"shape\":\"\"}},\"name\":\"afn\",\"offsetgroup\":\"afn\",\"orientation\":\"v\",\"showlegend\":false,\"textposition\":\"auto\",\"x\":[\"accuracy\",\"pr_auc\",\"roc_auc\"],\"xaxis\":\"x5\",\"y\":[0.6199999999999974,0.22400000000000375,-0.7259999999999991],\"yaxis\":\"y5\",\"type\":\"bar\"},{\"alignmentgroup\":\"True\",\"hovertemplate\":\"method=afn<br>data_name=hg38->ce11<br>metric=%{x}<br>diff=%{y}<extra></extra>\",\"legendgroup\":\"afn\",\"marker\":{\"color\":\"#EF553B\",\"pattern\":{\"shape\":\"\"}},\"name\":\"afn\",\"offsetgroup\":\"afn\",\"orientation\":\"v\",\"showlegend\":false,\"textposition\":\"auto\",\"x\":[\"accuracy\",\"pr_auc\",\"roc_auc\"],\"xaxis\":\"x6\",\"y\":[-3.125,-1.0959999999999965,0.21300000000000097],\"yaxis\":\"y6\",\"type\":\"bar\"},{\"alignmentgroup\":\"True\",\"hovertemplate\":\"method=afn<br>data_name=dm6->mm10<br>metric=%{x}<br>diff=%{y}<extra></extra>\",\"legendgroup\":\"afn\",\"marker\":{\"color\":\"#EF553B\",\"pattern\":{\"shape\":\"\"}},\"name\":\"afn\",\"offsetgroup\":\"afn\",\"orientation\":\"v\",\"showlegend\":false,\"textposition\":\"auto\",\"x\":[\"accuracy\",\"pr_auc\",\"roc_auc\"],\"xaxis\":\"x7\",\"y\":[0.9650000000000034,2.703000000000003,1.0210000000000008],\"yaxis\":\"y7\",\"type\":\"bar\"},{\"alignmentgroup\":\"True\",\"hovertemplate\":\"method=afn<br>data_name=dm6->hg38<br>metric=%{x}<br>diff=%{y}<extra></extra>\",\"legendgroup\":\"afn\",\"marker\":{\"color\":\"#EF553B\",\"pattern\":{\"shape\":\"\"}},\"name\":\"afn\",\"offsetgroup\":\"afn\",\"orientation\":\"v\",\"showlegend\":false,\"textposition\":\"auto\",\"x\":[\"accuracy\",\"pr_auc\",\"roc_auc\"],\"xaxis\":\"x8\",\"y\":[-4.545000000000002,-8.319000000000003,-5.533000000000001],\"yaxis\":\"y8\",\"type\":\"bar\"},{\"alignmentgroup\":\"True\",\"hovertemplate\":\"method=afn<br>data_name=dm6->ce11<br>metric=%{x}<br>diff=%{y}<extra></extra>\",\"legendgroup\":\"afn\",\"marker\":{\"color\":\"#EF553B\",\"pattern\":{\"shape\":\"\"}},\"name\":\"afn\",\"offsetgroup\":\"afn\",\"orientation\":\"v\",\"showlegend\":false,\"textposition\":\"auto\",\"x\":[\"accuracy\",\"pr_auc\",\"roc_auc\"],\"xaxis\":\"x9\",\"y\":[-0.8530000000000015,0.8840000000000003,8.391000000000005],\"yaxis\":\"y9\",\"type\":\"bar\"},{\"alignmentgroup\":\"True\",\"hovertemplate\":\"method=afn<br>data_name=ce11->mm10<br>metric=%{x}<br>diff=%{y}<extra></extra>\",\"legendgroup\":\"afn\",\"marker\":{\"color\":\"#EF553B\",\"pattern\":{\"shape\":\"\"}},\"name\":\"afn\",\"offsetgroup\":\"afn\",\"orientation\":\"v\",\"showlegend\":false,\"textposition\":\"auto\",\"x\":[\"accuracy\",\"pr_auc\",\"roc_auc\"],\"xaxis\":\"x10\",\"y\":[2.176000000000002,6.923999999999992,3.191999999999993],\"yaxis\":\"y10\",\"type\":\"bar\"},{\"alignmentgroup\":\"True\",\"hovertemplate\":\"method=afn<br>data_name=ce11->hg38<br>metric=%{x}<br>diff=%{y}<extra></extra>\",\"legendgroup\":\"afn\",\"marker\":{\"color\":\"#EF553B\",\"pattern\":{\"shape\":\"\"}},\"name\":\"afn\",\"offsetgroup\":\"afn\",\"orientation\":\"v\",\"showlegend\":false,\"textposition\":\"auto\",\"x\":[\"accuracy\",\"pr_auc\",\"roc_auc\"],\"xaxis\":\"x11\",\"y\":[2.2730000000000032,-0.39399999999999835,-0.32200000000000273],\"yaxis\":\"y11\",\"type\":\"bar\"},{\"alignmentgroup\":\"True\",\"hovertemplate\":\"method=afn<br>data_name=ce11->dm6<br>metric=%{x}<br>diff=%{y}<extra></extra>\",\"legendgroup\":\"afn\",\"marker\":{\"color\":\"#EF553B\",\"pattern\":{\"shape\":\"\"}},\"name\":\"afn\",\"offsetgroup\":\"afn\",\"orientation\":\"v\",\"showlegend\":false,\"textposition\":\"auto\",\"x\":[\"accuracy\",\"pr_auc\",\"roc_auc\"],\"xaxis\":\"x12\",\"y\":[1.9199999999999946,3.414999999999999,1.985999999999997],\"yaxis\":\"y12\",\"type\":\"bar\"},{\"alignmentgroup\":\"True\",\"hovertemplate\":\"method=cdan<br>data_name=mm10->hg38<br>metric=%{x}<br>diff=%{y}<extra></extra>\",\"legendgroup\":\"cdan\",\"marker\":{\"color\":\"#00cc96\",\"pattern\":{\"shape\":\"\"}},\"name\":\"cdan\",\"offsetgroup\":\"cdan\",\"orientation\":\"v\",\"showlegend\":true,\"textposition\":\"auto\",\"x\":[\"accuracy\",\"pr_auc\",\"roc_auc\"],\"xaxis\":\"x\",\"y\":[1.1360000000000028,-3.625,-1.4380000000000024],\"yaxis\":\"y\",\"type\":\"bar\"},{\"alignmentgroup\":\"True\",\"hovertemplate\":\"method=cdan<br>data_name=mm10->dm6<br>metric=%{x}<br>diff=%{y}<extra></extra>\",\"legendgroup\":\"cdan\",\"marker\":{\"color\":\"#00cc96\",\"pattern\":{\"shape\":\"\"}},\"name\":\"cdan\",\"offsetgroup\":\"cdan\",\"orientation\":\"v\",\"showlegend\":false,\"textposition\":\"auto\",\"x\":[\"accuracy\",\"pr_auc\",\"roc_auc\"],\"xaxis\":\"x2\",\"y\":[2.730000000000004,2.328000000000003,2.081000000000003],\"yaxis\":\"y2\",\"type\":\"bar\"},{\"alignmentgroup\":\"True\",\"hovertemplate\":\"method=cdan<br>data_name=mm10->ce11<br>metric=%{x}<br>diff=%{y}<extra></extra>\",\"legendgroup\":\"cdan\",\"marker\":{\"color\":\"#00cc96\",\"pattern\":{\"shape\":\"\"}},\"name\":\"cdan\",\"offsetgroup\":\"cdan\",\"orientation\":\"v\",\"showlegend\":false,\"textposition\":\"auto\",\"x\":[\"accuracy\",\"pr_auc\",\"roc_auc\"],\"xaxis\":\"x3\",\"y\":[-3.5519999999999996,2.1300000000000026,3.881999999999998],\"yaxis\":\"y3\",\"type\":\"bar\"},{\"alignmentgroup\":\"True\",\"hovertemplate\":\"method=cdan<br>data_name=hg38->mm10<br>metric=%{x}<br>diff=%{y}<extra></extra>\",\"legendgroup\":\"cdan\",\"marker\":{\"color\":\"#00cc96\",\"pattern\":{\"shape\":\"\"}},\"name\":\"cdan\",\"offsetgroup\":\"cdan\",\"orientation\":\"v\",\"showlegend\":false,\"textposition\":\"auto\",\"x\":[\"accuracy\",\"pr_auc\",\"roc_auc\"],\"xaxis\":\"x4\",\"y\":[-4.170999999999999,-9.158000000000001,-7.378],\"yaxis\":\"y4\",\"type\":\"bar\"},{\"alignmentgroup\":\"True\",\"hovertemplate\":\"method=cdan<br>data_name=hg38->dm6<br>metric=%{x}<br>diff=%{y}<extra></extra>\",\"legendgroup\":\"cdan\",\"marker\":{\"color\":\"#00cc96\",\"pattern\":{\"shape\":\"\"}},\"name\":\"cdan\",\"offsetgroup\":\"cdan\",\"orientation\":\"v\",\"showlegend\":false,\"textposition\":\"auto\",\"x\":[\"accuracy\",\"pr_auc\",\"roc_auc\"],\"xaxis\":\"x5\",\"y\":[-3.8759999999999977,-5.493000000000002,-6.809999999999995],\"yaxis\":\"y5\",\"type\":\"bar\"},{\"alignmentgroup\":\"True\",\"hovertemplate\":\"method=cdan<br>data_name=hg38->ce11<br>metric=%{x}<br>diff=%{y}<extra></extra>\",\"legendgroup\":\"cdan\",\"marker\":{\"color\":\"#00cc96\",\"pattern\":{\"shape\":\"\"}},\"name\":\"cdan\",\"offsetgroup\":\"cdan\",\"orientation\":\"v\",\"showlegend\":false,\"textposition\":\"auto\",\"x\":[\"accuracy\",\"pr_auc\",\"roc_auc\"],\"xaxis\":\"x6\",\"y\":[-6.676000000000002,-6.867999999999995,5.110999999999997],\"yaxis\":\"y6\",\"type\":\"bar\"},{\"alignmentgroup\":\"True\",\"hovertemplate\":\"method=cdan<br>data_name=dm6->mm10<br>metric=%{x}<br>diff=%{y}<extra></extra>\",\"legendgroup\":\"cdan\",\"marker\":{\"color\":\"#00cc96\",\"pattern\":{\"shape\":\"\"}},\"name\":\"cdan\",\"offsetgroup\":\"cdan\",\"orientation\":\"v\",\"showlegend\":false,\"textposition\":\"auto\",\"x\":[\"accuracy\",\"pr_auc\",\"roc_auc\"],\"xaxis\":\"x7\",\"y\":[-7.930999999999997,-9.953999999999994,-7.629000000000005],\"yaxis\":\"y7\",\"type\":\"bar\"},{\"alignmentgroup\":\"True\",\"hovertemplate\":\"method=cdan<br>data_name=dm6->hg38<br>metric=%{x}<br>diff=%{y}<extra></extra>\",\"legendgroup\":\"cdan\",\"marker\":{\"color\":\"#00cc96\",\"pattern\":{\"shape\":\"\"}},\"name\":\"cdan\",\"offsetgroup\":\"cdan\",\"orientation\":\"v\",\"showlegend\":false,\"textposition\":\"auto\",\"x\":[\"accuracy\",\"pr_auc\",\"roc_auc\"],\"xaxis\":\"x8\",\"y\":[-12.215000000000003,-10.070000000000007,-16.245000000000005],\"yaxis\":\"y8\",\"type\":\"bar\"},{\"alignmentgroup\":\"True\",\"hovertemplate\":\"method=cdan<br>data_name=dm6->ce11<br>metric=%{x}<br>diff=%{y}<extra></extra>\",\"legendgroup\":\"cdan\",\"marker\":{\"color\":\"#00cc96\",\"pattern\":{\"shape\":\"\"}},\"name\":\"cdan\",\"offsetgroup\":\"cdan\",\"orientation\":\"v\",\"showlegend\":false,\"textposition\":\"auto\",\"x\":[\"accuracy\",\"pr_auc\",\"roc_auc\"],\"xaxis\":\"x9\",\"y\":[-8.097000000000001,-7.463999999999999,-8.411999999999999],\"yaxis\":\"y9\",\"type\":\"bar\"},{\"alignmentgroup\":\"True\",\"hovertemplate\":\"method=cdan<br>data_name=ce11->mm10<br>metric=%{x}<br>diff=%{y}<extra></extra>\",\"legendgroup\":\"cdan\",\"marker\":{\"color\":\"#00cc96\",\"pattern\":{\"shape\":\"\"}},\"name\":\"cdan\",\"offsetgroup\":\"cdan\",\"orientation\":\"v\",\"showlegend\":false,\"textposition\":\"auto\",\"x\":[\"accuracy\",\"pr_auc\",\"roc_auc\"],\"xaxis\":\"x10\",\"y\":[2.429000000000002,8.652000000000001,3.7510000000000048],\"yaxis\":\"y10\",\"type\":\"bar\"},{\"alignmentgroup\":\"True\",\"hovertemplate\":\"method=cdan<br>data_name=ce11->hg38<br>metric=%{x}<br>diff=%{y}<extra></extra>\",\"legendgroup\":\"cdan\",\"marker\":{\"color\":\"#00cc96\",\"pattern\":{\"shape\":\"\"}},\"name\":\"cdan\",\"offsetgroup\":\"cdan\",\"orientation\":\"v\",\"showlegend\":false,\"textposition\":\"auto\",\"x\":[\"accuracy\",\"pr_auc\",\"roc_auc\"],\"xaxis\":\"x11\",\"y\":[-2.556999999999995,-0.2980000000000018,0.9009999999999962],\"yaxis\":\"y11\",\"type\":\"bar\"},{\"alignmentgroup\":\"True\",\"hovertemplate\":\"method=cdan<br>data_name=ce11->dm6<br>metric=%{x}<br>diff=%{y}<extra></extra>\",\"legendgroup\":\"cdan\",\"marker\":{\"color\":\"#00cc96\",\"pattern\":{\"shape\":\"\"}},\"name\":\"cdan\",\"offsetgroup\":\"cdan\",\"orientation\":\"v\",\"showlegend\":false,\"textposition\":\"auto\",\"x\":[\"accuracy\",\"pr_auc\",\"roc_auc\"],\"xaxis\":\"x12\",\"y\":[0.8549999999999969,3.067999999999998,0.25900000000000034],\"yaxis\":\"y12\",\"type\":\"bar\"},{\"alignmentgroup\":\"True\",\"hovertemplate\":\"method=dan<br>data_name=mm10->hg38<br>metric=%{x}<br>diff=%{y}<extra></extra>\",\"legendgroup\":\"dan\",\"marker\":{\"color\":\"#ab63fa\",\"pattern\":{\"shape\":\"\"}},\"name\":\"dan\",\"offsetgroup\":\"dan\",\"orientation\":\"v\",\"showlegend\":true,\"textposition\":\"auto\",\"x\":[\"accuracy\",\"pr_auc\",\"roc_auc\"],\"xaxis\":\"x\",\"y\":[-3.4099999999999966,-5.611000000000004,-4.672000000000004],\"yaxis\":\"y\",\"type\":\"bar\"},{\"alignmentgroup\":\"True\",\"hovertemplate\":\"method=dan<br>data_name=mm10->dm6<br>metric=%{x}<br>diff=%{y}<extra></extra>\",\"legendgroup\":\"dan\",\"marker\":{\"color\":\"#ab63fa\",\"pattern\":{\"shape\":\"\"}},\"name\":\"dan\",\"offsetgroup\":\"dan\",\"orientation\":\"v\",\"showlegend\":false,\"textposition\":\"auto\",\"x\":[\"accuracy\",\"pr_auc\",\"roc_auc\"],\"xaxis\":\"x2\",\"y\":[2.756999999999991,2.5109999999999957,2.263999999999996],\"yaxis\":\"y2\",\"type\":\"bar\"},{\"alignmentgroup\":\"True\",\"hovertemplate\":\"method=dan<br>data_name=mm10->ce11<br>metric=%{x}<br>diff=%{y}<extra></extra>\",\"legendgroup\":\"dan\",\"marker\":{\"color\":\"#ab63fa\",\"pattern\":{\"shape\":\"\"}},\"name\":\"dan\",\"offsetgroup\":\"dan\",\"orientation\":\"v\",\"showlegend\":false,\"textposition\":\"auto\",\"x\":[\"accuracy\",\"pr_auc\",\"roc_auc\"],\"xaxis\":\"x3\",\"y\":[-6.961000000000006,-6.583999999999996,-1.3260000000000005],\"yaxis\":\"y3\",\"type\":\"bar\"},{\"alignmentgroup\":\"True\",\"hovertemplate\":\"method=dan<br>data_name=hg38->mm10<br>metric=%{x}<br>diff=%{y}<extra></extra>\",\"legendgroup\":\"dan\",\"marker\":{\"color\":\"#ab63fa\",\"pattern\":{\"shape\":\"\"}},\"name\":\"dan\",\"offsetgroup\":\"dan\",\"orientation\":\"v\",\"showlegend\":false,\"textposition\":\"auto\",\"x\":[\"accuracy\",\"pr_auc\",\"roc_auc\"],\"xaxis\":\"x4\",\"y\":[1.8739999999999952,-6.653999999999996,-1.2720000000000056],\"yaxis\":\"y4\",\"type\":\"bar\"},{\"alignmentgroup\":\"True\",\"hovertemplate\":\"method=dan<br>data_name=hg38->dm6<br>metric=%{x}<br>diff=%{y}<extra></extra>\",\"legendgroup\":\"dan\",\"marker\":{\"color\":\"#ab63fa\",\"pattern\":{\"shape\":\"\"}},\"name\":\"dan\",\"offsetgroup\":\"dan\",\"orientation\":\"v\",\"showlegend\":false,\"textposition\":\"auto\",\"x\":[\"accuracy\",\"pr_auc\",\"roc_auc\"],\"xaxis\":\"x5\",\"y\":[0.46300000000000097,0.45000000000000284,1.4040000000000106],\"yaxis\":\"y5\",\"type\":\"bar\"},{\"alignmentgroup\":\"True\",\"hovertemplate\":\"method=dan<br>data_name=hg38->ce11<br>metric=%{x}<br>diff=%{y}<extra></extra>\",\"legendgroup\":\"dan\",\"marker\":{\"color\":\"#ab63fa\",\"pattern\":{\"shape\":\"\"}},\"name\":\"dan\",\"offsetgroup\":\"dan\",\"orientation\":\"v\",\"showlegend\":false,\"textposition\":\"auto\",\"x\":[\"accuracy\",\"pr_auc\",\"roc_auc\"],\"xaxis\":\"x6\",\"y\":[-16.335,-13.416999999999994,-15.220999999999997],\"yaxis\":\"y6\",\"type\":\"bar\"},{\"alignmentgroup\":\"True\",\"hovertemplate\":\"method=dan<br>data_name=dm6->mm10<br>metric=%{x}<br>diff=%{y}<extra></extra>\",\"legendgroup\":\"dan\",\"marker\":{\"color\":\"#ab63fa\",\"pattern\":{\"shape\":\"\"}},\"name\":\"dan\",\"offsetgroup\":\"dan\",\"orientation\":\"v\",\"showlegend\":false,\"textposition\":\"auto\",\"x\":[\"accuracy\",\"pr_auc\",\"roc_auc\"],\"xaxis\":\"x7\",\"y\":[-5.063999999999993,-5.583999999999989,-2.7630000000000052],\"yaxis\":\"y7\",\"type\":\"bar\"},{\"alignmentgroup\":\"True\",\"hovertemplate\":\"method=dan<br>data_name=dm6->hg38<br>metric=%{x}<br>diff=%{y}<extra></extra>\",\"legendgroup\":\"dan\",\"marker\":{\"color\":\"#ab63fa\",\"pattern\":{\"shape\":\"\"}},\"name\":\"dan\",\"offsetgroup\":\"dan\",\"orientation\":\"v\",\"showlegend\":false,\"textposition\":\"auto\",\"x\":[\"accuracy\",\"pr_auc\",\"roc_auc\"],\"xaxis\":\"x8\",\"y\":[-5.6810000000000045,-8.497000000000007,-9.454],\"yaxis\":\"y8\",\"type\":\"bar\"},{\"alignmentgroup\":\"True\",\"hovertemplate\":\"method=dan<br>data_name=dm6->ce11<br>metric=%{x}<br>diff=%{y}<extra></extra>\",\"legendgroup\":\"dan\",\"marker\":{\"color\":\"#ab63fa\",\"pattern\":{\"shape\":\"\"}},\"name\":\"dan\",\"offsetgroup\":\"dan\",\"orientation\":\"v\",\"showlegend\":false,\"textposition\":\"auto\",\"x\":[\"accuracy\",\"pr_auc\",\"roc_auc\"],\"xaxis\":\"x9\",\"y\":[-5.966000000000001,-9.546,-15.207],\"yaxis\":\"y9\",\"type\":\"bar\"},{\"alignmentgroup\":\"True\",\"hovertemplate\":\"method=dan<br>data_name=ce11->mm10<br>metric=%{x}<br>diff=%{y}<extra></extra>\",\"legendgroup\":\"dan\",\"marker\":{\"color\":\"#ab63fa\",\"pattern\":{\"shape\":\"\"}},\"name\":\"dan\",\"offsetgroup\":\"dan\",\"orientation\":\"v\",\"showlegend\":false,\"textposition\":\"auto\",\"x\":[\"accuracy\",\"pr_auc\",\"roc_auc\"],\"xaxis\":\"x10\",\"y\":[-1.218999999999994,1.948999999999998,0.7579999999999956],\"yaxis\":\"y10\",\"type\":\"bar\"},{\"alignmentgroup\":\"True\",\"hovertemplate\":\"method=dan<br>data_name=ce11->hg38<br>metric=%{x}<br>diff=%{y}<extra></extra>\",\"legendgroup\":\"dan\",\"marker\":{\"color\":\"#ab63fa\",\"pattern\":{\"shape\":\"\"}},\"name\":\"dan\",\"offsetgroup\":\"dan\",\"orientation\":\"v\",\"showlegend\":false,\"textposition\":\"auto\",\"x\":[\"accuracy\",\"pr_auc\",\"roc_auc\"],\"xaxis\":\"x11\",\"y\":[-1.1359999999999957,-7.186999999999998,-6.147000000000006],\"yaxis\":\"y11\",\"type\":\"bar\"},{\"alignmentgroup\":\"True\",\"hovertemplate\":\"method=dan<br>data_name=ce11->dm6<br>metric=%{x}<br>diff=%{y}<extra></extra>\",\"legendgroup\":\"dan\",\"marker\":{\"color\":\"#ab63fa\",\"pattern\":{\"shape\":\"\"}},\"name\":\"dan\",\"offsetgroup\":\"dan\",\"orientation\":\"v\",\"showlegend\":false,\"textposition\":\"auto\",\"x\":[\"accuracy\",\"pr_auc\",\"roc_auc\"],\"xaxis\":\"x12\",\"y\":[1.8079999999999998,2.692,1.5110000000000028],\"yaxis\":\"y12\",\"type\":\"bar\"},{\"alignmentgroup\":\"True\",\"hovertemplate\":\"method=dann<br>data_name=mm10->hg38<br>metric=%{x}<br>diff=%{y}<extra></extra>\",\"legendgroup\":\"dann\",\"marker\":{\"color\":\"#FFA15A\",\"pattern\":{\"shape\":\"\"}},\"name\":\"dann\",\"offsetgroup\":\"dann\",\"orientation\":\"v\",\"showlegend\":true,\"textposition\":\"auto\",\"x\":[\"accuracy\",\"pr_auc\",\"roc_auc\"],\"xaxis\":\"x\",\"y\":[-3.9780000000000015,-8.396999999999998,-6.709000000000003],\"yaxis\":\"y\",\"type\":\"bar\"},{\"alignmentgroup\":\"True\",\"hovertemplate\":\"method=dann<br>data_name=mm10->dm6<br>metric=%{x}<br>diff=%{y}<extra></extra>\",\"legendgroup\":\"dann\",\"marker\":{\"color\":\"#FFA15A\",\"pattern\":{\"shape\":\"\"}},\"name\":\"dann\",\"offsetgroup\":\"dann\",\"orientation\":\"v\",\"showlegend\":false,\"textposition\":\"auto\",\"x\":[\"accuracy\",\"pr_auc\",\"roc_auc\"],\"xaxis\":\"x2\",\"y\":[2.576999999999998,2.274000000000001,1.5559999999999974],\"yaxis\":\"y2\",\"type\":\"bar\"},{\"alignmentgroup\":\"True\",\"hovertemplate\":\"method=dann<br>data_name=mm10->ce11<br>metric=%{x}<br>diff=%{y}<extra></extra>\",\"legendgroup\":\"dann\",\"marker\":{\"color\":\"#FFA15A\",\"pattern\":{\"shape\":\"\"}},\"name\":\"dann\",\"offsetgroup\":\"dann\",\"orientation\":\"v\",\"showlegend\":false,\"textposition\":\"auto\",\"x\":[\"accuracy\",\"pr_auc\",\"roc_auc\"],\"xaxis\":\"x3\",\"y\":[-7.813000000000002,-3.137999999999998,-1.3840000000000003],\"yaxis\":\"y3\",\"type\":\"bar\"},{\"alignmentgroup\":\"True\",\"hovertemplate\":\"method=dann<br>data_name=hg38->mm10<br>metric=%{x}<br>diff=%{y}<extra></extra>\",\"legendgroup\":\"dann\",\"marker\":{\"color\":\"#FFA15A\",\"pattern\":{\"shape\":\"\"}},\"name\":\"dann\",\"offsetgroup\":\"dann\",\"orientation\":\"v\",\"showlegend\":false,\"textposition\":\"auto\",\"x\":[\"accuracy\",\"pr_auc\",\"roc_auc\"],\"xaxis\":\"x4\",\"y\":[-5.8359999999999985,-12.852999999999994,-10.104],\"yaxis\":\"y4\",\"type\":\"bar\"},{\"alignmentgroup\":\"True\",\"hovertemplate\":\"method=dann<br>data_name=hg38->dm6<br>metric=%{x}<br>diff=%{y}<extra></extra>\",\"legendgroup\":\"dann\",\"marker\":{\"color\":\"#FFA15A\",\"pattern\":{\"shape\":\"\"}},\"name\":\"dann\",\"offsetgroup\":\"dann\",\"orientation\":\"v\",\"showlegend\":false,\"textposition\":\"auto\",\"x\":[\"accuracy\",\"pr_auc\",\"roc_auc\"],\"xaxis\":\"x5\",\"y\":[-5.225000000000001,-5.9410000000000025,-7.533999999999992],\"yaxis\":\"y5\",\"type\":\"bar\"},{\"alignmentgroup\":\"True\",\"hovertemplate\":\"method=dann<br>data_name=hg38->ce11<br>metric=%{x}<br>diff=%{y}<extra></extra>\",\"legendgroup\":\"dann\",\"marker\":{\"color\":\"#FFA15A\",\"pattern\":{\"shape\":\"\"}},\"name\":\"dann\",\"offsetgroup\":\"dann\",\"orientation\":\"v\",\"showlegend\":false,\"textposition\":\"auto\",\"x\":[\"accuracy\",\"pr_auc\",\"roc_auc\"],\"xaxis\":\"x6\",\"y\":[-9.801000000000002,-12.461999999999996,-5.908000000000001],\"yaxis\":\"y6\",\"type\":\"bar\"},{\"alignmentgroup\":\"True\",\"hovertemplate\":\"method=dann<br>data_name=dm6->mm10<br>metric=%{x}<br>diff=%{y}<extra></extra>\",\"legendgroup\":\"dann\",\"marker\":{\"color\":\"#FFA15A\",\"pattern\":{\"shape\":\"\"}},\"name\":\"dann\",\"offsetgroup\":\"dann\",\"orientation\":\"v\",\"showlegend\":false,\"textposition\":\"auto\",\"x\":[\"accuracy\",\"pr_auc\",\"roc_auc\"],\"xaxis\":\"x7\",\"y\":[-8.341999999999999,-10.006,-6.146000000000001],\"yaxis\":\"y7\",\"type\":\"bar\"},{\"alignmentgroup\":\"True\",\"hovertemplate\":\"method=dann<br>data_name=dm6->hg38<br>metric=%{x}<br>diff=%{y}<extra></extra>\",\"legendgroup\":\"dann\",\"marker\":{\"color\":\"#FFA15A\",\"pattern\":{\"shape\":\"\"}},\"name\":\"dann\",\"offsetgroup\":\"dann\",\"orientation\":\"v\",\"showlegend\":false,\"textposition\":\"auto\",\"x\":[\"accuracy\",\"pr_auc\",\"roc_auc\"],\"xaxis\":\"x8\",\"y\":[-13.636000000000003,-18.127000000000002,-20.567],\"yaxis\":\"y8\",\"type\":\"bar\"},{\"alignmentgroup\":\"True\",\"hovertemplate\":\"method=dann<br>data_name=dm6->ce11<br>metric=%{x}<br>diff=%{y}<extra></extra>\",\"legendgroup\":\"dann\",\"marker\":{\"color\":\"#FFA15A\",\"pattern\":{\"shape\":\"\"}},\"name\":\"dann\",\"offsetgroup\":\"dann\",\"orientation\":\"v\",\"showlegend\":false,\"textposition\":\"auto\",\"x\":[\"accuracy\",\"pr_auc\",\"roc_auc\"],\"xaxis\":\"x9\",\"y\":[-10.512,-8.716000000000001,-9.867999999999995],\"yaxis\":\"y9\",\"type\":\"bar\"},{\"alignmentgroup\":\"True\",\"hovertemplate\":\"method=dann<br>data_name=ce11->mm10<br>metric=%{x}<br>diff=%{y}<extra></extra>\",\"legendgroup\":\"dann\",\"marker\":{\"color\":\"#FFA15A\",\"pattern\":{\"shape\":\"\"}},\"name\":\"dann\",\"offsetgroup\":\"dann\",\"orientation\":\"v\",\"showlegend\":false,\"textposition\":\"auto\",\"x\":[\"accuracy\",\"pr_auc\",\"roc_auc\"],\"xaxis\":\"x10\",\"y\":[2.0150000000000006,8.637,3.6410000000000053],\"yaxis\":\"y10\",\"type\":\"bar\"},{\"alignmentgroup\":\"True\",\"hovertemplate\":\"method=dann<br>data_name=ce11->hg38<br>metric=%{x}<br>diff=%{y}<extra></extra>\",\"legendgroup\":\"dann\",\"marker\":{\"color\":\"#FFA15A\",\"pattern\":{\"shape\":\"\"}},\"name\":\"dann\",\"offsetgroup\":\"dann\",\"orientation\":\"v\",\"showlegend\":false,\"textposition\":\"auto\",\"x\":[\"accuracy\",\"pr_auc\",\"roc_auc\"],\"xaxis\":\"x11\",\"y\":[-1.9879999999999995,-7.685000000000002,-6.359000000000002],\"yaxis\":\"y11\",\"type\":\"bar\"},{\"alignmentgroup\":\"True\",\"hovertemplate\":\"method=dann<br>data_name=ce11->dm6<br>metric=%{x}<br>diff=%{y}<extra></extra>\",\"legendgroup\":\"dann\",\"marker\":{\"color\":\"#FFA15A\",\"pattern\":{\"shape\":\"\"}},\"name\":\"dann\",\"offsetgroup\":\"dann\",\"orientation\":\"v\",\"showlegend\":false,\"textposition\":\"auto\",\"x\":[\"accuracy\",\"pr_auc\",\"roc_auc\"],\"xaxis\":\"x12\",\"y\":[-1.5110000000000028,-0.11700000000000443,-2.128],\"yaxis\":\"y12\",\"type\":\"bar\"},{\"alignmentgroup\":\"True\",\"hovertemplate\":\"method=jan<br>data_name=mm10->hg38<br>metric=%{x}<br>diff=%{y}<extra></extra>\",\"legendgroup\":\"jan\",\"marker\":{\"color\":\"#19d3f3\",\"pattern\":{\"shape\":\"\"}},\"name\":\"jan\",\"offsetgroup\":\"jan\",\"orientation\":\"v\",\"showlegend\":true,\"textposition\":\"auto\",\"x\":[\"accuracy\",\"pr_auc\",\"roc_auc\"],\"xaxis\":\"x\",\"y\":[-8.238999999999997,-5.670000000000002,-4.837000000000003],\"yaxis\":\"y\",\"type\":\"bar\"},{\"alignmentgroup\":\"True\",\"hovertemplate\":\"method=jan<br>data_name=mm10->dm6<br>metric=%{x}<br>diff=%{y}<extra></extra>\",\"legendgroup\":\"jan\",\"marker\":{\"color\":\"#19d3f3\",\"pattern\":{\"shape\":\"\"}},\"name\":\"jan\",\"offsetgroup\":\"jan\",\"orientation\":\"v\",\"showlegend\":false,\"textposition\":\"auto\",\"x\":[\"accuracy\",\"pr_auc\",\"roc_auc\"],\"xaxis\":\"x2\",\"y\":[2.0959999999999965,2.1129999999999995,1.9399999999999977],\"yaxis\":\"y2\",\"type\":\"bar\"},{\"alignmentgroup\":\"True\",\"hovertemplate\":\"method=jan<br>data_name=mm10->ce11<br>metric=%{x}<br>diff=%{y}<extra></extra>\",\"legendgroup\":\"jan\",\"marker\":{\"color\":\"#19d3f3\",\"pattern\":{\"shape\":\"\"}},\"name\":\"jan\",\"offsetgroup\":\"jan\",\"orientation\":\"v\",\"showlegend\":false,\"textposition\":\"auto\",\"x\":[\"accuracy\",\"pr_auc\",\"roc_auc\"],\"xaxis\":\"x3\",\"y\":[-7.1030000000000015,-3.6409999999999982,-0.6430000000000007],\"yaxis\":\"y3\",\"type\":\"bar\"},{\"alignmentgroup\":\"True\",\"hovertemplate\":\"method=jan<br>data_name=hg38->mm10<br>metric=%{x}<br>diff=%{y}<extra></extra>\",\"legendgroup\":\"jan\",\"marker\":{\"color\":\"#19d3f3\",\"pattern\":{\"shape\":\"\"}},\"name\":\"jan\",\"offsetgroup\":\"jan\",\"orientation\":\"v\",\"showlegend\":false,\"textposition\":\"auto\",\"x\":[\"accuracy\",\"pr_auc\",\"roc_auc\"],\"xaxis\":\"x4\",\"y\":[-5.0760000000000005,-14.366,-9.585999999999999],\"yaxis\":\"y4\",\"type\":\"bar\"},{\"alignmentgroup\":\"True\",\"hovertemplate\":\"method=jan<br>data_name=hg38->dm6<br>metric=%{x}<br>diff=%{y}<extra></extra>\",\"legendgroup\":\"jan\",\"marker\":{\"color\":\"#19d3f3\",\"pattern\":{\"shape\":\"\"}},\"name\":\"jan\",\"offsetgroup\":\"jan\",\"orientation\":\"v\",\"showlegend\":false,\"textposition\":\"auto\",\"x\":[\"accuracy\",\"pr_auc\",\"roc_auc\"],\"xaxis\":\"x5\",\"y\":[-2.1769999999999996,-1.0219999999999985,-3.962999999999994],\"yaxis\":\"y5\",\"type\":\"bar\"},{\"alignmentgroup\":\"True\",\"hovertemplate\":\"method=jan<br>data_name=hg38->ce11<br>metric=%{x}<br>diff=%{y}<extra></extra>\",\"legendgroup\":\"jan\",\"marker\":{\"color\":\"#19d3f3\",\"pattern\":{\"shape\":\"\"}},\"name\":\"jan\",\"offsetgroup\":\"jan\",\"orientation\":\"v\",\"showlegend\":false,\"textposition\":\"auto\",\"x\":[\"accuracy\",\"pr_auc\",\"roc_auc\"],\"xaxis\":\"x6\",\"y\":[-13.352000000000004,-11.504999999999995,-9.238999999999997],\"yaxis\":\"y6\",\"type\":\"bar\"},{\"alignmentgroup\":\"True\",\"hovertemplate\":\"method=jan<br>data_name=dm6->mm10<br>metric=%{x}<br>diff=%{y}<extra></extra>\",\"legendgroup\":\"jan\",\"marker\":{\"color\":\"#19d3f3\",\"pattern\":{\"shape\":\"\"}},\"name\":\"jan\",\"offsetgroup\":\"jan\",\"orientation\":\"v\",\"showlegend\":false,\"textposition\":\"auto\",\"x\":[\"accuracy\",\"pr_auc\",\"roc_auc\"],\"xaxis\":\"x7\",\"y\":[-9.225999999999999,-13.001999999999995,-8.920000000000002],\"yaxis\":\"y7\",\"type\":\"bar\"},{\"alignmentgroup\":\"True\",\"hovertemplate\":\"method=jan<br>data_name=dm6->hg38<br>metric=%{x}<br>diff=%{y}<extra></extra>\",\"legendgroup\":\"jan\",\"marker\":{\"color\":\"#19d3f3\",\"pattern\":{\"shape\":\"\"}},\"name\":\"jan\",\"offsetgroup\":\"jan\",\"orientation\":\"v\",\"showlegend\":false,\"textposition\":\"auto\",\"x\":[\"accuracy\",\"pr_auc\",\"roc_auc\"],\"xaxis\":\"x8\",\"y\":[-11.646999999999998,-15.498000000000005,-17.918],\"yaxis\":\"y8\",\"type\":\"bar\"},{\"alignmentgroup\":\"True\",\"hovertemplate\":\"method=jan<br>data_name=dm6->ce11<br>metric=%{x}<br>diff=%{y}<extra></extra>\",\"legendgroup\":\"jan\",\"marker\":{\"color\":\"#19d3f3\",\"pattern\":{\"shape\":\"\"}},\"name\":\"jan\",\"offsetgroup\":\"jan\",\"orientation\":\"v\",\"showlegend\":false,\"textposition\":\"auto\",\"x\":[\"accuracy\",\"pr_auc\",\"roc_auc\"],\"xaxis\":\"x9\",\"y\":[-12.927,-14.21,-15.534999999999997],\"yaxis\":\"y9\",\"type\":\"bar\"},{\"alignmentgroup\":\"True\",\"hovertemplate\":\"method=jan<br>data_name=ce11->mm10<br>metric=%{x}<br>diff=%{y}<extra></extra>\",\"legendgroup\":\"jan\",\"marker\":{\"color\":\"#19d3f3\",\"pattern\":{\"shape\":\"\"}},\"name\":\"jan\",\"offsetgroup\":\"jan\",\"orientation\":\"v\",\"showlegend\":false,\"textposition\":\"auto\",\"x\":[\"accuracy\",\"pr_auc\",\"roc_auc\"],\"xaxis\":\"x10\",\"y\":[0.39799999999999613,8.727999999999994,3.218999999999994],\"yaxis\":\"y10\",\"type\":\"bar\"},{\"alignmentgroup\":\"True\",\"hovertemplate\":\"method=jan<br>data_name=ce11->hg38<br>metric=%{x}<br>diff=%{y}<extra></extra>\",\"legendgroup\":\"jan\",\"marker\":{\"color\":\"#19d3f3\",\"pattern\":{\"shape\":\"\"}},\"name\":\"jan\",\"offsetgroup\":\"jan\",\"orientation\":\"v\",\"showlegend\":false,\"textposition\":\"auto\",\"x\":[\"accuracy\",\"pr_auc\",\"roc_auc\"],\"xaxis\":\"x11\",\"y\":[-1.1359999999999957,-4.862000000000002,-2.977000000000004],\"yaxis\":\"y11\",\"type\":\"bar\"},{\"alignmentgroup\":\"True\",\"hovertemplate\":\"method=jan<br>data_name=ce11->dm6<br>metric=%{x}<br>diff=%{y}<extra></extra>\",\"legendgroup\":\"jan\",\"marker\":{\"color\":\"#19d3f3\",\"pattern\":{\"shape\":\"\"}},\"name\":\"jan\",\"offsetgroup\":\"jan\",\"orientation\":\"v\",\"showlegend\":false,\"textposition\":\"auto\",\"x\":[\"accuracy\",\"pr_auc\",\"roc_auc\"],\"xaxis\":\"x12\",\"y\":[2.702999999999996,7.154999999999994,2.9010000000000034],\"yaxis\":\"y12\",\"type\":\"bar\"},{\"alignmentgroup\":\"True\",\"hovertemplate\":\"method=mcc<br>data_name=mm10->hg38<br>metric=%{x}<br>diff=%{y}<extra></extra>\",\"legendgroup\":\"mcc\",\"marker\":{\"color\":\"#FF6692\",\"pattern\":{\"shape\":\"\"}},\"name\":\"mcc\",\"offsetgroup\":\"mcc\",\"orientation\":\"v\",\"showlegend\":true,\"textposition\":\"auto\",\"x\":[\"accuracy\",\"pr_auc\",\"roc_auc\"],\"xaxis\":\"x\",\"y\":[2.8090000000000046,0.33099999999999596,1.024000000000001],\"yaxis\":\"y\",\"type\":\"bar\"},{\"alignmentgroup\":\"True\",\"hovertemplate\":\"method=mcc<br>data_name=mm10->dm6<br>metric=%{x}<br>diff=%{y}<extra></extra>\",\"legendgroup\":\"mcc\",\"marker\":{\"color\":\"#FF6692\",\"pattern\":{\"shape\":\"\"}},\"name\":\"mcc\",\"offsetgroup\":\"mcc\",\"orientation\":\"v\",\"showlegend\":false,\"textposition\":\"auto\",\"x\":[\"accuracy\",\"pr_auc\",\"roc_auc\"],\"xaxis\":\"x2\",\"y\":[1.5779999999999959,0.8699999999999903,1.492999999999995],\"yaxis\":\"y2\",\"type\":\"bar\"},{\"alignmentgroup\":\"True\",\"hovertemplate\":\"method=mcc<br>data_name=mm10->ce11<br>metric=%{x}<br>diff=%{y}<extra></extra>\",\"legendgroup\":\"mcc\",\"marker\":{\"color\":\"#FF6692\",\"pattern\":{\"shape\":\"\"}},\"name\":\"mcc\",\"offsetgroup\":\"mcc\",\"orientation\":\"v\",\"showlegend\":false,\"textposition\":\"auto\",\"x\":[\"accuracy\",\"pr_auc\",\"roc_auc\"],\"xaxis\":\"x3\",\"y\":[-4.688000000000002,-2.891999999999996,-2.362000000000002],\"yaxis\":\"y3\",\"type\":\"bar\"},{\"alignmentgroup\":\"True\",\"hovertemplate\":\"method=mcc<br>data_name=hg38->mm10<br>metric=%{x}<br>diff=%{y}<extra></extra>\",\"legendgroup\":\"mcc\",\"marker\":{\"color\":\"#FF6692\",\"pattern\":{\"shape\":\"\"}},\"name\":\"mcc\",\"offsetgroup\":\"mcc\",\"orientation\":\"v\",\"showlegend\":false,\"textposition\":\"auto\",\"x\":[\"accuracy\",\"pr_auc\",\"roc_auc\"],\"xaxis\":\"x4\",\"y\":[-1.036999999999992,-4.589999999999989,-3.9939999999999998],\"yaxis\":\"y4\",\"type\":\"bar\"},{\"alignmentgroup\":\"True\",\"hovertemplate\":\"method=mcc<br>data_name=hg38->dm6<br>metric=%{x}<br>diff=%{y}<extra></extra>\",\"legendgroup\":\"mcc\",\"marker\":{\"color\":\"#FF6692\",\"pattern\":{\"shape\":\"\"}},\"name\":\"mcc\",\"offsetgroup\":\"mcc\",\"orientation\":\"v\",\"showlegend\":false,\"textposition\":\"auto\",\"x\":[\"accuracy\",\"pr_auc\",\"roc_auc\"],\"xaxis\":\"x5\",\"y\":[-1.536999999999999,-0.9390000000000001,-1.407999999999987],\"yaxis\":\"y5\",\"type\":\"bar\"},{\"alignmentgroup\":\"True\",\"hovertemplate\":\"method=mcc<br>data_name=hg38->ce11<br>metric=%{x}<br>diff=%{y}<extra></extra>\",\"legendgroup\":\"mcc\",\"marker\":{\"color\":\"#FF6692\",\"pattern\":{\"shape\":\"\"}},\"name\":\"mcc\",\"offsetgroup\":\"mcc\",\"orientation\":\"v\",\"showlegend\":false,\"textposition\":\"auto\",\"x\":[\"accuracy\",\"pr_auc\",\"roc_auc\"],\"xaxis\":\"x6\",\"y\":[-11.847999999999999,-12.033999999999999,-13.853000000000002],\"yaxis\":\"y6\",\"type\":\"bar\"},{\"alignmentgroup\":\"True\",\"hovertemplate\":\"method=mcc<br>data_name=dm6->mm10<br>metric=%{x}<br>diff=%{y}<extra></extra>\",\"legendgroup\":\"mcc\",\"marker\":{\"color\":\"#FF6692\",\"pattern\":{\"shape\":\"\"}},\"name\":\"mcc\",\"offsetgroup\":\"mcc\",\"orientation\":\"v\",\"showlegend\":false,\"textposition\":\"auto\",\"x\":[\"accuracy\",\"pr_auc\",\"roc_auc\"],\"xaxis\":\"x7\",\"y\":[-9.364000000000004,-10.367999999999995,-9.516999999999996],\"yaxis\":\"y7\",\"type\":\"bar\"},{\"alignmentgroup\":\"True\",\"hovertemplate\":\"method=mcc<br>data_name=dm6->hg38<br>metric=%{x}<br>diff=%{y}<extra></extra>\",\"legendgroup\":\"mcc\",\"marker\":{\"color\":\"#FF6692\",\"pattern\":{\"shape\":\"\"}},\"name\":\"mcc\",\"offsetgroup\":\"mcc\",\"orientation\":\"v\",\"showlegend\":false,\"textposition\":\"auto\",\"x\":[\"accuracy\",\"pr_auc\",\"roc_auc\"],\"xaxis\":\"x8\",\"y\":[-8.295000000000002,-13.482000000000006,-11.670000000000002],\"yaxis\":\"y8\",\"type\":\"bar\"},{\"alignmentgroup\":\"True\",\"hovertemplate\":\"method=mcc<br>data_name=dm6->ce11<br>metric=%{x}<br>diff=%{y}<extra></extra>\",\"legendgroup\":\"mcc\",\"marker\":{\"color\":\"#FF6692\",\"pattern\":{\"shape\":\"\"}},\"name\":\"mcc\",\"offsetgroup\":\"mcc\",\"orientation\":\"v\",\"showlegend\":false,\"textposition\":\"auto\",\"x\":[\"accuracy\",\"pr_auc\",\"roc_auc\"],\"xaxis\":\"x9\",\"y\":[-2.4580000000000055,-6.7520000000000024,-5.302],\"yaxis\":\"y9\",\"type\":\"bar\"},{\"alignmentgroup\":\"True\",\"hovertemplate\":\"method=mcc<br>data_name=ce11->mm10<br>metric=%{x}<br>diff=%{y}<extra></extra>\",\"legendgroup\":\"mcc\",\"marker\":{\"color\":\"#FF6692\",\"pattern\":{\"shape\":\"\"}},\"name\":\"mcc\",\"offsetgroup\":\"mcc\",\"orientation\":\"v\",\"showlegend\":false,\"textposition\":\"auto\",\"x\":[\"accuracy\",\"pr_auc\",\"roc_auc\"],\"xaxis\":\"x10\",\"y\":[3.4170000000000016,8.716999999999999,4.126000000000005],\"yaxis\":\"y10\",\"type\":\"bar\"},{\"alignmentgroup\":\"True\",\"hovertemplate\":\"method=mcc<br>data_name=ce11->hg38<br>metric=%{x}<br>diff=%{y}<extra></extra>\",\"legendgroup\":\"mcc\",\"marker\":{\"color\":\"#FF6692\",\"pattern\":{\"shape\":\"\"}},\"name\":\"mcc\",\"offsetgroup\":\"mcc\",\"orientation\":\"v\",\"showlegend\":false,\"textposition\":\"auto\",\"x\":[\"accuracy\",\"pr_auc\",\"roc_auc\"],\"xaxis\":\"x11\",\"y\":[-1.4079999999999941,-4.7620000000000005,-5.656000000000006],\"yaxis\":\"y11\",\"type\":\"bar\"},{\"alignmentgroup\":\"True\",\"hovertemplate\":\"method=mcc<br>data_name=ce11->dm6<br>metric=%{x}<br>diff=%{y}<extra></extra>\",\"legendgroup\":\"mcc\",\"marker\":{\"color\":\"#FF6692\",\"pattern\":{\"shape\":\"\"}},\"name\":\"mcc\",\"offsetgroup\":\"mcc\",\"orientation\":\"v\",\"showlegend\":false,\"textposition\":\"auto\",\"x\":[\"accuracy\",\"pr_auc\",\"roc_auc\"],\"xaxis\":\"x12\",\"y\":[2.6310000000000002,4.404999999999994,2.732999999999997],\"yaxis\":\"y12\",\"type\":\"bar\"},{\"alignmentgroup\":\"True\",\"hovertemplate\":\"method=mcd<br>data_name=mm10->hg38<br>metric=%{x}<br>diff=%{y}<extra></extra>\",\"legendgroup\":\"mcd\",\"marker\":{\"color\":\"#B6E880\",\"pattern\":{\"shape\":\"\"}},\"name\":\"mcd\",\"offsetgroup\":\"mcd\",\"orientation\":\"v\",\"showlegend\":true,\"textposition\":\"auto\",\"x\":[\"accuracy\",\"pr_auc\",\"roc_auc\"],\"xaxis\":\"x\",\"y\":[-5.113999999999997,-3.6910000000000025,-4.175000000000004],\"yaxis\":\"y\",\"type\":\"bar\"},{\"alignmentgroup\":\"True\",\"hovertemplate\":\"method=mcd<br>data_name=mm10->dm6<br>metric=%{x}<br>diff=%{y}<extra></extra>\",\"legendgroup\":\"mcd\",\"marker\":{\"color\":\"#B6E880\",\"pattern\":{\"shape\":\"\"}},\"name\":\"mcd\",\"offsetgroup\":\"mcd\",\"orientation\":\"v\",\"showlegend\":false,\"textposition\":\"auto\",\"x\":[\"accuracy\",\"pr_auc\",\"roc_auc\"],\"xaxis\":\"x2\",\"y\":[0.2839999999999989,2.9200000000000017,1.933000000000007],\"yaxis\":\"y2\",\"type\":\"bar\"},{\"alignmentgroup\":\"True\",\"hovertemplate\":\"method=mcd<br>data_name=mm10->ce11<br>metric=%{x}<br>diff=%{y}<extra></extra>\",\"legendgroup\":\"mcd\",\"marker\":{\"color\":\"#B6E880\",\"pattern\":{\"shape\":\"\"}},\"name\":\"mcd\",\"offsetgroup\":\"mcd\",\"orientation\":\"v\",\"showlegend\":false,\"textposition\":\"auto\",\"x\":[\"accuracy\",\"pr_auc\",\"roc_auc\"],\"xaxis\":\"x3\",\"y\":[-3.5519999999999996,-5.409999999999997,-4.601999999999997],\"yaxis\":\"y3\",\"type\":\"bar\"},{\"alignmentgroup\":\"True\",\"hovertemplate\":\"method=mcd<br>data_name=hg38->mm10<br>metric=%{x}<br>diff=%{y}<extra></extra>\",\"legendgroup\":\"mcd\",\"marker\":{\"color\":\"#B6E880\",\"pattern\":{\"shape\":\"\"}},\"name\":\"mcd\",\"offsetgroup\":\"mcd\",\"orientation\":\"v\",\"showlegend\":false,\"textposition\":\"auto\",\"x\":[\"accuracy\",\"pr_auc\",\"roc_auc\"],\"xaxis\":\"x4\",\"y\":[-1.1500000000000057,-7.346999999999994,-3.3419999999999987],\"yaxis\":\"y4\",\"type\":\"bar\"},{\"alignmentgroup\":\"True\",\"hovertemplate\":\"method=mcd<br>data_name=hg38->dm6<br>metric=%{x}<br>diff=%{y}<extra></extra>\",\"legendgroup\":\"mcd\",\"marker\":{\"color\":\"#B6E880\",\"pattern\":{\"shape\":\"\"}},\"name\":\"mcd\",\"offsetgroup\":\"mcd\",\"orientation\":\"v\",\"showlegend\":false,\"textposition\":\"auto\",\"x\":[\"accuracy\",\"pr_auc\",\"roc_auc\"],\"xaxis\":\"x5\",\"y\":[-0.43200000000000216,-2.0529999999999973,-0.26500000000000057],\"yaxis\":\"y5\",\"type\":\"bar\"},{\"alignmentgroup\":\"True\",\"hovertemplate\":\"method=mcd<br>data_name=hg38->ce11<br>metric=%{x}<br>diff=%{y}<extra></extra>\",\"legendgroup\":\"mcd\",\"marker\":{\"color\":\"#B6E880\",\"pattern\":{\"shape\":\"\"}},\"name\":\"mcd\",\"offsetgroup\":\"mcd\",\"orientation\":\"v\",\"showlegend\":false,\"textposition\":\"auto\",\"x\":[\"accuracy\",\"pr_auc\",\"roc_auc\"],\"xaxis\":\"x6\",\"y\":[-9.375,-6.471999999999994,-11.814999999999998],\"yaxis\":\"y6\",\"type\":\"bar\"},{\"alignmentgroup\":\"True\",\"hovertemplate\":\"method=mcd<br>data_name=dm6->mm10<br>metric=%{x}<br>diff=%{y}<extra></extra>\",\"legendgroup\":\"mcd\",\"marker\":{\"color\":\"#B6E880\",\"pattern\":{\"shape\":\"\"}},\"name\":\"mcd\",\"offsetgroup\":\"mcd\",\"orientation\":\"v\",\"showlegend\":false,\"textposition\":\"auto\",\"x\":[\"accuracy\",\"pr_auc\",\"roc_auc\"],\"xaxis\":\"x7\",\"y\":[2.3730000000000047,3.240000000000009,2.820999999999998],\"yaxis\":\"y7\",\"type\":\"bar\"},{\"alignmentgroup\":\"True\",\"hovertemplate\":\"method=mcd<br>data_name=dm6->hg38<br>metric=%{x}<br>diff=%{y}<extra></extra>\",\"legendgroup\":\"mcd\",\"marker\":{\"color\":\"#B6E880\",\"pattern\":{\"shape\":\"\"}},\"name\":\"mcd\",\"offsetgroup\":\"mcd\",\"orientation\":\"v\",\"showlegend\":false,\"textposition\":\"auto\",\"x\":[\"accuracy\",\"pr_auc\",\"roc_auc\"],\"xaxis\":\"x8\",\"y\":[-1.9879999999999995,-4.998000000000005,-2.358000000000004],\"yaxis\":\"y8\",\"type\":\"bar\"},{\"alignmentgroup\":\"True\",\"hovertemplate\":\"method=mcd<br>data_name=dm6->ce11<br>metric=%{x}<br>diff=%{y}<extra></extra>\",\"legendgroup\":\"mcd\",\"marker\":{\"color\":\"#B6E880\",\"pattern\":{\"shape\":\"\"}},\"name\":\"mcd\",\"offsetgroup\":\"mcd\",\"orientation\":\"v\",\"showlegend\":false,\"textposition\":\"auto\",\"x\":[\"accuracy\",\"pr_auc\",\"roc_auc\"],\"xaxis\":\"x9\",\"y\":[-4.688000000000002,7.864999999999995,13.093000000000004],\"yaxis\":\"y9\",\"type\":\"bar\"},{\"alignmentgroup\":\"True\",\"hovertemplate\":\"method=mcd<br>data_name=ce11->mm10<br>metric=%{x}<br>diff=%{y}<extra></extra>\",\"legendgroup\":\"mcd\",\"marker\":{\"color\":\"#B6E880\",\"pattern\":{\"shape\":\"\"}},\"name\":\"mcd\",\"offsetgroup\":\"mcd\",\"orientation\":\"v\",\"showlegend\":false,\"textposition\":\"auto\",\"x\":[\"accuracy\",\"pr_auc\",\"roc_auc\"],\"xaxis\":\"x10\",\"y\":[-3.6640000000000015,1.7270000000000039,1.8199999999999932],\"yaxis\":\"y10\",\"type\":\"bar\"},{\"alignmentgroup\":\"True\",\"hovertemplate\":\"method=mcd<br>data_name=ce11->hg38<br>metric=%{x}<br>diff=%{y}<extra></extra>\",\"legendgroup\":\"mcd\",\"marker\":{\"color\":\"#B6E880\",\"pattern\":{\"shape\":\"\"}},\"name\":\"mcd\",\"offsetgroup\":\"mcd\",\"orientation\":\"v\",\"showlegend\":false,\"textposition\":\"auto\",\"x\":[\"accuracy\",\"pr_auc\",\"roc_auc\"],\"xaxis\":\"x11\",\"y\":[1.9890000000000043,-1.791000000000004,-0.6069999999999993],\"yaxis\":\"y11\",\"type\":\"bar\"},{\"alignmentgroup\":\"True\",\"hovertemplate\":\"method=mcd<br>data_name=ce11->dm6<br>metric=%{x}<br>diff=%{y}<extra></extra>\",\"legendgroup\":\"mcd\",\"marker\":{\"color\":\"#B6E880\",\"pattern\":{\"shape\":\"\"}},\"name\":\"mcd\",\"offsetgroup\":\"mcd\",\"orientation\":\"v\",\"showlegend\":false,\"textposition\":\"auto\",\"x\":[\"accuracy\",\"pr_auc\",\"roc_auc\"],\"xaxis\":\"x12\",\"y\":[1.1829999999999998,2.1099999999999994,0.7939999999999969],\"yaxis\":\"y12\",\"type\":\"bar\"},{\"alignmentgroup\":\"True\",\"hovertemplate\":\"method=mdd<br>data_name=mm10->hg38<br>metric=%{x}<br>diff=%{y}<extra></extra>\",\"legendgroup\":\"mdd\",\"marker\":{\"color\":\"#FF97FF\",\"pattern\":{\"shape\":\"\"}},\"name\":\"mdd\",\"offsetgroup\":\"mdd\",\"orientation\":\"v\",\"showlegend\":true,\"textposition\":\"auto\",\"x\":[\"accuracy\",\"pr_auc\",\"roc_auc\"],\"xaxis\":\"x\",\"y\":[-3.125,-7.707999999999998,-7.172000000000004],\"yaxis\":\"y\",\"type\":\"bar\"},{\"alignmentgroup\":\"True\",\"hovertemplate\":\"method=mdd<br>data_name=mm10->dm6<br>metric=%{x}<br>diff=%{y}<extra></extra>\",\"legendgroup\":\"mdd\",\"marker\":{\"color\":\"#FF97FF\",\"pattern\":{\"shape\":\"\"}},\"name\":\"mdd\",\"offsetgroup\":\"mdd\",\"orientation\":\"v\",\"showlegend\":false,\"textposition\":\"auto\",\"x\":[\"accuracy\",\"pr_auc\",\"roc_auc\"],\"xaxis\":\"x2\",\"y\":[2.792999999999992,3.298000000000002,2.0700000000000074],\"yaxis\":\"y2\",\"type\":\"bar\"},{\"alignmentgroup\":\"True\",\"hovertemplate\":\"method=mdd<br>data_name=mm10->ce11<br>metric=%{x}<br>diff=%{y}<extra></extra>\",\"legendgroup\":\"mdd\",\"marker\":{\"color\":\"#FF97FF\",\"pattern\":{\"shape\":\"\"}},\"name\":\"mdd\",\"offsetgroup\":\"mdd\",\"orientation\":\"v\",\"showlegend\":false,\"textposition\":\"auto\",\"x\":[\"accuracy\",\"pr_auc\",\"roc_auc\"],\"xaxis\":\"x3\",\"y\":[-6.108000000000004,-5.411999999999999,-2.463000000000001],\"yaxis\":\"y3\",\"type\":\"bar\"},{\"alignmentgroup\":\"True\",\"hovertemplate\":\"method=mdd<br>data_name=hg38->mm10<br>metric=%{x}<br>diff=%{y}<extra></extra>\",\"legendgroup\":\"mdd\",\"marker\":{\"color\":\"#FF97FF\",\"pattern\":{\"shape\":\"\"}},\"name\":\"mdd\",\"offsetgroup\":\"mdd\",\"orientation\":\"v\",\"showlegend\":false,\"textposition\":\"auto\",\"x\":[\"accuracy\",\"pr_auc\",\"roc_auc\"],\"xaxis\":\"x4\",\"y\":[0.5310000000000059,-5.565999999999988,-1.6620000000000061],\"yaxis\":\"y4\",\"type\":\"bar\"},{\"alignmentgroup\":\"True\",\"hovertemplate\":\"method=mdd<br>data_name=hg38->dm6<br>metric=%{x}<br>diff=%{y}<extra></extra>\",\"legendgroup\":\"mdd\",\"marker\":{\"color\":\"#FF97FF\",\"pattern\":{\"shape\":\"\"}},\"name\":\"mdd\",\"offsetgroup\":\"mdd\",\"orientation\":\"v\",\"showlegend\":false,\"textposition\":\"auto\",\"x\":[\"accuracy\",\"pr_auc\",\"roc_auc\"],\"xaxis\":\"x5\",\"y\":[1.1370000000000005,0.06099999999999284,-0.001999999999995339],\"yaxis\":\"y5\",\"type\":\"bar\"},{\"alignmentgroup\":\"True\",\"hovertemplate\":\"method=mdd<br>data_name=hg38->ce11<br>metric=%{x}<br>diff=%{y}<extra></extra>\",\"legendgroup\":\"mdd\",\"marker\":{\"color\":\"#FF97FF\",\"pattern\":{\"shape\":\"\"}},\"name\":\"mdd\",\"offsetgroup\":\"mdd\",\"orientation\":\"v\",\"showlegend\":false,\"textposition\":\"auto\",\"x\":[\"accuracy\",\"pr_auc\",\"roc_auc\"],\"xaxis\":\"x6\",\"y\":[-2.557000000000002,-5.208999999999996,3.7620000000000005],\"yaxis\":\"y6\",\"type\":\"bar\"},{\"alignmentgroup\":\"True\",\"hovertemplate\":\"method=mdd<br>data_name=dm6->mm10<br>metric=%{x}<br>diff=%{y}<extra></extra>\",\"legendgroup\":\"mdd\",\"marker\":{\"color\":\"#FF97FF\",\"pattern\":{\"shape\":\"\"}},\"name\":\"mdd\",\"offsetgroup\":\"mdd\",\"orientation\":\"v\",\"showlegend\":false,\"textposition\":\"auto\",\"x\":[\"accuracy\",\"pr_auc\",\"roc_auc\"],\"xaxis\":\"x7\",\"y\":[-9.536000000000001,-10.212999999999994,-11.655000000000001],\"yaxis\":\"y7\",\"type\":\"bar\"},{\"alignmentgroup\":\"True\",\"hovertemplate\":\"method=mdd<br>data_name=dm6->hg38<br>metric=%{x}<br>diff=%{y}<extra></extra>\",\"legendgroup\":\"mdd\",\"marker\":{\"color\":\"#FF97FF\",\"pattern\":{\"shape\":\"\"}},\"name\":\"mdd\",\"offsetgroup\":\"mdd\",\"orientation\":\"v\",\"showlegend\":false,\"textposition\":\"auto\",\"x\":[\"accuracy\",\"pr_auc\",\"roc_auc\"],\"xaxis\":\"x8\",\"y\":[-5.3969999999999985,-8.054000000000002,-11.075000000000003],\"yaxis\":\"y8\",\"type\":\"bar\"},{\"alignmentgroup\":\"True\",\"hovertemplate\":\"method=mdd<br>data_name=dm6->ce11<br>metric=%{x}<br>diff=%{y}<extra></extra>\",\"legendgroup\":\"mdd\",\"marker\":{\"color\":\"#FF97FF\",\"pattern\":{\"shape\":\"\"}},\"name\":\"mdd\",\"offsetgroup\":\"mdd\",\"orientation\":\"v\",\"showlegend\":false,\"textposition\":\"auto\",\"x\":[\"accuracy\",\"pr_auc\",\"roc_auc\"],\"xaxis\":\"x9\",\"y\":[-8.949000000000005,-8.289000000000001,-1.7489999999999952],\"yaxis\":\"y9\",\"type\":\"bar\"},{\"alignmentgroup\":\"True\",\"hovertemplate\":\"method=mdd<br>data_name=ce11->mm10<br>metric=%{x}<br>diff=%{y}<extra></extra>\",\"legendgroup\":\"mdd\",\"marker\":{\"color\":\"#FF97FF\",\"pattern\":{\"shape\":\"\"}},\"name\":\"mdd\",\"offsetgroup\":\"mdd\",\"orientation\":\"v\",\"showlegend\":false,\"textposition\":\"auto\",\"x\":[\"accuracy\",\"pr_auc\",\"roc_auc\"],\"xaxis\":\"x10\",\"y\":[-0.7279999999999944,1.9269999999999925,1.7789999999999964],\"yaxis\":\"y10\",\"type\":\"bar\"},{\"alignmentgroup\":\"True\",\"hovertemplate\":\"method=mdd<br>data_name=ce11->hg38<br>metric=%{x}<br>diff=%{y}<extra></extra>\",\"legendgroup\":\"mdd\",\"marker\":{\"color\":\"#FF97FF\",\"pattern\":{\"shape\":\"\"}},\"name\":\"mdd\",\"offsetgroup\":\"mdd\",\"orientation\":\"v\",\"showlegend\":false,\"textposition\":\"auto\",\"x\":[\"accuracy\",\"pr_auc\",\"roc_auc\"],\"xaxis\":\"x11\",\"y\":[1.9890000000000043,-1.2460000000000022,2.6099999999999994],\"yaxis\":\"y11\",\"type\":\"bar\"},{\"alignmentgroup\":\"True\",\"hovertemplate\":\"method=mdd<br>data_name=ce11->dm6<br>metric=%{x}<br>diff=%{y}<extra></extra>\",\"legendgroup\":\"mdd\",\"marker\":{\"color\":\"#FF97FF\",\"pattern\":{\"shape\":\"\"}},\"name\":\"mdd\",\"offsetgroup\":\"mdd\",\"orientation\":\"v\",\"showlegend\":false,\"textposition\":\"auto\",\"x\":[\"accuracy\",\"pr_auc\",\"roc_auc\"],\"xaxis\":\"x12\",\"y\":[3.3499999999999943,3.701999999999998,3.2449999999999974],\"yaxis\":\"y12\",\"type\":\"bar\"}],                        {\"template\":{\"data\":{\"histogram2dcontour\":[{\"type\":\"histogram2dcontour\",\"colorbar\":{\"outlinewidth\":0,\"ticks\":\"\"},\"colorscale\":[[0.0,\"#0d0887\"],[0.1111111111111111,\"#46039f\"],[0.2222222222222222,\"#7201a8\"],[0.3333333333333333,\"#9c179e\"],[0.4444444444444444,\"#bd3786\"],[0.5555555555555556,\"#d8576b\"],[0.6666666666666666,\"#ed7953\"],[0.7777777777777778,\"#fb9f3a\"],[0.8888888888888888,\"#fdca26\"],[1.0,\"#f0f921\"]]}],\"choropleth\":[{\"type\":\"choropleth\",\"colorbar\":{\"outlinewidth\":0,\"ticks\":\"\"}}],\"histogram2d\":[{\"type\":\"histogram2d\",\"colorbar\":{\"outlinewidth\":0,\"ticks\":\"\"},\"colorscale\":[[0.0,\"#0d0887\"],[0.1111111111111111,\"#46039f\"],[0.2222222222222222,\"#7201a8\"],[0.3333333333333333,\"#9c179e\"],[0.4444444444444444,\"#bd3786\"],[0.5555555555555556,\"#d8576b\"],[0.6666666666666666,\"#ed7953\"],[0.7777777777777778,\"#fb9f3a\"],[0.8888888888888888,\"#fdca26\"],[1.0,\"#f0f921\"]]}],\"heatmap\":[{\"type\":\"heatmap\",\"colorbar\":{\"outlinewidth\":0,\"ticks\":\"\"},\"colorscale\":[[0.0,\"#0d0887\"],[0.1111111111111111,\"#46039f\"],[0.2222222222222222,\"#7201a8\"],[0.3333333333333333,\"#9c179e\"],[0.4444444444444444,\"#bd3786\"],[0.5555555555555556,\"#d8576b\"],[0.6666666666666666,\"#ed7953\"],[0.7777777777777778,\"#fb9f3a\"],[0.8888888888888888,\"#fdca26\"],[1.0,\"#f0f921\"]]}],\"heatmapgl\":[{\"type\":\"heatmapgl\",\"colorbar\":{\"outlinewidth\":0,\"ticks\":\"\"},\"colorscale\":[[0.0,\"#0d0887\"],[0.1111111111111111,\"#46039f\"],[0.2222222222222222,\"#7201a8\"],[0.3333333333333333,\"#9c179e\"],[0.4444444444444444,\"#bd3786\"],[0.5555555555555556,\"#d8576b\"],[0.6666666666666666,\"#ed7953\"],[0.7777777777777778,\"#fb9f3a\"],[0.8888888888888888,\"#fdca26\"],[1.0,\"#f0f921\"]]}],\"contourcarpet\":[{\"type\":\"contourcarpet\",\"colorbar\":{\"outlinewidth\":0,\"ticks\":\"\"}}],\"contour\":[{\"type\":\"contour\",\"colorbar\":{\"outlinewidth\":0,\"ticks\":\"\"},\"colorscale\":[[0.0,\"#0d0887\"],[0.1111111111111111,\"#46039f\"],[0.2222222222222222,\"#7201a8\"],[0.3333333333333333,\"#9c179e\"],[0.4444444444444444,\"#bd3786\"],[0.5555555555555556,\"#d8576b\"],[0.6666666666666666,\"#ed7953\"],[0.7777777777777778,\"#fb9f3a\"],[0.8888888888888888,\"#fdca26\"],[1.0,\"#f0f921\"]]}],\"surface\":[{\"type\":\"surface\",\"colorbar\":{\"outlinewidth\":0,\"ticks\":\"\"},\"colorscale\":[[0.0,\"#0d0887\"],[0.1111111111111111,\"#46039f\"],[0.2222222222222222,\"#7201a8\"],[0.3333333333333333,\"#9c179e\"],[0.4444444444444444,\"#bd3786\"],[0.5555555555555556,\"#d8576b\"],[0.6666666666666666,\"#ed7953\"],[0.7777777777777778,\"#fb9f3a\"],[0.8888888888888888,\"#fdca26\"],[1.0,\"#f0f921\"]]}],\"mesh3d\":[{\"type\":\"mesh3d\",\"colorbar\":{\"outlinewidth\":0,\"ticks\":\"\"}}],\"scatter\":[{\"fillpattern\":{\"fillmode\":\"overlay\",\"size\":10,\"solidity\":0.2},\"type\":\"scatter\"}],\"parcoords\":[{\"type\":\"parcoords\",\"line\":{\"colorbar\":{\"outlinewidth\":0,\"ticks\":\"\"}}}],\"scatterpolargl\":[{\"type\":\"scatterpolargl\",\"marker\":{\"colorbar\":{\"outlinewidth\":0,\"ticks\":\"\"}}}],\"bar\":[{\"error_x\":{\"color\":\"#2a3f5f\"},\"error_y\":{\"color\":\"#2a3f5f\"},\"marker\":{\"line\":{\"color\":\"#E5ECF6\",\"width\":0.5},\"pattern\":{\"fillmode\":\"overlay\",\"size\":10,\"solidity\":0.2}},\"type\":\"bar\"}],\"scattergeo\":[{\"type\":\"scattergeo\",\"marker\":{\"colorbar\":{\"outlinewidth\":0,\"ticks\":\"\"}}}],\"scatterpolar\":[{\"type\":\"scatterpolar\",\"marker\":{\"colorbar\":{\"outlinewidth\":0,\"ticks\":\"\"}}}],\"histogram\":[{\"marker\":{\"pattern\":{\"fillmode\":\"overlay\",\"size\":10,\"solidity\":0.2}},\"type\":\"histogram\"}],\"scattergl\":[{\"type\":\"scattergl\",\"marker\":{\"colorbar\":{\"outlinewidth\":0,\"ticks\":\"\"}}}],\"scatter3d\":[{\"type\":\"scatter3d\",\"line\":{\"colorbar\":{\"outlinewidth\":0,\"ticks\":\"\"}},\"marker\":{\"colorbar\":{\"outlinewidth\":0,\"ticks\":\"\"}}}],\"scattermapbox\":[{\"type\":\"scattermapbox\",\"marker\":{\"colorbar\":{\"outlinewidth\":0,\"ticks\":\"\"}}}],\"scatterternary\":[{\"type\":\"scatterternary\",\"marker\":{\"colorbar\":{\"outlinewidth\":0,\"ticks\":\"\"}}}],\"scattercarpet\":[{\"type\":\"scattercarpet\",\"marker\":{\"colorbar\":{\"outlinewidth\":0,\"ticks\":\"\"}}}],\"carpet\":[{\"aaxis\":{\"endlinecolor\":\"#2a3f5f\",\"gridcolor\":\"white\",\"linecolor\":\"white\",\"minorgridcolor\":\"white\",\"startlinecolor\":\"#2a3f5f\"},\"baxis\":{\"endlinecolor\":\"#2a3f5f\",\"gridcolor\":\"white\",\"linecolor\":\"white\",\"minorgridcolor\":\"white\",\"startlinecolor\":\"#2a3f5f\"},\"type\":\"carpet\"}],\"table\":[{\"cells\":{\"fill\":{\"color\":\"#EBF0F8\"},\"line\":{\"color\":\"white\"}},\"header\":{\"fill\":{\"color\":\"#C8D4E3\"},\"line\":{\"color\":\"white\"}},\"type\":\"table\"}],\"barpolar\":[{\"marker\":{\"line\":{\"color\":\"#E5ECF6\",\"width\":0.5},\"pattern\":{\"fillmode\":\"overlay\",\"size\":10,\"solidity\":0.2}},\"type\":\"barpolar\"}],\"pie\":[{\"automargin\":true,\"type\":\"pie\"}]},\"layout\":{\"autotypenumbers\":\"strict\",\"colorway\":[\"#636efa\",\"#EF553B\",\"#00cc96\",\"#ab63fa\",\"#FFA15A\",\"#19d3f3\",\"#FF6692\",\"#B6E880\",\"#FF97FF\",\"#FECB52\"],\"font\":{\"color\":\"#2a3f5f\"},\"hovermode\":\"closest\",\"hoverlabel\":{\"align\":\"left\"},\"paper_bgcolor\":\"white\",\"plot_bgcolor\":\"#E5ECF6\",\"polar\":{\"bgcolor\":\"#E5ECF6\",\"angularaxis\":{\"gridcolor\":\"white\",\"linecolor\":\"white\",\"ticks\":\"\"},\"radialaxis\":{\"gridcolor\":\"white\",\"linecolor\":\"white\",\"ticks\":\"\"}},\"ternary\":{\"bgcolor\":\"#E5ECF6\",\"aaxis\":{\"gridcolor\":\"white\",\"linecolor\":\"white\",\"ticks\":\"\"},\"baxis\":{\"gridcolor\":\"white\",\"linecolor\":\"white\",\"ticks\":\"\"},\"caxis\":{\"gridcolor\":\"white\",\"linecolor\":\"white\",\"ticks\":\"\"}},\"coloraxis\":{\"colorbar\":{\"outlinewidth\":0,\"ticks\":\"\"}},\"colorscale\":{\"sequential\":[[0.0,\"#0d0887\"],[0.1111111111111111,\"#46039f\"],[0.2222222222222222,\"#7201a8\"],[0.3333333333333333,\"#9c179e\"],[0.4444444444444444,\"#bd3786\"],[0.5555555555555556,\"#d8576b\"],[0.6666666666666666,\"#ed7953\"],[0.7777777777777778,\"#fb9f3a\"],[0.8888888888888888,\"#fdca26\"],[1.0,\"#f0f921\"]],\"sequentialminus\":[[0.0,\"#0d0887\"],[0.1111111111111111,\"#46039f\"],[0.2222222222222222,\"#7201a8\"],[0.3333333333333333,\"#9c179e\"],[0.4444444444444444,\"#bd3786\"],[0.5555555555555556,\"#d8576b\"],[0.6666666666666666,\"#ed7953\"],[0.7777777777777778,\"#fb9f3a\"],[0.8888888888888888,\"#fdca26\"],[1.0,\"#f0f921\"]],\"diverging\":[[0,\"#8e0152\"],[0.1,\"#c51b7d\"],[0.2,\"#de77ae\"],[0.3,\"#f1b6da\"],[0.4,\"#fde0ef\"],[0.5,\"#f7f7f7\"],[0.6,\"#e6f5d0\"],[0.7,\"#b8e186\"],[0.8,\"#7fbc41\"],[0.9,\"#4d9221\"],[1,\"#276419\"]]},\"xaxis\":{\"gridcolor\":\"white\",\"linecolor\":\"white\",\"ticks\":\"\",\"title\":{\"standoff\":15},\"zerolinecolor\":\"white\",\"automargin\":true,\"zerolinewidth\":2},\"yaxis\":{\"gridcolor\":\"white\",\"linecolor\":\"white\",\"ticks\":\"\",\"title\":{\"standoff\":15},\"zerolinecolor\":\"white\",\"automargin\":true,\"zerolinewidth\":2},\"scene\":{\"xaxis\":{\"backgroundcolor\":\"#E5ECF6\",\"gridcolor\":\"white\",\"linecolor\":\"white\",\"showbackground\":true,\"ticks\":\"\",\"zerolinecolor\":\"white\",\"gridwidth\":2},\"yaxis\":{\"backgroundcolor\":\"#E5ECF6\",\"gridcolor\":\"white\",\"linecolor\":\"white\",\"showbackground\":true,\"ticks\":\"\",\"zerolinecolor\":\"white\",\"gridwidth\":2},\"zaxis\":{\"backgroundcolor\":\"#E5ECF6\",\"gridcolor\":\"white\",\"linecolor\":\"white\",\"showbackground\":true,\"ticks\":\"\",\"zerolinecolor\":\"white\",\"gridwidth\":2}},\"shapedefaults\":{\"line\":{\"color\":\"#2a3f5f\"}},\"annotationdefaults\":{\"arrowcolor\":\"#2a3f5f\",\"arrowhead\":0,\"arrowwidth\":1},\"geo\":{\"bgcolor\":\"white\",\"landcolor\":\"#E5ECF6\",\"subunitcolor\":\"white\",\"showland\":true,\"showlakes\":true,\"lakecolor\":\"white\"},\"title\":{\"x\":0.05},\"mapbox\":{\"style\":\"light\"}}},\"xaxis\":{\"anchor\":\"y\",\"domain\":[0.0,0.065],\"title\":{\"text\":\"\"}},\"yaxis\":{\"anchor\":\"x\",\"domain\":[0.0,1.0],\"title\":{\"text\":\"diff\"}},\"xaxis2\":{\"anchor\":\"y2\",\"domain\":[0.085,0.15000000000000002],\"matches\":\"x\",\"title\":{\"text\":\"\"}},\"yaxis2\":{\"anchor\":\"x2\",\"domain\":[0.0,1.0],\"matches\":\"y\",\"showticklabels\":false},\"xaxis3\":{\"anchor\":\"y3\",\"domain\":[0.17,0.23500000000000001],\"matches\":\"x\",\"title\":{\"text\":\"\"}},\"yaxis3\":{\"anchor\":\"x3\",\"domain\":[0.0,1.0],\"matches\":\"y\",\"showticklabels\":false},\"xaxis4\":{\"anchor\":\"y4\",\"domain\":[0.255,0.32],\"matches\":\"x\",\"title\":{\"text\":\"\"}},\"yaxis4\":{\"anchor\":\"x4\",\"domain\":[0.0,1.0],\"matches\":\"y\",\"showticklabels\":false},\"xaxis5\":{\"anchor\":\"y5\",\"domain\":[0.34,0.405],\"matches\":\"x\",\"title\":{\"text\":\"\"}},\"yaxis5\":{\"anchor\":\"x5\",\"domain\":[0.0,1.0],\"matches\":\"y\",\"showticklabels\":false},\"xaxis6\":{\"anchor\":\"y6\",\"domain\":[0.42500000000000004,0.49000000000000005],\"matches\":\"x\",\"title\":{\"text\":\"\"}},\"yaxis6\":{\"anchor\":\"x6\",\"domain\":[0.0,1.0],\"matches\":\"y\",\"showticklabels\":false},\"xaxis7\":{\"anchor\":\"y7\",\"domain\":[0.51,0.575],\"matches\":\"x\",\"title\":{\"text\":\"\"}},\"yaxis7\":{\"anchor\":\"x7\",\"domain\":[0.0,1.0],\"matches\":\"y\",\"showticklabels\":false},\"xaxis8\":{\"anchor\":\"y8\",\"domain\":[0.595,0.6599999999999999],\"matches\":\"x\",\"title\":{\"text\":\"\"}},\"yaxis8\":{\"anchor\":\"x8\",\"domain\":[0.0,1.0],\"matches\":\"y\",\"showticklabels\":false},\"xaxis9\":{\"anchor\":\"y9\",\"domain\":[0.68,0.7450000000000001],\"matches\":\"x\",\"title\":{\"text\":\"\"}},\"yaxis9\":{\"anchor\":\"x9\",\"domain\":[0.0,1.0],\"matches\":\"y\",\"showticklabels\":false},\"xaxis10\":{\"anchor\":\"y10\",\"domain\":[0.7649999999999999,0.8299999999999998],\"matches\":\"x\",\"title\":{\"text\":\"\"}},\"yaxis10\":{\"anchor\":\"x10\",\"domain\":[0.0,1.0],\"matches\":\"y\",\"showticklabels\":false},\"xaxis11\":{\"anchor\":\"y11\",\"domain\":[0.8499999999999999,0.9149999999999998],\"matches\":\"x\",\"title\":{\"text\":\"\"}},\"yaxis11\":{\"anchor\":\"x11\",\"domain\":[0.0,1.0],\"matches\":\"y\",\"showticklabels\":false},\"xaxis12\":{\"anchor\":\"y12\",\"domain\":[0.9349999999999998,0.9999999999999998],\"matches\":\"x\",\"title\":{\"text\":\"\"}},\"yaxis12\":{\"anchor\":\"x12\",\"domain\":[0.0,1.0],\"matches\":\"y\",\"showticklabels\":false},\"annotations\":[{\"showarrow\":false,\"text\":\"mm10->hg38\",\"x\":0.0325,\"xanchor\":\"center\",\"xref\":\"paper\",\"y\":1.0,\"yanchor\":\"bottom\",\"yref\":\"paper\"},{\"showarrow\":false,\"text\":\"mm10->dm6\",\"x\":0.11750000000000002,\"xanchor\":\"center\",\"xref\":\"paper\",\"y\":1.0,\"yanchor\":\"bottom\",\"yref\":\"paper\"},{\"showarrow\":false,\"text\":\"mm10->ce11\",\"x\":0.2025,\"xanchor\":\"center\",\"xref\":\"paper\",\"y\":1.0,\"yanchor\":\"bottom\",\"yref\":\"paper\"},{\"showarrow\":false,\"text\":\"hg38->mm10\",\"x\":0.2875,\"xanchor\":\"center\",\"xref\":\"paper\",\"y\":1.0,\"yanchor\":\"bottom\",\"yref\":\"paper\"},{\"showarrow\":false,\"text\":\"hg38->dm6\",\"x\":0.37250000000000005,\"xanchor\":\"center\",\"xref\":\"paper\",\"y\":1.0,\"yanchor\":\"bottom\",\"yref\":\"paper\"},{\"showarrow\":false,\"text\":\"hg38->ce11\",\"x\":0.4575,\"xanchor\":\"center\",\"xref\":\"paper\",\"y\":1.0,\"yanchor\":\"bottom\",\"yref\":\"paper\"},{\"showarrow\":false,\"text\":\"dm6->mm10\",\"x\":0.5425,\"xanchor\":\"center\",\"xref\":\"paper\",\"y\":1.0,\"yanchor\":\"bottom\",\"yref\":\"paper\"},{\"showarrow\":false,\"text\":\"dm6->hg38\",\"x\":0.6275,\"xanchor\":\"center\",\"xref\":\"paper\",\"y\":1.0,\"yanchor\":\"bottom\",\"yref\":\"paper\"},{\"showarrow\":false,\"text\":\"dm6->ce11\",\"x\":0.7125000000000001,\"xanchor\":\"center\",\"xref\":\"paper\",\"y\":1.0,\"yanchor\":\"bottom\",\"yref\":\"paper\"},{\"showarrow\":false,\"text\":\"ce11->mm10\",\"x\":0.7974999999999999,\"xanchor\":\"center\",\"xref\":\"paper\",\"y\":1.0,\"yanchor\":\"bottom\",\"yref\":\"paper\"},{\"showarrow\":false,\"text\":\"ce11->hg38\",\"x\":0.8824999999999998,\"xanchor\":\"center\",\"xref\":\"paper\",\"y\":1.0,\"yanchor\":\"bottom\",\"yref\":\"paper\"},{\"showarrow\":false,\"text\":\"ce11->dm6\",\"x\":0.9674999999999998,\"xanchor\":\"center\",\"xref\":\"paper\",\"y\":1.0,\"yanchor\":\"bottom\",\"yref\":\"paper\"},{\"showarrow\":false,\"text\":\"metric\",\"x\":0.5,\"xref\":\"paper\",\"y\":-0.25,\"yref\":\"paper\"}],\"legend\":{\"title\":{\"text\":\"method\"},\"tracegroupgap\":0},\"margin\":{\"t\":50,\"l\":10,\"r\":10,\"b\":10},\"barmode\":\"group\",\"title\":{\"text\":\"His.ALL.05.H3K79me1.AllCell\"},\"height\":400,\"width\":1800},                        {\"responsive\": true}                    ).then(function(){\n",
       "                            \n",
       "var gd = document.getElementById('5008527c-9472-44ab-876a-952a2cb40124');\n",
       "var x = new MutationObserver(function (mutations, observer) {{\n",
       "        var display = window.getComputedStyle(gd).display;\n",
       "        if (!display || display === 'none') {{\n",
       "            console.log([gd, 'removed!']);\n",
       "            Plotly.purge(gd);\n",
       "            observer.disconnect();\n",
       "        }}\n",
       "}});\n",
       "\n",
       "// Listen for the removal of the full notebook cells\n",
       "var notebookContainer = gd.closest('#notebook-container');\n",
       "if (notebookContainer) {{\n",
       "    x.observe(notebookContainer, {childList: true});\n",
       "}}\n",
       "\n",
       "// Listen for the clearing of the current output cell\n",
       "var outputEl = gd.closest('.output');\n",
       "if (outputEl) {{\n",
       "    x.observe(outputEl, {childList: true});\n",
       "}}\n",
       "\n",
       "                        })                };                });            </script>        </div>"
      ]
     },
     "metadata": {},
     "output_type": "display_data"
    }
   ],
   "source": [
    "fig = px.bar(\n",
    "    plotly_df,\n",
    "    facet_col=\"data_name\",\n",
    "    x=\"metric\",\n",
    "    y=\"diff\",\n",
    "    color=\"method\",\n",
    "    barmode=\"group\",\n",
    ")\n",
    "fig.update_layout(\n",
    "    title=f'{list(total_dfs.keys())[0].rsplit(\".\", maxsplit=2)[0]}',\n",
    "    height=400,\n",
    "    width=1800,\n",
    "    margin=dict(l=10, r=10, t=50, b=10),\n",
    ")\n",
    "\n",
    "fig.for_each_annotation(lambda a: a.update(text=a.text.split(\"=\")[-1]))\n",
    "fig.for_each_xaxis(lambda y: y.update(title=\"\"))\n",
    "fig.add_annotation(\n",
    "    y=-0.25,\n",
    "    x=0.5,\n",
    "    text=\"metric\",\n",
    "    xref=\"paper\",\n",
    "    yref=\"paper\",\n",
    "    showarrow=False,\n",
    ")\n",
    "\n",
    "path_output = f'{dir_output}/{list(total_dfs.keys())[0].rsplit(\".\", maxsplit=2)[0]}'\n",
    "fig.write_html(f\"{path_output}.html\")\n",
    "fig.write_image(f\"{path_output}.png\")"
   ]
  }
 ],
 "metadata": {
  "kernelspec": {
   "display_name": "Python 3.10.4 ('tl')",
   "language": "python",
   "name": "python3"
  },
  "language_info": {
   "codemirror_mode": {
    "name": "ipython",
    "version": 3
   },
   "file_extension": ".py",
   "mimetype": "text/x-python",
   "name": "python",
   "nbconvert_exporter": "python",
   "pygments_lexer": "ipython3",
   "version": "3.10.9"
  },
  "orig_nbformat": 4,
  "vscode": {
   "interpreter": {
    "hash": "41fed1f608b70f7f3508aa70773415156e37575b8a614877fd4d9b66d299c973"
   }
  }
 },
 "nbformat": 4,
 "nbformat_minor": 2
}
